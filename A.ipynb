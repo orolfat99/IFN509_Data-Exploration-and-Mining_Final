{
  "cells": [
    {
      "cell_type": "code",
      "source": [
        "from google.colab import drive\n",
        "drive.mount('/content/drive')"
      ],
      "metadata": {
        "colab": {
          "base_uri": "https://localhost:8080/"
        },
        "id": "esTr3TRcrJYM",
        "outputId": "a7c987ed-f7a7-4628-ecdc-f92e0f0daa0d"
      },
      "id": "esTr3TRcrJYM",
      "execution_count": 1,
      "outputs": [
        {
          "output_type": "stream",
          "name": "stdout",
          "text": [
            "Mounted at /content/drive\n"
          ]
        }
      ]
    },
    {
      "cell_type": "code",
      "source": [
        "cd /content/drive/MyDrive/Australia/'QUT IT'/'IFN509 Data Exploration and Mining'/Ass2"
      ],
      "metadata": {
        "colab": {
          "base_uri": "https://localhost:8080/"
        },
        "id": "iPBPWs8Yq8qH",
        "outputId": "003f3e01-80cf-443f-80b4-a6bbe0eb2e67"
      },
      "id": "iPBPWs8Yq8qH",
      "execution_count": 19,
      "outputs": [
        {
          "output_type": "stream",
          "name": "stdout",
          "text": [
            "/content/drive/MyDrive/Australia/QUT IT/IFN509 Data Exploration and Mining/Ass2\n"
          ]
        }
      ]
    },
    {
      "cell_type": "code",
      "execution_count": 22,
      "id": "b093950e",
      "metadata": {
        "scrolled": true,
        "id": "b093950e"
      },
      "outputs": [],
      "source": [
        "# Load dataset from google drive\n",
        "import pandas as pd\n",
        "import numpy as np\n",
        "\n",
        "df = pd.read_csv('D1.csv')"
      ]
    },
    {
      "cell_type": "code",
      "execution_count": 23,
      "id": "bc0cfbc4",
      "metadata": {
        "scrolled": true,
        "colab": {
          "base_uri": "https://localhost:8080/"
        },
        "id": "bc0cfbc4",
        "outputId": "58cb2184-3a68-4f48-d36d-cce4eaf37ca1"
      },
      "outputs": [
        {
          "output_type": "stream",
          "name": "stdout",
          "text": [
            "Looking in indexes: https://pypi.org/simple, https://us-python.pkg.dev/colab-wheels/public/simple/\n",
            "Requirement already satisfied: apyori in /usr/local/lib/python3.7/dist-packages (1.1.2)\n"
          ]
        }
      ],
      "source": [
        "pip install apyori "
      ]
    },
    {
      "cell_type": "markdown",
      "id": "c91b5876",
      "metadata": {
        "id": "c91b5876"
      },
      "source": [
        "# 1"
      ]
    },
    {
      "cell_type": "code",
      "execution_count": 50,
      "id": "4dcce0d6",
      "metadata": {
        "id": "4dcce0d6"
      },
      "outputs": [],
      "source": [
        "df['Customer_ID']=df['Customer_ID'].astype(str)"
      ]
    },
    {
      "cell_type": "code",
      "execution_count": 51,
      "id": "10ab2923",
      "metadata": {
        "id": "10ab2923"
      },
      "outputs": [],
      "source": [
        "df['Sales_ID']=df['Sales_ID'].astype(str)"
      ]
    },
    {
      "cell_type": "code",
      "execution_count": 52,
      "id": "bf53622d",
      "metadata": {
        "scrolled": true,
        "colab": {
          "base_uri": "https://localhost:8080/"
        },
        "id": "bf53622d",
        "outputId": "d75a10f2-2b1a-45af-c5ef-c0e5ee3a0934"
      },
      "outputs": [
        {
          "output_type": "stream",
          "name": "stdout",
          "text": [
            "Sales_ID\n",
            "1             [X52]\n",
            "10       [N8U, JR5]\n",
            "100           [Q4N]\n",
            "1000          [N8U]\n",
            "10000         [B93]\n",
            "Name: SKU_Category, dtype: object\n"
          ]
        }
      ],
      "source": [
        "transactions1 = df.groupby(['Sales_ID'])['SKU_Category'].apply(list)\n",
        "print(transactions1.head(5))"
      ]
    },
    {
      "cell_type": "markdown",
      "id": "a61025c1",
      "metadata": {
        "id": "a61025c1"
      },
      "source": [
        "# 2"
      ]
    },
    {
      "cell_type": "code",
      "execution_count": 53,
      "id": "aa5f8abd",
      "metadata": {
        "colab": {
          "base_uri": "https://localhost:8080/"
        },
        "id": "aa5f8abd",
        "outputId": "73ebdf00-6199-4ea7-9892-479b8dd71671"
      },
      "outputs": [
        {
          "output_type": "stream",
          "name": "stdout",
          "text": [
            "[RelationRecord(items=frozenset({'01F'}), support=0.02682353668717727, ordered_statistics=[OrderedStatistic(items_base=frozenset(), items_add=frozenset({'01F'}), confidence=0.02682353668717727, lift=1.0)]), RelationRecord(items=frozenset({'0H2'}), support=0.06429918679076095, ordered_statistics=[OrderedStatistic(items_base=frozenset(), items_add=frozenset({'0H2'}), confidence=0.06429918679076095, lift=1.0)]), RelationRecord(items=frozenset({'0KX'}), support=0.006802510744874927, ordered_statistics=[OrderedStatistic(items_base=frozenset(), items_add=frozenset({'0KX'}), confidence=0.006802510744874927, lift=1.0)]), RelationRecord(items=frozenset({'0WT'}), support=0.010296527627469776, ordered_statistics=[OrderedStatistic(items_base=frozenset(), items_add=frozenset({'0WT'}), confidence=0.010296527627469776, lift=1.0)]), RelationRecord(items=frozenset({'1EO'}), support=0.013697782999907239, ordered_statistics=[OrderedStatistic(items_base=frozenset(), items_add=frozenset({'1EO'}), confidence=0.013697782999907239, lift=1.0)])]\n"
          ]
        }
      ],
      "source": [
        "from apyori import apriori\n",
        "# type cast the transactions from pandas into normal list format and run apriori\n",
        "transaction_list = list(transactions1)\n",
        "results = list(apriori(transaction_list, min_support=0.005))\n",
        "# print first 5 rules\n",
        "print(results[:5])\n"
      ]
    },
    {
      "cell_type": "code",
      "execution_count": 54,
      "id": "f27eba31",
      "metadata": {
        "id": "f27eba31"
      },
      "outputs": [],
      "source": [
        "def convert_apriori_results_to_pandas_df(results):\n",
        "    rules = []\n",
        "    \n",
        "    for rule_set in results:\n",
        "        for rule in rule_set.ordered_statistics:\n",
        "            # items_base = left side of rules, items_add = right side\n",
        "            # support, confidence and lift for respective rules\n",
        "            rules.append([','.join(rule.items_base), ','.join(rule.items_add),\n",
        "                         rule_set.support, rule.confidence, rule.lift]) \n",
        "    \n",
        "    # typecast it to pandas df\n",
        "    return pd.DataFrame(rules, columns=['Left_side', 'Right_side', 'Support', \n",
        "                                        'Confidence', 'Lift']) \n",
        "\n",
        "result_df = convert_apriori_results_to_pandas_df(results)\n"
      ]
    },
    {
      "cell_type": "code",
      "execution_count": 55,
      "id": "347ef9da",
      "metadata": {
        "colab": {
          "base_uri": "https://localhost:8080/"
        },
        "id": "347ef9da",
        "outputId": "632ad808-5fbc-4a50-d643-504456ac1d5b"
      },
      "outputs": [
        {
          "output_type": "stream",
          "name": "stdout",
          "text": [
            "    Left_side Right_side   Support  Confidence      Lift\n",
            "315   N8U,LPF        OXH  0.006973    0.413761  9.919540\n",
            "314       OXH    N8U,LPF  0.006973    0.167161  9.919540\n",
            "308   IEV,N8U        OXH  0.006076    0.396569  9.507370\n",
            "307       OXH    IEV,N8U  0.006076    0.145663  9.507370\n",
            "138       9ZX        FU5  0.007220    0.380293  9.100304\n",
            "139       FU5        9ZX  0.007220    0.172771  9.100304\n",
            "277       FU5    OXH,LPF  0.007313    0.174991  8.720148\n",
            "282   OXH,LPF        FU5  0.007313    0.364407  8.720148\n",
            "312       LPF    N8U,OXH  0.006973    0.097010  8.715011\n",
            "317   N8U,OXH        LPF  0.006973    0.626389  8.715011\n"
          ]
        }
      ],
      "source": [
        "# sort all acquired rules descending by lift\n",
        "result_df = result_df.sort_values(by='Lift', ascending=False)\n",
        "print(result_df[:10])"
      ]
    },
    {
      "cell_type": "markdown",
      "id": "652a8f97",
      "metadata": {
        "id": "652a8f97"
      },
      "source": [
        "# 3 "
      ]
    },
    {
      "cell_type": "code",
      "execution_count": 56,
      "id": "8bf6192b",
      "metadata": {
        "scrolled": true,
        "colab": {
          "base_uri": "https://localhost:8080/",
          "height": 206
        },
        "id": "8bf6192b",
        "outputId": "e7b70fe6-9750-490d-f10c-d2cfcf574ff0"
      },
      "outputs": [
        {
          "output_type": "execute_result",
          "data": {
            "text/plain": [
              "    Left_side Right_side   Support  Confidence      Lift\n",
              "249       01F    IEV,LPF  0.006447    0.240346  7.715161\n",
              "87        01F        IEV  0.012909    0.481268  7.553841\n",
              "81        01F        6BZ  0.005612    0.209222  7.460249\n",
              "96        01F        OXH  0.008163    0.304323  7.295851\n",
              "84        01F        FU5  0.007498    0.279539  6.689284"
            ],
            "text/html": [
              "\n",
              "  <div id=\"df-3c0f2e89-68e2-47b3-a2bd-dfcfdc69a146\">\n",
              "    <div class=\"colab-df-container\">\n",
              "      <div>\n",
              "<style scoped>\n",
              "    .dataframe tbody tr th:only-of-type {\n",
              "        vertical-align: middle;\n",
              "    }\n",
              "\n",
              "    .dataframe tbody tr th {\n",
              "        vertical-align: top;\n",
              "    }\n",
              "\n",
              "    .dataframe thead th {\n",
              "        text-align: right;\n",
              "    }\n",
              "</style>\n",
              "<table border=\"1\" class=\"dataframe\">\n",
              "  <thead>\n",
              "    <tr style=\"text-align: right;\">\n",
              "      <th></th>\n",
              "      <th>Left_side</th>\n",
              "      <th>Right_side</th>\n",
              "      <th>Support</th>\n",
              "      <th>Confidence</th>\n",
              "      <th>Lift</th>\n",
              "    </tr>\n",
              "  </thead>\n",
              "  <tbody>\n",
              "    <tr>\n",
              "      <th>249</th>\n",
              "      <td>01F</td>\n",
              "      <td>IEV,LPF</td>\n",
              "      <td>0.006447</td>\n",
              "      <td>0.240346</td>\n",
              "      <td>7.715161</td>\n",
              "    </tr>\n",
              "    <tr>\n",
              "      <th>87</th>\n",
              "      <td>01F</td>\n",
              "      <td>IEV</td>\n",
              "      <td>0.012909</td>\n",
              "      <td>0.481268</td>\n",
              "      <td>7.553841</td>\n",
              "    </tr>\n",
              "    <tr>\n",
              "      <th>81</th>\n",
              "      <td>01F</td>\n",
              "      <td>6BZ</td>\n",
              "      <td>0.005612</td>\n",
              "      <td>0.209222</td>\n",
              "      <td>7.460249</td>\n",
              "    </tr>\n",
              "    <tr>\n",
              "      <th>96</th>\n",
              "      <td>01F</td>\n",
              "      <td>OXH</td>\n",
              "      <td>0.008163</td>\n",
              "      <td>0.304323</td>\n",
              "      <td>7.295851</td>\n",
              "    </tr>\n",
              "    <tr>\n",
              "      <th>84</th>\n",
              "      <td>01F</td>\n",
              "      <td>FU5</td>\n",
              "      <td>0.007498</td>\n",
              "      <td>0.279539</td>\n",
              "      <td>6.689284</td>\n",
              "    </tr>\n",
              "  </tbody>\n",
              "</table>\n",
              "</div>\n",
              "      <button class=\"colab-df-convert\" onclick=\"convertToInteractive('df-3c0f2e89-68e2-47b3-a2bd-dfcfdc69a146')\"\n",
              "              title=\"Convert this dataframe to an interactive table.\"\n",
              "              style=\"display:none;\">\n",
              "        \n",
              "  <svg xmlns=\"http://www.w3.org/2000/svg\" height=\"24px\"viewBox=\"0 0 24 24\"\n",
              "       width=\"24px\">\n",
              "    <path d=\"M0 0h24v24H0V0z\" fill=\"none\"/>\n",
              "    <path d=\"M18.56 5.44l.94 2.06.94-2.06 2.06-.94-2.06-.94-.94-2.06-.94 2.06-2.06.94zm-11 1L8.5 8.5l.94-2.06 2.06-.94-2.06-.94L8.5 2.5l-.94 2.06-2.06.94zm10 10l.94 2.06.94-2.06 2.06-.94-2.06-.94-.94-2.06-.94 2.06-2.06.94z\"/><path d=\"M17.41 7.96l-1.37-1.37c-.4-.4-.92-.59-1.43-.59-.52 0-1.04.2-1.43.59L10.3 9.45l-7.72 7.72c-.78.78-.78 2.05 0 2.83L4 21.41c.39.39.9.59 1.41.59.51 0 1.02-.2 1.41-.59l7.78-7.78 2.81-2.81c.8-.78.8-2.07 0-2.86zM5.41 20L4 18.59l7.72-7.72 1.47 1.35L5.41 20z\"/>\n",
              "  </svg>\n",
              "      </button>\n",
              "      \n",
              "  <style>\n",
              "    .colab-df-container {\n",
              "      display:flex;\n",
              "      flex-wrap:wrap;\n",
              "      gap: 12px;\n",
              "    }\n",
              "\n",
              "    .colab-df-convert {\n",
              "      background-color: #E8F0FE;\n",
              "      border: none;\n",
              "      border-radius: 50%;\n",
              "      cursor: pointer;\n",
              "      display: none;\n",
              "      fill: #1967D2;\n",
              "      height: 32px;\n",
              "      padding: 0 0 0 0;\n",
              "      width: 32px;\n",
              "    }\n",
              "\n",
              "    .colab-df-convert:hover {\n",
              "      background-color: #E2EBFA;\n",
              "      box-shadow: 0px 1px 2px rgba(60, 64, 67, 0.3), 0px 1px 3px 1px rgba(60, 64, 67, 0.15);\n",
              "      fill: #174EA6;\n",
              "    }\n",
              "\n",
              "    [theme=dark] .colab-df-convert {\n",
              "      background-color: #3B4455;\n",
              "      fill: #D2E3FC;\n",
              "    }\n",
              "\n",
              "    [theme=dark] .colab-df-convert:hover {\n",
              "      background-color: #434B5C;\n",
              "      box-shadow: 0px 1px 3px 1px rgba(0, 0, 0, 0.15);\n",
              "      filter: drop-shadow(0px 1px 2px rgba(0, 0, 0, 0.3));\n",
              "      fill: #FFFFFF;\n",
              "    }\n",
              "  </style>\n",
              "\n",
              "      <script>\n",
              "        const buttonEl =\n",
              "          document.querySelector('#df-3c0f2e89-68e2-47b3-a2bd-dfcfdc69a146 button.colab-df-convert');\n",
              "        buttonEl.style.display =\n",
              "          google.colab.kernel.accessAllowed ? 'block' : 'none';\n",
              "\n",
              "        async function convertToInteractive(key) {\n",
              "          const element = document.querySelector('#df-3c0f2e89-68e2-47b3-a2bd-dfcfdc69a146');\n",
              "          const dataTable =\n",
              "            await google.colab.kernel.invokeFunction('convertToInteractive',\n",
              "                                                     [key], {});\n",
              "          if (!dataTable) return;\n",
              "\n",
              "          const docLinkHtml = 'Like what you see? Visit the ' +\n",
              "            '<a target=\"_blank\" href=https://colab.research.google.com/notebooks/data_table.ipynb>data table notebook</a>'\n",
              "            + ' to learn more about interactive tables.';\n",
              "          element.innerHTML = '';\n",
              "          dataTable['output_type'] = 'display_data';\n",
              "          await google.colab.output.renderOutput(dataTable, element);\n",
              "          const docLink = document.createElement('div');\n",
              "          docLink.innerHTML = docLinkHtml;\n",
              "          element.appendChild(docLink);\n",
              "        }\n",
              "      </script>\n",
              "    </div>\n",
              "  </div>\n",
              "  "
            ]
          },
          "metadata": {},
          "execution_count": 56
        }
      ],
      "source": [
        "ans = result_df.loc[result_df['Left_side']=='01F']\n",
        "ans.sort_values(by = 'Lift', ascending = False).head(5)"
      ]
    },
    {
      "cell_type": "markdown",
      "id": "f0cca5c0",
      "metadata": {
        "id": "f0cca5c0"
      },
      "source": [
        "# 4"
      ]
    },
    {
      "cell_type": "code",
      "execution_count": 57,
      "id": "f7ec6c9e",
      "metadata": {
        "id": "f7ec6c9e",
        "outputId": "fc03948d-542f-46da-d240-55c5c015120d",
        "colab": {
          "base_uri": "https://localhost:8080/"
        }
      },
      "outputs": [
        {
          "output_type": "stream",
          "name": "stdout",
          "text": [
            "[['X52'], ['N8U', 'JR5'], ['Q4N'], ['N8U'], ['B93']]\n"
          ]
        }
      ],
      "source": [
        "transactions = df.groupby(['Sales_ID'])['SKU_Category'].apply(list)\n",
        "sequences = transactions.values.tolist()\n",
        "# show the first 5 sequences\n",
        "print(sequences[:5])"
      ]
    },
    {
      "cell_type": "markdown",
      "id": "94d4be75",
      "metadata": {
        "id": "94d4be75"
      },
      "source": [
        "# 5"
      ]
    },
    {
      "cell_type": "code",
      "execution_count": 34,
      "id": "47049b3a",
      "metadata": {
        "id": "47049b3a"
      },
      "outputs": [],
      "source": [
        "from collections import defaultdict\n",
        "import subprocess\n",
        "import re\n",
        "\n",
        "''' Uses SPMF to find association rules in supplied transactions '''\n",
        "def get_association_rules(sequences, min_sup, min_conf):\n",
        "    # step 1: create required input for SPMF\n",
        "    \n",
        "    # prepare a dict to uniquely assign each item in the transactions to an int ID\n",
        "    item_dict = defaultdict(int)\n",
        "    output_dict = defaultdict(str)\n",
        "    item_id = 1\n",
        "    \n",
        "    # write your sequences in SPMF format\n",
        "    with open('seq_rule_input.txt', 'w+') as f:\n",
        "        for sequence in sequences:\n",
        "            z = []\n",
        "            for itemset in sequence:\n",
        "                # if there are multiple items in one itemset\n",
        "                if isinstance(itemset, list):\n",
        "                    for item in itemset:\n",
        "                        if item not in item_dict:\n",
        "                            item_dict[item] = item_id\n",
        "                            item_id += 1\n",
        "\n",
        "                        z.append(item_dict[item])\n",
        "                else:\n",
        "                    if itemset not in item_dict:\n",
        "                        item_dict[itemset] = item_id\n",
        "                        output_dict[str(item_id)] = itemset\n",
        "                        item_id += 1\n",
        "                    z.append(item_dict[itemset])\n",
        "                    \n",
        "                # end of itemset\n",
        "                z.append(-1)\n",
        "            \n",
        "            # end of a sequence\n",
        "            z.append(-2)\n",
        "            f.write(' '.join([str(x) for x in z]))\n",
        "            f.write('\\n')\n",
        "    return output_dict\n",
        "    # run SPMF with supplied parameters\n",
        "def second_step(output_dict):\n",
        "    # read back the output rules\n",
        "    outputs = open('seq_rule_output.txt', 'r').read().strip().split('\\n')\n",
        "    output_rules = []\n",
        "    for rule in outputs:\n",
        "        left, right, sup, conf = re.search(pattern=r'([0-9\\,]+) ==> ([0-9\\,]+) #SUP: ([0-9]+) #CONF: ([0-9\\.]+)', string=rule).groups()\n",
        "        sup = int(sup) / len(sequences)\n",
        "        conf = float(conf)\n",
        "        output_rules.append([[output_dict[x] for x in left.split(',')], [output_dict[x] for x in right.split(',')], sup, conf])\n",
        "    \n",
        "    # return pandas DataFrame\n",
        "    return pd.DataFrame(output_rules, columns = ['Left_rule', 'Right_rule', 'Support', 'Confidence'])"
      ]
    },
    {
      "cell_type": "code",
      "source": [
        "second_step(get_association_rules(sequences, 0.01, 0.01))"
      ],
      "metadata": {
        "colab": {
          "base_uri": "https://localhost:8080/",
          "height": 424
        },
        "id": "UeYjqkyvLtpF",
        "outputId": "6214baf6-f2c6-43d4-a0a2-d0b61dc5f94d"
      },
      "id": "UeYjqkyvLtpF",
      "execution_count": 35,
      "outputs": [
        {
          "output_type": "execute_result",
          "data": {
            "text/plain": [
              "    Left_rule Right_rule   Support  Confidence\n",
              "0       [Q4N]      [N8U]  0.001500    0.020058\n",
              "1       [N8U]      [Q4N]  0.001500    0.008888\n",
              "2       [B93]      [N8U]  0.000557    0.019879\n",
              "3       [N8U]      [B93]  0.000557    0.003299\n",
              "4       [FU5]      [N8U]  0.001886    0.023926\n",
              "..        ...        ...       ...         ...\n",
              "383     [LGI]      [XAE]  0.000387    0.013383\n",
              "384     [0KX]      [LGI]  0.000881    0.215094\n",
              "385     [LGI]      [0KX]  0.000881    0.030514\n",
              "386     [B7G]      [LGI]  0.000510    0.235714\n",
              "387     [LGI]      [B7G]  0.000510    0.017666\n",
              "\n",
              "[388 rows x 4 columns]"
            ],
            "text/html": [
              "\n",
              "  <div id=\"df-463a8a58-5fa3-45e0-b753-d3375d618282\">\n",
              "    <div class=\"colab-df-container\">\n",
              "      <div>\n",
              "<style scoped>\n",
              "    .dataframe tbody tr th:only-of-type {\n",
              "        vertical-align: middle;\n",
              "    }\n",
              "\n",
              "    .dataframe tbody tr th {\n",
              "        vertical-align: top;\n",
              "    }\n",
              "\n",
              "    .dataframe thead th {\n",
              "        text-align: right;\n",
              "    }\n",
              "</style>\n",
              "<table border=\"1\" class=\"dataframe\">\n",
              "  <thead>\n",
              "    <tr style=\"text-align: right;\">\n",
              "      <th></th>\n",
              "      <th>Left_rule</th>\n",
              "      <th>Right_rule</th>\n",
              "      <th>Support</th>\n",
              "      <th>Confidence</th>\n",
              "    </tr>\n",
              "  </thead>\n",
              "  <tbody>\n",
              "    <tr>\n",
              "      <th>0</th>\n",
              "      <td>[Q4N]</td>\n",
              "      <td>[N8U]</td>\n",
              "      <td>0.001500</td>\n",
              "      <td>0.020058</td>\n",
              "    </tr>\n",
              "    <tr>\n",
              "      <th>1</th>\n",
              "      <td>[N8U]</td>\n",
              "      <td>[Q4N]</td>\n",
              "      <td>0.001500</td>\n",
              "      <td>0.008888</td>\n",
              "    </tr>\n",
              "    <tr>\n",
              "      <th>2</th>\n",
              "      <td>[B93]</td>\n",
              "      <td>[N8U]</td>\n",
              "      <td>0.000557</td>\n",
              "      <td>0.019879</td>\n",
              "    </tr>\n",
              "    <tr>\n",
              "      <th>3</th>\n",
              "      <td>[N8U]</td>\n",
              "      <td>[B93]</td>\n",
              "      <td>0.000557</td>\n",
              "      <td>0.003299</td>\n",
              "    </tr>\n",
              "    <tr>\n",
              "      <th>4</th>\n",
              "      <td>[FU5]</td>\n",
              "      <td>[N8U]</td>\n",
              "      <td>0.001886</td>\n",
              "      <td>0.023926</td>\n",
              "    </tr>\n",
              "    <tr>\n",
              "      <th>...</th>\n",
              "      <td>...</td>\n",
              "      <td>...</td>\n",
              "      <td>...</td>\n",
              "      <td>...</td>\n",
              "    </tr>\n",
              "    <tr>\n",
              "      <th>383</th>\n",
              "      <td>[LGI]</td>\n",
              "      <td>[XAE]</td>\n",
              "      <td>0.000387</td>\n",
              "      <td>0.013383</td>\n",
              "    </tr>\n",
              "    <tr>\n",
              "      <th>384</th>\n",
              "      <td>[0KX]</td>\n",
              "      <td>[LGI]</td>\n",
              "      <td>0.000881</td>\n",
              "      <td>0.215094</td>\n",
              "    </tr>\n",
              "    <tr>\n",
              "      <th>385</th>\n",
              "      <td>[LGI]</td>\n",
              "      <td>[0KX]</td>\n",
              "      <td>0.000881</td>\n",
              "      <td>0.030514</td>\n",
              "    </tr>\n",
              "    <tr>\n",
              "      <th>386</th>\n",
              "      <td>[B7G]</td>\n",
              "      <td>[LGI]</td>\n",
              "      <td>0.000510</td>\n",
              "      <td>0.235714</td>\n",
              "    </tr>\n",
              "    <tr>\n",
              "      <th>387</th>\n",
              "      <td>[LGI]</td>\n",
              "      <td>[B7G]</td>\n",
              "      <td>0.000510</td>\n",
              "      <td>0.017666</td>\n",
              "    </tr>\n",
              "  </tbody>\n",
              "</table>\n",
              "<p>388 rows × 4 columns</p>\n",
              "</div>\n",
              "      <button class=\"colab-df-convert\" onclick=\"convertToInteractive('df-463a8a58-5fa3-45e0-b753-d3375d618282')\"\n",
              "              title=\"Convert this dataframe to an interactive table.\"\n",
              "              style=\"display:none;\">\n",
              "        \n",
              "  <svg xmlns=\"http://www.w3.org/2000/svg\" height=\"24px\"viewBox=\"0 0 24 24\"\n",
              "       width=\"24px\">\n",
              "    <path d=\"M0 0h24v24H0V0z\" fill=\"none\"/>\n",
              "    <path d=\"M18.56 5.44l.94 2.06.94-2.06 2.06-.94-2.06-.94-.94-2.06-.94 2.06-2.06.94zm-11 1L8.5 8.5l.94-2.06 2.06-.94-2.06-.94L8.5 2.5l-.94 2.06-2.06.94zm10 10l.94 2.06.94-2.06 2.06-.94-2.06-.94-.94-2.06-.94 2.06-2.06.94z\"/><path d=\"M17.41 7.96l-1.37-1.37c-.4-.4-.92-.59-1.43-.59-.52 0-1.04.2-1.43.59L10.3 9.45l-7.72 7.72c-.78.78-.78 2.05 0 2.83L4 21.41c.39.39.9.59 1.41.59.51 0 1.02-.2 1.41-.59l7.78-7.78 2.81-2.81c.8-.78.8-2.07 0-2.86zM5.41 20L4 18.59l7.72-7.72 1.47 1.35L5.41 20z\"/>\n",
              "  </svg>\n",
              "      </button>\n",
              "      \n",
              "  <style>\n",
              "    .colab-df-container {\n",
              "      display:flex;\n",
              "      flex-wrap:wrap;\n",
              "      gap: 12px;\n",
              "    }\n",
              "\n",
              "    .colab-df-convert {\n",
              "      background-color: #E8F0FE;\n",
              "      border: none;\n",
              "      border-radius: 50%;\n",
              "      cursor: pointer;\n",
              "      display: none;\n",
              "      fill: #1967D2;\n",
              "      height: 32px;\n",
              "      padding: 0 0 0 0;\n",
              "      width: 32px;\n",
              "    }\n",
              "\n",
              "    .colab-df-convert:hover {\n",
              "      background-color: #E2EBFA;\n",
              "      box-shadow: 0px 1px 2px rgba(60, 64, 67, 0.3), 0px 1px 3px 1px rgba(60, 64, 67, 0.15);\n",
              "      fill: #174EA6;\n",
              "    }\n",
              "\n",
              "    [theme=dark] .colab-df-convert {\n",
              "      background-color: #3B4455;\n",
              "      fill: #D2E3FC;\n",
              "    }\n",
              "\n",
              "    [theme=dark] .colab-df-convert:hover {\n",
              "      background-color: #434B5C;\n",
              "      box-shadow: 0px 1px 3px 1px rgba(0, 0, 0, 0.15);\n",
              "      filter: drop-shadow(0px 1px 2px rgba(0, 0, 0, 0.3));\n",
              "      fill: #FFFFFF;\n",
              "    }\n",
              "  </style>\n",
              "\n",
              "      <script>\n",
              "        const buttonEl =\n",
              "          document.querySelector('#df-463a8a58-5fa3-45e0-b753-d3375d618282 button.colab-df-convert');\n",
              "        buttonEl.style.display =\n",
              "          google.colab.kernel.accessAllowed ? 'block' : 'none';\n",
              "\n",
              "        async function convertToInteractive(key) {\n",
              "          const element = document.querySelector('#df-463a8a58-5fa3-45e0-b753-d3375d618282');\n",
              "          const dataTable =\n",
              "            await google.colab.kernel.invokeFunction('convertToInteractive',\n",
              "                                                     [key], {});\n",
              "          if (!dataTable) return;\n",
              "\n",
              "          const docLinkHtml = 'Like what you see? Visit the ' +\n",
              "            '<a target=\"_blank\" href=https://colab.research.google.com/notebooks/data_table.ipynb>data table notebook</a>'\n",
              "            + ' to learn more about interactive tables.';\n",
              "          element.innerHTML = '';\n",
              "          dataTable['output_type'] = 'display_data';\n",
              "          await google.colab.output.renderOutput(dataTable, element);\n",
              "          const docLink = document.createElement('div');\n",
              "          docLink.innerHTML = docLinkHtml;\n",
              "          element.appendChild(docLink);\n",
              "        }\n",
              "      </script>\n",
              "    </div>\n",
              "  </div>\n",
              "  "
            ]
          },
          "metadata": {},
          "execution_count": 35
        }
      ]
    },
    {
      "cell_type": "code",
      "execution_count": 36,
      "id": "2b8128af",
      "metadata": {
        "id": "2b8128af"
      },
      "outputs": [],
      "source": [
        "outputs = open('seq_rule_output.txt', 'r').read().strip().split('\\n')"
      ]
    },
    {
      "cell_type": "code",
      "execution_count": null,
      "id": "75f57f47",
      "metadata": {
        "scrolled": false,
        "id": "75f57f47"
      },
      "outputs": [],
      "source": [
        "transaction_list = []\n",
        "for cust_id in df['Customer_ID'].unique():\n",
        "  temp=df[df['Customer_ID'] == cust_id]\n",
        "  transactions1 = temp.groupby(['Sales_ID'])['SKU_Category'].apply(list)\n",
        "  transaction_list.append(list(transactions1))\n",
        "\n",
        "transaction_list"
      ]
    },
    {
      "cell_type": "code",
      "execution_count": 39,
      "id": "2c1da368",
      "metadata": {
        "id": "2c1da368"
      },
      "outputs": [],
      "source": [
        "# This function does not work because it can't access the SPMF\n",
        "\n",
        "def get_association_rules_2nd(sequences, min_sup, min_conf):\n",
        "    # step 1: create required input for SPMF\n",
        "    \n",
        "    # prepare a dict to uniquely assign each item in the transactions to an int ID\n",
        "    item_dict = defaultdict(int)\n",
        "    output_dict = defaultdict(str)\n",
        "    item_id = 1\n",
        "    \n",
        "    # write your sequences in SPMF format\n",
        "    with open('seq_rule_input.txt', 'w+') as f:\n",
        "        for sequence in sequences:\n",
        "            z = []\n",
        "            for itemset in sequence:\n",
        "                # if there are multiple items in one itemset\n",
        "                if isinstance(itemset, list):\n",
        "                    for item in itemset:\n",
        "                        if item not in item_dict:\n",
        "                            item_dict[item] = item_id\n",
        "                            output_dict[str(item_id)] = itemset   ## Extra\n",
        "                            item_id += 1\n",
        "\n",
        "                        z.append(item_dict[item])\n",
        "                else:\n",
        "                    if itemset not in item_dict:\n",
        "                        item_dict[itemset] = item_id\n",
        "                        output_dict[str(item_id)] = itemset\n",
        "                        item_id += 1\n",
        "                    z.append(item_dict[itemset])\n",
        "                    \n",
        "                # end of itemset\n",
        "                z.append(-1)\n",
        "            \n",
        "            # end of a sequence\n",
        "            z.append(-2)\n",
        "            f.write(' '.join([str(x) for x in z]))\n",
        "            f.write('\\n')\n",
        "    \n",
        "    # run SPMF with supplied parameters\n",
        "    supp_param = '{}%'.format(int(min_sup * 100))\n",
        "    conf_param = '{}%'.format(int(min_conf * 100))\n",
        "    subprocess.call(['java', '-jar', 'spmf.jar', 'run', 'RuleGrowth', \n",
        "                     'seq_rule_input.txt', 'seq_rule_output.txt', \n",
        "                     supp_param, conf_param], shell=True)\n",
        "    \n",
        "    # read back the output rules\n",
        "    outputs = open('seq_rule_output.txt', 'r').read().strip().split('\\n')\n",
        "    output_rules = []\n",
        "    for rule in outputs:\n",
        "        left, right, sup, conf = re.search(pattern=r'([0-9\\,]+) ==> ([0-9\\,]+) #SUP: ([0-9]+) #CONF: ([0-9\\.]+)', string=rule).groups()\n",
        "        sup = int(sup) / len(sequences)\n",
        "        conf = float(conf)\n",
        "        output_rules.append([[output_dict[x] for x in left.split(',')], [output_dict[x] for x in right.split(',')], sup, conf])\n",
        "    \n",
        "    # return pandas DataFrame\n",
        "    return pd.DataFrame(output_rules, columns = ['Left_rule', 'Right_rule', 'Support', 'Confidence'])\n",
        "\n",
        "# Support(Itemset) = Frequency of Itemsets/Total transaction\n",
        "# Confident(A => B) = Support([A,B]) / Support([A])\n",
        "# Higher confindent means that the A result in B"
      ]
    },
    {
      "cell_type": "code",
      "execution_count": 42,
      "id": "382a3088",
      "metadata": {
        "id": "382a3088",
        "outputId": "ca0c8a2e-0a3e-48a0-a9a3-b1ad4d35d9eb",
        "colab": {
          "base_uri": "https://localhost:8080/",
          "height": 424
        }
      },
      "outputs": [
        {
          "output_type": "execute_result",
          "data": {
            "text/plain": [
              "                            Left_rule                        Right_rule  \\\n",
              "0              [[N8U, TEU, P42, QCG]]                 [[N8U, X52, X52]]   \n",
              "1                   [[N8U, X52, X52]]            [[N8U, TEU, P42, QCG]]   \n",
              "2              [[N8U, TEU, P42, QCG]]                 [[N8U, X52, X52]]   \n",
              "3                   [[N8U, X52, X52]]            [[N8U, TEU, P42, QCG]]   \n",
              "4                        [[TVL, R6E]]                 [[N8U, X52, X52]]   \n",
              "..                                ...                               ...   \n",
              "383       [[1VL, N8U, 01F, IEV, LPF]]                      [[TZB, RU6]]   \n",
              "384  [[LSD, 1EO, BEQ, P42, H15, DJI]]       [[1VL, N8U, 01F, IEV, LPF]]   \n",
              "385       [[1VL, N8U, 01F, IEV, LPF]]  [[LSD, 1EO, BEQ, P42, H15, DJI]]   \n",
              "386                      [[1VL, 61C]]       [[1VL, N8U, 01F, IEV, LPF]]   \n",
              "387       [[1VL, N8U, 01F, IEV, LPF]]                      [[1VL, 61C]]   \n",
              "\n",
              "      Support  Confidence  \n",
              "0    0.004287    0.020058  \n",
              "1    0.004287    0.008888  \n",
              "2    0.001591    0.019879  \n",
              "3    0.001591    0.003299  \n",
              "4    0.005392    0.023926  \n",
              "..        ...         ...  \n",
              "383  0.001105    0.013383  \n",
              "384  0.002519    0.215094  \n",
              "385  0.002519    0.030514  \n",
              "386  0.001459    0.235714  \n",
              "387  0.001459    0.017666  \n",
              "\n",
              "[388 rows x 4 columns]"
            ],
            "text/html": [
              "\n",
              "  <div id=\"df-25910d55-5b58-49e9-9bfa-7b116ff3129f\">\n",
              "    <div class=\"colab-df-container\">\n",
              "      <div>\n",
              "<style scoped>\n",
              "    .dataframe tbody tr th:only-of-type {\n",
              "        vertical-align: middle;\n",
              "    }\n",
              "\n",
              "    .dataframe tbody tr th {\n",
              "        vertical-align: top;\n",
              "    }\n",
              "\n",
              "    .dataframe thead th {\n",
              "        text-align: right;\n",
              "    }\n",
              "</style>\n",
              "<table border=\"1\" class=\"dataframe\">\n",
              "  <thead>\n",
              "    <tr style=\"text-align: right;\">\n",
              "      <th></th>\n",
              "      <th>Left_rule</th>\n",
              "      <th>Right_rule</th>\n",
              "      <th>Support</th>\n",
              "      <th>Confidence</th>\n",
              "    </tr>\n",
              "  </thead>\n",
              "  <tbody>\n",
              "    <tr>\n",
              "      <th>0</th>\n",
              "      <td>[[N8U, TEU, P42, QCG]]</td>\n",
              "      <td>[[N8U, X52, X52]]</td>\n",
              "      <td>0.004287</td>\n",
              "      <td>0.020058</td>\n",
              "    </tr>\n",
              "    <tr>\n",
              "      <th>1</th>\n",
              "      <td>[[N8U, X52, X52]]</td>\n",
              "      <td>[[N8U, TEU, P42, QCG]]</td>\n",
              "      <td>0.004287</td>\n",
              "      <td>0.008888</td>\n",
              "    </tr>\n",
              "    <tr>\n",
              "      <th>2</th>\n",
              "      <td>[[N8U, TEU, P42, QCG]]</td>\n",
              "      <td>[[N8U, X52, X52]]</td>\n",
              "      <td>0.001591</td>\n",
              "      <td>0.019879</td>\n",
              "    </tr>\n",
              "    <tr>\n",
              "      <th>3</th>\n",
              "      <td>[[N8U, X52, X52]]</td>\n",
              "      <td>[[N8U, TEU, P42, QCG]]</td>\n",
              "      <td>0.001591</td>\n",
              "      <td>0.003299</td>\n",
              "    </tr>\n",
              "    <tr>\n",
              "      <th>4</th>\n",
              "      <td>[[TVL, R6E]]</td>\n",
              "      <td>[[N8U, X52, X52]]</td>\n",
              "      <td>0.005392</td>\n",
              "      <td>0.023926</td>\n",
              "    </tr>\n",
              "    <tr>\n",
              "      <th>...</th>\n",
              "      <td>...</td>\n",
              "      <td>...</td>\n",
              "      <td>...</td>\n",
              "      <td>...</td>\n",
              "    </tr>\n",
              "    <tr>\n",
              "      <th>383</th>\n",
              "      <td>[[1VL, N8U, 01F, IEV, LPF]]</td>\n",
              "      <td>[[TZB, RU6]]</td>\n",
              "      <td>0.001105</td>\n",
              "      <td>0.013383</td>\n",
              "    </tr>\n",
              "    <tr>\n",
              "      <th>384</th>\n",
              "      <td>[[LSD, 1EO, BEQ, P42, H15, DJI]]</td>\n",
              "      <td>[[1VL, N8U, 01F, IEV, LPF]]</td>\n",
              "      <td>0.002519</td>\n",
              "      <td>0.215094</td>\n",
              "    </tr>\n",
              "    <tr>\n",
              "      <th>385</th>\n",
              "      <td>[[1VL, N8U, 01F, IEV, LPF]]</td>\n",
              "      <td>[[LSD, 1EO, BEQ, P42, H15, DJI]]</td>\n",
              "      <td>0.002519</td>\n",
              "      <td>0.030514</td>\n",
              "    </tr>\n",
              "    <tr>\n",
              "      <th>386</th>\n",
              "      <td>[[1VL, 61C]]</td>\n",
              "      <td>[[1VL, N8U, 01F, IEV, LPF]]</td>\n",
              "      <td>0.001459</td>\n",
              "      <td>0.235714</td>\n",
              "    </tr>\n",
              "    <tr>\n",
              "      <th>387</th>\n",
              "      <td>[[1VL, N8U, 01F, IEV, LPF]]</td>\n",
              "      <td>[[1VL, 61C]]</td>\n",
              "      <td>0.001459</td>\n",
              "      <td>0.017666</td>\n",
              "    </tr>\n",
              "  </tbody>\n",
              "</table>\n",
              "<p>388 rows × 4 columns</p>\n",
              "</div>\n",
              "      <button class=\"colab-df-convert\" onclick=\"convertToInteractive('df-25910d55-5b58-49e9-9bfa-7b116ff3129f')\"\n",
              "              title=\"Convert this dataframe to an interactive table.\"\n",
              "              style=\"display:none;\">\n",
              "        \n",
              "  <svg xmlns=\"http://www.w3.org/2000/svg\" height=\"24px\"viewBox=\"0 0 24 24\"\n",
              "       width=\"24px\">\n",
              "    <path d=\"M0 0h24v24H0V0z\" fill=\"none\"/>\n",
              "    <path d=\"M18.56 5.44l.94 2.06.94-2.06 2.06-.94-2.06-.94-.94-2.06-.94 2.06-2.06.94zm-11 1L8.5 8.5l.94-2.06 2.06-.94-2.06-.94L8.5 2.5l-.94 2.06-2.06.94zm10 10l.94 2.06.94-2.06 2.06-.94-2.06-.94-.94-2.06-.94 2.06-2.06.94z\"/><path d=\"M17.41 7.96l-1.37-1.37c-.4-.4-.92-.59-1.43-.59-.52 0-1.04.2-1.43.59L10.3 9.45l-7.72 7.72c-.78.78-.78 2.05 0 2.83L4 21.41c.39.39.9.59 1.41.59.51 0 1.02-.2 1.41-.59l7.78-7.78 2.81-2.81c.8-.78.8-2.07 0-2.86zM5.41 20L4 18.59l7.72-7.72 1.47 1.35L5.41 20z\"/>\n",
              "  </svg>\n",
              "      </button>\n",
              "      \n",
              "  <style>\n",
              "    .colab-df-container {\n",
              "      display:flex;\n",
              "      flex-wrap:wrap;\n",
              "      gap: 12px;\n",
              "    }\n",
              "\n",
              "    .colab-df-convert {\n",
              "      background-color: #E8F0FE;\n",
              "      border: none;\n",
              "      border-radius: 50%;\n",
              "      cursor: pointer;\n",
              "      display: none;\n",
              "      fill: #1967D2;\n",
              "      height: 32px;\n",
              "      padding: 0 0 0 0;\n",
              "      width: 32px;\n",
              "    }\n",
              "\n",
              "    .colab-df-convert:hover {\n",
              "      background-color: #E2EBFA;\n",
              "      box-shadow: 0px 1px 2px rgba(60, 64, 67, 0.3), 0px 1px 3px 1px rgba(60, 64, 67, 0.15);\n",
              "      fill: #174EA6;\n",
              "    }\n",
              "\n",
              "    [theme=dark] .colab-df-convert {\n",
              "      background-color: #3B4455;\n",
              "      fill: #D2E3FC;\n",
              "    }\n",
              "\n",
              "    [theme=dark] .colab-df-convert:hover {\n",
              "      background-color: #434B5C;\n",
              "      box-shadow: 0px 1px 3px 1px rgba(0, 0, 0, 0.15);\n",
              "      filter: drop-shadow(0px 1px 2px rgba(0, 0, 0, 0.3));\n",
              "      fill: #FFFFFF;\n",
              "    }\n",
              "  </style>\n",
              "\n",
              "      <script>\n",
              "        const buttonEl =\n",
              "          document.querySelector('#df-25910d55-5b58-49e9-9bfa-7b116ff3129f button.colab-df-convert');\n",
              "        buttonEl.style.display =\n",
              "          google.colab.kernel.accessAllowed ? 'block' : 'none';\n",
              "\n",
              "        async function convertToInteractive(key) {\n",
              "          const element = document.querySelector('#df-25910d55-5b58-49e9-9bfa-7b116ff3129f');\n",
              "          const dataTable =\n",
              "            await google.colab.kernel.invokeFunction('convertToInteractive',\n",
              "                                                     [key], {});\n",
              "          if (!dataTable) return;\n",
              "\n",
              "          const docLinkHtml = 'Like what you see? Visit the ' +\n",
              "            '<a target=\"_blank\" href=https://colab.research.google.com/notebooks/data_table.ipynb>data table notebook</a>'\n",
              "            + ' to learn more about interactive tables.';\n",
              "          element.innerHTML = '';\n",
              "          dataTable['output_type'] = 'display_data';\n",
              "          await google.colab.output.renderOutput(dataTable, element);\n",
              "          const docLink = document.createElement('div');\n",
              "          docLink.innerHTML = docLinkHtml;\n",
              "          element.appendChild(docLink);\n",
              "        }\n",
              "      </script>\n",
              "    </div>\n",
              "  </div>\n",
              "  "
            ]
          },
          "metadata": {},
          "execution_count": 42
        }
      ],
      "source": [
        "get_association_rules_2nd(transaction_list, 0.01, 0.01)"
      ]
    }
  ],
  "metadata": {
    "kernelspec": {
      "display_name": "Python 3 (ipykernel)",
      "language": "python",
      "name": "python3"
    },
    "language_info": {
      "codemirror_mode": {
        "name": "ipython",
        "version": 3
      },
      "file_extension": ".py",
      "mimetype": "text/x-python",
      "name": "python",
      "nbconvert_exporter": "python",
      "pygments_lexer": "ipython3",
      "version": "3.9.12"
    },
    "colab": {
      "provenance": []
    }
  },
  "nbformat": 4,
  "nbformat_minor": 5
}
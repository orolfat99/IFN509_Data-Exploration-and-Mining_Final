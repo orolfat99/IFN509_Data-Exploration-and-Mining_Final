{
 "cells": [
  {
   "cell_type": "markdown",
   "id": "52130923",
   "metadata": {},
   "source": [
    "# Decision Tree"
   ]
  },
  {
   "cell_type": "markdown",
   "id": "49e78a50",
   "metadata": {},
   "source": [
    "# 1.1"
   ]
  },
  {
   "cell_type": "code",
   "execution_count": 1,
   "id": "74236d59",
   "metadata": {},
   "outputs": [
    {
     "name": "stdout",
     "output_type": "stream",
     "text": [
      "<class 'pandas.core.frame.DataFrame'>\n",
      "RangeIndex: 20000 entries, 0 to 19999\n",
      "Columns: 151 entries, age to insulin_Up\n",
      "dtypes: bool(2), int64(9), uint8(140)\n",
      "memory usage: 4.1 MB\n"
     ]
    }
   ],
   "source": [
    "import numpy as np\n",
    "import pandas as pd\n",
    "from sklearn.model_selection import train_test_split\n",
    "import matplotlib.pyplot as plt\n",
    "from sklearn import tree\n",
    "from sklearn.metrics import classification_report\n",
    "import warnings\n",
    "warnings.filterwarnings('ignore')\n",
    "\n",
    "#na_value=“?”\n",
    "df = pd.read_csv('D2.csv')\n",
    "\n",
    "from sklearn.preprocessing import StandardScaler\n",
    "\n",
    "# mapping\n",
    "df['age']=df['age'].astype(str)\n",
    "age_map = {'[80-90)':2, '[70-80)':3, '[50-60)':5, '[40-50)':6, '[60-70)':4, \n",
    "'[90-100)':1, '[30-40)':7,'[10-20)':9, '[20-30)':8, '[0-10)':10}\n",
    "df['age'] = df['age'].map(age_map)\n",
    "# admission_source_id\n",
    "# discharge_disposition_id \n",
    "# admission_type_id\n",
    "# readmitted\n",
    "df['readmitted'] = df['readmitted'].astype(bool)\n",
    "df['admission_source_id'] = df['admission_source_id'].astype(str)\n",
    "df['discharge_disposition_id'] = df['discharge_disposition_id'].astype(str)\n",
    "df['admission_type_id'] = df['admission_type_id'].astype(str)\n",
    "\n",
    "y = df['readmitted']\n",
    "X = df.drop(['readmitted'], axis=1)\n",
    "X_mat = pd.get_dummies(X)\n",
    "X_mat.info()"
   ]
  },
  {
   "cell_type": "code",
   "execution_count": 2,
   "id": "e5326049",
   "metadata": {},
   "outputs": [
    {
     "data": {
      "text/html": [
       "<div>\n",
       "<style scoped>\n",
       "    .dataframe tbody tr th:only-of-type {\n",
       "        vertical-align: middle;\n",
       "    }\n",
       "\n",
       "    .dataframe tbody tr th {\n",
       "        vertical-align: top;\n",
       "    }\n",
       "\n",
       "    .dataframe thead th {\n",
       "        text-align: right;\n",
       "    }\n",
       "</style>\n",
       "<table border=\"1\" class=\"dataframe\">\n",
       "  <thead>\n",
       "    <tr style=\"text-align: right;\">\n",
       "      <th></th>\n",
       "      <th>age</th>\n",
       "      <th>time_in_hospital</th>\n",
       "      <th>num_lab_procedures</th>\n",
       "      <th>num_procedures</th>\n",
       "      <th>num_medications</th>\n",
       "      <th>number_outpatient</th>\n",
       "      <th>number_emergency</th>\n",
       "      <th>number_inpatient</th>\n",
       "      <th>number_diagnoses</th>\n",
       "      <th>change</th>\n",
       "      <th>...</th>\n",
       "      <th>glipizide_Up</th>\n",
       "      <th>glyburide_Down</th>\n",
       "      <th>glyburide_No</th>\n",
       "      <th>glyburide_Steady</th>\n",
       "      <th>glyburide_Up</th>\n",
       "      <th>tolbutamide_No</th>\n",
       "      <th>insulin_Down</th>\n",
       "      <th>insulin_No</th>\n",
       "      <th>insulin_Steady</th>\n",
       "      <th>insulin_Up</th>\n",
       "    </tr>\n",
       "  </thead>\n",
       "  <tbody>\n",
       "    <tr>\n",
       "      <th>0</th>\n",
       "      <td>2</td>\n",
       "      <td>1</td>\n",
       "      <td>33</td>\n",
       "      <td>0</td>\n",
       "      <td>14</td>\n",
       "      <td>0</td>\n",
       "      <td>1</td>\n",
       "      <td>1</td>\n",
       "      <td>9</td>\n",
       "      <td>False</td>\n",
       "      <td>...</td>\n",
       "      <td>0</td>\n",
       "      <td>0</td>\n",
       "      <td>1</td>\n",
       "      <td>0</td>\n",
       "      <td>0</td>\n",
       "      <td>1</td>\n",
       "      <td>0</td>\n",
       "      <td>0</td>\n",
       "      <td>1</td>\n",
       "      <td>0</td>\n",
       "    </tr>\n",
       "    <tr>\n",
       "      <th>1</th>\n",
       "      <td>3</td>\n",
       "      <td>3</td>\n",
       "      <td>48</td>\n",
       "      <td>2</td>\n",
       "      <td>7</td>\n",
       "      <td>0</td>\n",
       "      <td>0</td>\n",
       "      <td>2</td>\n",
       "      <td>9</td>\n",
       "      <td>False</td>\n",
       "      <td>...</td>\n",
       "      <td>0</td>\n",
       "      <td>0</td>\n",
       "      <td>1</td>\n",
       "      <td>0</td>\n",
       "      <td>0</td>\n",
       "      <td>1</td>\n",
       "      <td>0</td>\n",
       "      <td>0</td>\n",
       "      <td>1</td>\n",
       "      <td>0</td>\n",
       "    </tr>\n",
       "    <tr>\n",
       "      <th>2</th>\n",
       "      <td>5</td>\n",
       "      <td>3</td>\n",
       "      <td>25</td>\n",
       "      <td>1</td>\n",
       "      <td>15</td>\n",
       "      <td>0</td>\n",
       "      <td>0</td>\n",
       "      <td>0</td>\n",
       "      <td>8</td>\n",
       "      <td>False</td>\n",
       "      <td>...</td>\n",
       "      <td>0</td>\n",
       "      <td>0</td>\n",
       "      <td>1</td>\n",
       "      <td>0</td>\n",
       "      <td>0</td>\n",
       "      <td>1</td>\n",
       "      <td>0</td>\n",
       "      <td>0</td>\n",
       "      <td>1</td>\n",
       "      <td>0</td>\n",
       "    </tr>\n",
       "    <tr>\n",
       "      <th>3</th>\n",
       "      <td>5</td>\n",
       "      <td>6</td>\n",
       "      <td>41</td>\n",
       "      <td>0</td>\n",
       "      <td>19</td>\n",
       "      <td>0</td>\n",
       "      <td>0</td>\n",
       "      <td>0</td>\n",
       "      <td>9</td>\n",
       "      <td>False</td>\n",
       "      <td>...</td>\n",
       "      <td>0</td>\n",
       "      <td>0</td>\n",
       "      <td>1</td>\n",
       "      <td>0</td>\n",
       "      <td>0</td>\n",
       "      <td>1</td>\n",
       "      <td>0</td>\n",
       "      <td>0</td>\n",
       "      <td>1</td>\n",
       "      <td>0</td>\n",
       "    </tr>\n",
       "    <tr>\n",
       "      <th>4</th>\n",
       "      <td>2</td>\n",
       "      <td>4</td>\n",
       "      <td>22</td>\n",
       "      <td>0</td>\n",
       "      <td>12</td>\n",
       "      <td>0</td>\n",
       "      <td>0</td>\n",
       "      <td>1</td>\n",
       "      <td>8</td>\n",
       "      <td>False</td>\n",
       "      <td>...</td>\n",
       "      <td>0</td>\n",
       "      <td>0</td>\n",
       "      <td>1</td>\n",
       "      <td>0</td>\n",
       "      <td>0</td>\n",
       "      <td>1</td>\n",
       "      <td>0</td>\n",
       "      <td>0</td>\n",
       "      <td>1</td>\n",
       "      <td>0</td>\n",
       "    </tr>\n",
       "    <tr>\n",
       "      <th>...</th>\n",
       "      <td>...</td>\n",
       "      <td>...</td>\n",
       "      <td>...</td>\n",
       "      <td>...</td>\n",
       "      <td>...</td>\n",
       "      <td>...</td>\n",
       "      <td>...</td>\n",
       "      <td>...</td>\n",
       "      <td>...</td>\n",
       "      <td>...</td>\n",
       "      <td>...</td>\n",
       "      <td>...</td>\n",
       "      <td>...</td>\n",
       "      <td>...</td>\n",
       "      <td>...</td>\n",
       "      <td>...</td>\n",
       "      <td>...</td>\n",
       "      <td>...</td>\n",
       "      <td>...</td>\n",
       "      <td>...</td>\n",
       "      <td>...</td>\n",
       "    </tr>\n",
       "    <tr>\n",
       "      <th>19995</th>\n",
       "      <td>3</td>\n",
       "      <td>4</td>\n",
       "      <td>51</td>\n",
       "      <td>0</td>\n",
       "      <td>12</td>\n",
       "      <td>3</td>\n",
       "      <td>0</td>\n",
       "      <td>2</td>\n",
       "      <td>6</td>\n",
       "      <td>True</td>\n",
       "      <td>...</td>\n",
       "      <td>0</td>\n",
       "      <td>0</td>\n",
       "      <td>0</td>\n",
       "      <td>1</td>\n",
       "      <td>0</td>\n",
       "      <td>1</td>\n",
       "      <td>0</td>\n",
       "      <td>0</td>\n",
       "      <td>1</td>\n",
       "      <td>0</td>\n",
       "    </tr>\n",
       "    <tr>\n",
       "      <th>19996</th>\n",
       "      <td>5</td>\n",
       "      <td>9</td>\n",
       "      <td>57</td>\n",
       "      <td>2</td>\n",
       "      <td>28</td>\n",
       "      <td>3</td>\n",
       "      <td>5</td>\n",
       "      <td>5</td>\n",
       "      <td>9</td>\n",
       "      <td>False</td>\n",
       "      <td>...</td>\n",
       "      <td>0</td>\n",
       "      <td>0</td>\n",
       "      <td>1</td>\n",
       "      <td>0</td>\n",
       "      <td>0</td>\n",
       "      <td>1</td>\n",
       "      <td>0</td>\n",
       "      <td>1</td>\n",
       "      <td>0</td>\n",
       "      <td>0</td>\n",
       "    </tr>\n",
       "    <tr>\n",
       "      <th>19997</th>\n",
       "      <td>2</td>\n",
       "      <td>3</td>\n",
       "      <td>41</td>\n",
       "      <td>0</td>\n",
       "      <td>18</td>\n",
       "      <td>0</td>\n",
       "      <td>0</td>\n",
       "      <td>0</td>\n",
       "      <td>7</td>\n",
       "      <td>True</td>\n",
       "      <td>...</td>\n",
       "      <td>0</td>\n",
       "      <td>0</td>\n",
       "      <td>1</td>\n",
       "      <td>0</td>\n",
       "      <td>0</td>\n",
       "      <td>1</td>\n",
       "      <td>0</td>\n",
       "      <td>0</td>\n",
       "      <td>1</td>\n",
       "      <td>0</td>\n",
       "    </tr>\n",
       "    <tr>\n",
       "      <th>19998</th>\n",
       "      <td>5</td>\n",
       "      <td>3</td>\n",
       "      <td>49</td>\n",
       "      <td>0</td>\n",
       "      <td>15</td>\n",
       "      <td>0</td>\n",
       "      <td>0</td>\n",
       "      <td>5</td>\n",
       "      <td>9</td>\n",
       "      <td>False</td>\n",
       "      <td>...</td>\n",
       "      <td>0</td>\n",
       "      <td>0</td>\n",
       "      <td>1</td>\n",
       "      <td>0</td>\n",
       "      <td>0</td>\n",
       "      <td>1</td>\n",
       "      <td>0</td>\n",
       "      <td>0</td>\n",
       "      <td>1</td>\n",
       "      <td>0</td>\n",
       "    </tr>\n",
       "    <tr>\n",
       "      <th>19999</th>\n",
       "      <td>2</td>\n",
       "      <td>8</td>\n",
       "      <td>54</td>\n",
       "      <td>5</td>\n",
       "      <td>14</td>\n",
       "      <td>2</td>\n",
       "      <td>0</td>\n",
       "      <td>0</td>\n",
       "      <td>9</td>\n",
       "      <td>False</td>\n",
       "      <td>...</td>\n",
       "      <td>0</td>\n",
       "      <td>0</td>\n",
       "      <td>1</td>\n",
       "      <td>0</td>\n",
       "      <td>0</td>\n",
       "      <td>1</td>\n",
       "      <td>0</td>\n",
       "      <td>1</td>\n",
       "      <td>0</td>\n",
       "      <td>0</td>\n",
       "    </tr>\n",
       "  </tbody>\n",
       "</table>\n",
       "<p>20000 rows × 151 columns</p>\n",
       "</div>"
      ],
      "text/plain": [
       "       age  time_in_hospital  num_lab_procedures  num_procedures  \\\n",
       "0        2                 1                  33               0   \n",
       "1        3                 3                  48               2   \n",
       "2        5                 3                  25               1   \n",
       "3        5                 6                  41               0   \n",
       "4        2                 4                  22               0   \n",
       "...    ...               ...                 ...             ...   \n",
       "19995    3                 4                  51               0   \n",
       "19996    5                 9                  57               2   \n",
       "19997    2                 3                  41               0   \n",
       "19998    5                 3                  49               0   \n",
       "19999    2                 8                  54               5   \n",
       "\n",
       "       num_medications  number_outpatient  number_emergency  number_inpatient  \\\n",
       "0                   14                  0                 1                 1   \n",
       "1                    7                  0                 0                 2   \n",
       "2                   15                  0                 0                 0   \n",
       "3                   19                  0                 0                 0   \n",
       "4                   12                  0                 0                 1   \n",
       "...                ...                ...               ...               ...   \n",
       "19995               12                  3                 0                 2   \n",
       "19996               28                  3                 5                 5   \n",
       "19997               18                  0                 0                 0   \n",
       "19998               15                  0                 0                 5   \n",
       "19999               14                  2                 0                 0   \n",
       "\n",
       "       number_diagnoses  change  ...  glipizide_Up  glyburide_Down  \\\n",
       "0                     9   False  ...             0               0   \n",
       "1                     9   False  ...             0               0   \n",
       "2                     8   False  ...             0               0   \n",
       "3                     9   False  ...             0               0   \n",
       "4                     8   False  ...             0               0   \n",
       "...                 ...     ...  ...           ...             ...   \n",
       "19995                 6    True  ...             0               0   \n",
       "19996                 9   False  ...             0               0   \n",
       "19997                 7    True  ...             0               0   \n",
       "19998                 9   False  ...             0               0   \n",
       "19999                 9   False  ...             0               0   \n",
       "\n",
       "       glyburide_No  glyburide_Steady  glyburide_Up  tolbutamide_No  \\\n",
       "0                 1                 0             0               1   \n",
       "1                 1                 0             0               1   \n",
       "2                 1                 0             0               1   \n",
       "3                 1                 0             0               1   \n",
       "4                 1                 0             0               1   \n",
       "...             ...               ...           ...             ...   \n",
       "19995             0                 1             0               1   \n",
       "19996             1                 0             0               1   \n",
       "19997             1                 0             0               1   \n",
       "19998             1                 0             0               1   \n",
       "19999             1                 0             0               1   \n",
       "\n",
       "       insulin_Down  insulin_No  insulin_Steady  insulin_Up  \n",
       "0                 0           0               1           0  \n",
       "1                 0           0               1           0  \n",
       "2                 0           0               1           0  \n",
       "3                 0           0               1           0  \n",
       "4                 0           0               1           0  \n",
       "...             ...         ...             ...         ...  \n",
       "19995             0           0               1           0  \n",
       "19996             0           1               0           0  \n",
       "19997             0           0               1           0  \n",
       "19998             0           0               1           0  \n",
       "19999             0           1               0           0  \n",
       "\n",
       "[20000 rows x 151 columns]"
      ]
     },
     "execution_count": 2,
     "metadata": {},
     "output_type": "execute_result"
    }
   ],
   "source": [
    "X_mat"
   ]
  },
  {
   "cell_type": "code",
   "execution_count": 3,
   "id": "5dfe82fa",
   "metadata": {},
   "outputs": [],
   "source": [
    "from sklearn.model_selection import train_test_split\n",
    "# setting random state\n",
    "rs = 10\n",
    "\n",
    "x_train, x_test, y_train, y_test = train_test_split(X_mat, y, test_size=0.3, stratify=y, random_state=rs)"
   ]
  },
  {
   "cell_type": "code",
   "execution_count": 4,
   "id": "f45dd80b",
   "metadata": {},
   "outputs": [],
   "source": [
    "#from sklearn.preprocesses import Standardscale"
   ]
  },
  {
   "cell_type": "markdown",
   "id": "73fad4da",
   "metadata": {},
   "source": [
    "1.2"
   ]
  },
  {
   "cell_type": "code",
   "execution_count": 5,
   "id": "60b85d8a",
   "metadata": {},
   "outputs": [
    {
     "name": "stdout",
     "output_type": "stream",
     "text": [
      "{'ccp_alpha': 0.0, 'class_weight': None, 'criterion': 'gini', 'max_depth': None, 'max_features': None, 'max_leaf_nodes': None, 'min_impurity_decrease': 0.0, 'min_samples_leaf': 1, 'min_samples_split': 2, 'min_weight_fraction_leaf': 0.0, 'random_state': 10, 'splitter': 'best'}\n"
     ]
    }
   ],
   "source": [
    "from sklearn.tree import DecisionTreeClassifier\n",
    "from sklearn.metrics import classification_report, accuracy_score\n",
    "\n",
    "rs = 10\n",
    "# simple decision tree training\n",
    "model = DecisionTreeClassifier(random_state=rs)\n",
    "model.fit(x_train, y_train)\n",
    "\n",
    "# print model parameters\n",
    "print(model.get_params(deep = True))"
   ]
  },
  {
   "cell_type": "markdown",
   "id": "37390f55",
   "metadata": {},
   "source": [
    "# a"
   ]
  },
  {
   "cell_type": "code",
   "execution_count": 6,
   "id": "84cd7274",
   "metadata": {},
   "outputs": [
    {
     "name": "stdout",
     "output_type": "stream",
     "text": [
      "Train accuracy: 1.0\n"
     ]
    }
   ],
   "source": [
    "print(\"Train accuracy:\", model.score(x_train, y_train))"
   ]
  },
  {
   "cell_type": "code",
   "execution_count": 7,
   "id": "d12fcfb0",
   "metadata": {},
   "outputs": [
    {
     "name": "stdout",
     "output_type": "stream",
     "text": [
      "Test accuracy: 0.5621666666666667\n"
     ]
    }
   ],
   "source": [
    "print(\"Test accuracy:\", model.score(x_test, y_test))"
   ]
  },
  {
   "cell_type": "markdown",
   "id": "505cb8da",
   "metadata": {},
   "source": [
    "# b"
   ]
  },
  {
   "cell_type": "code",
   "execution_count": 8,
   "id": "b7ea33f6",
   "metadata": {},
   "outputs": [
    {
     "name": "stdout",
     "output_type": "stream",
     "text": [
      "              precision    recall  f1-score   support\n",
      "\n",
      "       False       0.59      0.58      0.58      3203\n",
      "        True       0.53      0.54      0.54      2797\n",
      "\n",
      "    accuracy                           0.56      6000\n",
      "   macro avg       0.56      0.56      0.56      6000\n",
      "weighted avg       0.56      0.56      0.56      6000\n",
      "\n"
     ]
    }
   ],
   "source": [
    "y_pred = model.predict(x_test)\n",
    "print(classification_report(y_test, y_pred))"
   ]
  },
  {
   "cell_type": "code",
   "execution_count": 9,
   "id": "5f40f7a3",
   "metadata": {},
   "outputs": [
    {
     "name": "stdout",
     "output_type": "stream",
     "text": [
      "7583\n",
      "3792\n"
     ]
    }
   ],
   "source": [
    "treeObj = model.tree_\n",
    "print(treeObj.node_count)\n",
    "print(treeObj.n_leaves)"
   ]
  },
  {
   "cell_type": "code",
   "execution_count": 10,
   "id": "aacd5ca2",
   "metadata": {},
   "outputs": [
    {
     "data": {
      "text/plain": [
       "{'ccp_alpha': 0.0,\n",
       " 'class_weight': None,\n",
       " 'criterion': 'gini',\n",
       " 'max_depth': None,\n",
       " 'max_features': None,\n",
       " 'max_leaf_nodes': None,\n",
       " 'min_impurity_decrease': 0.0,\n",
       " 'min_samples_leaf': 1,\n",
       " 'min_samples_split': 2,\n",
       " 'min_weight_fraction_leaf': 0.0,\n",
       " 'random_state': 10,\n",
       " 'splitter': 'best'}"
      ]
     },
     "execution_count": 10,
     "metadata": {},
     "output_type": "execute_result"
    }
   ],
   "source": [
    "model.get_params(deep = True)"
   ]
  },
  {
   "cell_type": "markdown",
   "id": "12edf180",
   "metadata": {},
   "source": [
    "# c"
   ]
  },
  {
   "cell_type": "code",
   "execution_count": 11,
   "id": "052e6f0a",
   "metadata": {},
   "outputs": [
    {
     "data": {
      "text/plain": [
       "[Text(0.5, 0.75, 'number_inpatient <= 0.5\\ngini = 0.498\\nsamples = 14000\\nvalue = [7474, 6526]\\nclass = age'),\n",
       " Text(0.25, 0.25, '\\n  (...)  \\n'),\n",
       " Text(0.75, 0.25, '\\n  (...)  \\n')]"
      ]
     },
     "execution_count": 11,
     "metadata": {},
     "output_type": "execute_result"
    },
    {
     "data": {
      "image/png": "[encoded data removed]",
      "text/plain": [
       "<Figure size 720x720 with 1 Axes>"
      ]
     },
     "metadata": {
      "needs_background": "light"
     },
     "output_type": "display_data"
    }
   ],
   "source": [
    "fig = plt.figure(figsize=(10,10))\n",
    "tree.plot_tree(model, feature_names=x_train.columns,class_names=x_test.columns,max_depth=0,filled=True)"
   ]
  },
  {
   "cell_type": "markdown",
   "id": "b5a752a1",
   "metadata": {},
   "source": [
    "importances = model.feature_importances_"
   ]
  },
  {
   "cell_type": "code",
   "execution_count": 12,
   "id": "516b9192",
   "metadata": {},
   "outputs": [
    {
     "name": "stdout",
     "output_type": "stream",
     "text": [
      "num_lab_procedures : 0.14534840757421408\n",
      "num_medications : 0.10777204974657265\n",
      "time_in_hospital : 0.0751300449964696\n",
      "number_inpatient : 0.06844337499695705\n",
      "age : 0.06239044061434661\n"
     ]
    }
   ],
   "source": [
    "import numpy as np\n",
    "importances = model.feature_importances_\n",
    "feature_names = X_mat.columns\n",
    "indices = np.argsort(importances)\n",
    "indices = np.flip(indices, axis=0)\n",
    "indices = indices[:5]\n",
    "for i in indices:\n",
    "    print(feature_names[i], ':', importances[i])"
   ]
  },
  {
   "cell_type": "markdown",
   "id": "95738f01",
   "metadata": {},
   "source": [
    "# 1.3 "
   ]
  },
  {
   "cell_type": "code",
   "execution_count": 13,
   "id": "e1178905",
   "metadata": {},
   "outputs": [],
   "source": [
    "from sklearn.model_selection import GridSearchCV"
   ]
  },
  {
   "cell_type": "code",
   "execution_count": 101,
   "id": "d6032417",
   "metadata": {},
   "outputs": [
    {
     "name": "stdout",
     "output_type": "stream",
     "text": [
      "{'mean_fit_time': array([0.19769864, 0.2028723 , 0.19982314, 0.19025519, 0.19936898,\n",
      "       0.21004753, 0.20372205, 0.21942911, 0.23339312, 0.22932453,\n",
      "       0.23526745, 0.24505534, 0.25690227, 0.24213126, 0.24746559,\n",
      "       0.23688312, 0.26892121, 0.26440556, 0.25147433, 0.25708146,\n",
      "       0.28719189, 0.28174706, 0.32974763, 0.29779866, 0.29346771,\n",
      "       0.28130746, 0.28794823, 0.29517965, 0.3194705 , 0.33600385,\n",
      "       0.32059889, 0.32726562, 0.35240541, 0.37974   , 0.33907492,\n",
      "       0.36011786, 0.3521724 , 0.35226402, 0.34953842, 0.33423972,\n",
      "       0.36080332, 0.38745754, 0.406832  , 0.37963834, 0.37516181,\n",
      "       0.42886772, 0.39110415, 0.36416321, 0.39207063, 0.3752084 ,\n",
      "       0.35611675, 0.35633426, 0.37933228, 0.37259576, 0.3669354 ,\n",
      "       0.35907297, 0.38762059, 0.37962458, 0.3713958 , 0.3588546 ,\n",
      "       0.18778307, 0.19420075, 0.18735545, 0.18719058, 0.20777495,\n",
      "       0.20427718, 0.20715179, 0.22531238, 0.22399957, 0.22561369,\n",
      "       0.22343655, 0.22551162, 0.24278669, 0.24443266, 0.24284737,\n",
      "       0.24291518, 0.25719666, 0.25805774, 0.2637099 , 0.25897067,\n",
      "       0.28294139, 0.27785616, 0.27652597, 0.27810524, 0.29630127,\n",
      "       0.30160072, 0.31119852, 0.32519555, 0.33052731, 0.32135146,\n",
      "       0.32470722, 0.33218088, 0.32942705, 0.3283699 , 0.32205274,\n",
      "       0.32129562, 0.33816178, 0.32923799, 0.32779791, 0.34177611,\n",
      "       0.39347973, 0.36495938, 0.35400398, 0.39897799, 0.3831892 ,\n",
      "       0.37469199, 0.35886385, 0.33788586, 0.37103817, 0.36370335,\n",
      "       0.35916691, 0.34968598, 0.37810891, 0.36759477, 0.36106136,\n",
      "       0.35231376, 0.38344958, 0.37244632, 0.36029189, 0.36863313]), 'std_fit_time': array([0.00969207, 0.01197059, 0.00722318, 0.00524829, 0.00439768,\n",
      "       0.0095478 , 0.00605997, 0.01774052, 0.00993957, 0.00282575,\n",
      "       0.01160216, 0.04541995, 0.01565134, 0.01244496, 0.01073427,\n",
      "       0.00564609, 0.03191512, 0.01532742, 0.00800043, 0.01084638,\n",
      "       0.01648814, 0.0160142 , 0.04089895, 0.03430224, 0.01614278,\n",
      "       0.00576634, 0.00665096, 0.02335694, 0.02127322, 0.03317773,\n",
      "       0.0218708 , 0.02478398, 0.02874426, 0.0375086 , 0.01728578,\n",
      "       0.03450686, 0.0238178 , 0.02234644, 0.02991996, 0.019072  ,\n",
      "       0.0206044 , 0.04520884, 0.05269602, 0.03533696, 0.03531709,\n",
      "       0.06401656, 0.02671683, 0.01947065, 0.01962509, 0.01677355,\n",
      "       0.00720013, 0.01229118, 0.00891282, 0.00947526, 0.00750986,\n",
      "       0.00720506, 0.00823793, 0.00954326, 0.01307746, 0.01067222,\n",
      "       0.0061951 , 0.00866546, 0.00692503, 0.00459332, 0.00592816,\n",
      "       0.00532565, 0.00824903, 0.03245607, 0.00745138, 0.00819231,\n",
      "       0.00801022, 0.00701034, 0.01061955, 0.00649005, 0.01124503,\n",
      "       0.00729354, 0.00683181, 0.00880357, 0.00815023, 0.00623631,\n",
      "       0.01055942, 0.00675664, 0.00885225, 0.01208707, 0.01172223,\n",
      "       0.02094261, 0.01334302, 0.03871639, 0.02205437, 0.01183955,\n",
      "       0.03284331, 0.0174207 , 0.00540321, 0.01025496, 0.00682144,\n",
      "       0.00698691, 0.00310198, 0.01628282, 0.00591395, 0.01389917,\n",
      "       0.05233812, 0.0200344 , 0.01652724, 0.02667397, 0.02145285,\n",
      "       0.02167886, 0.01399644, 0.00503249, 0.00724709, 0.00765764,\n",
      "       0.01303562, 0.00540749, 0.00414872, 0.00254647, 0.0056655 ,\n",
      "       0.00500845, 0.00528957, 0.0049123 , 0.00567708, 0.04980572]), 'mean_score_time': array([0.02048519, 0.02145832, 0.02207146, 0.02044523, 0.02057638,\n",
      "       0.02071879, 0.0203059 , 0.02140963, 0.02119606, 0.02075975,\n",
      "       0.02180111, 0.02219777, 0.02040567, 0.02229989, 0.02124469,\n",
      "       0.02012434, 0.02030847, 0.01962895, 0.02013466, 0.02104459,\n",
      "       0.02117686, 0.02036798, 0.0224766 , 0.02105999, 0.01981952,\n",
      "       0.02065258, 0.02030873, 0.02198157, 0.02159374, 0.02219794,\n",
      "       0.02219338, 0.02181315, 0.02142556, 0.02313764, 0.02120559,\n",
      "       0.02268221, 0.0212774 , 0.02222877, 0.02328005, 0.02042601,\n",
      "       0.02175364, 0.0229445 , 0.02612753, 0.02172325, 0.02079384,\n",
      "       0.02612827, 0.02190003, 0.0211309 , 0.02317939, 0.02124231,\n",
      "       0.02093377, 0.01934819, 0.02243507, 0.021139  , 0.02018933,\n",
      "       0.02148156, 0.02006929, 0.02064879, 0.02142389, 0.0209214 ,\n",
      "       0.020682  , 0.02140055, 0.01971929, 0.02003911, 0.02009692,\n",
      "       0.02095942, 0.02024636, 0.02029052, 0.0199224 , 0.02133667,\n",
      "       0.02031384, 0.0208854 , 0.0209455 , 0.02013867, 0.01990471,\n",
      "       0.02071364, 0.02088919, 0.02092683, 0.02098088, 0.02057629,\n",
      "       0.01946604, 0.02092006, 0.02306185, 0.02143021, 0.02077115,\n",
      "       0.02151952, 0.02078497, 0.02196324, 0.02273767, 0.02036877,\n",
      "       0.02109122, 0.01990366, 0.0205847 , 0.02089491, 0.0200016 ,\n",
      "       0.02158759, 0.01952665, 0.02040682, 0.02312965, 0.02145815,\n",
      "       0.02192907, 0.02183738, 0.02057796, 0.02342184, 0.0211921 ,\n",
      "       0.02030714, 0.02067661, 0.02173948, 0.0219403 , 0.02064111,\n",
      "       0.02089698, 0.02094066, 0.02123568, 0.02058661, 0.02198844,\n",
      "       0.02081285, 0.02222328, 0.02162468, 0.02120531, 0.02046337]), 'std_score_time': array([0.0015083 , 0.00244137, 0.00156373, 0.00182171, 0.00087153,\n",
      "       0.00167763, 0.00049257, 0.00276687, 0.00187646, 0.00162564,\n",
      "       0.0025803 , 0.00189383, 0.0022328 , 0.00314719, 0.00135745,\n",
      "       0.0017837 , 0.00221118, 0.00201633, 0.0001271 , 0.00107543,\n",
      "       0.00109075, 0.0008798 , 0.00325404, 0.00151519, 0.00132263,\n",
      "       0.00133025, 0.00139586, 0.00377284, 0.00352869, 0.00379172,\n",
      "       0.00243216, 0.00246742, 0.00198326, 0.0025043 , 0.00140173,\n",
      "       0.0024357 , 0.00185575, 0.00340272, 0.00507127, 0.0017327 ,\n",
      "       0.00250251, 0.00280711, 0.00642347, 0.00280675, 0.00226148,\n",
      "       0.00677043, 0.0019136 , 0.0010351 , 0.00373033, 0.00275973,\n",
      "       0.00170307, 0.00166761, 0.00426965, 0.00092622, 0.00152602,\n",
      "       0.00126055, 0.00170048, 0.00153086, 0.00124443, 0.002533  ,\n",
      "       0.00050158, 0.00170151, 0.00166855, 0.00275444, 0.00200899,\n",
      "       0.00137635, 0.00151356, 0.00227021, 0.00212611, 0.0018893 ,\n",
      "       0.00125505, 0.00137048, 0.00195663, 0.00184724, 0.00241372,\n",
      "       0.00234368, 0.00118973, 0.002331  , 0.00204159, 0.00289034,\n",
      "       0.00156606, 0.00184309, 0.00512825, 0.00384076, 0.0017939 ,\n",
      "       0.00282179, 0.00237919, 0.00287274, 0.00395255, 0.00053407,\n",
      "       0.00154071, 0.0016571 , 0.00114731, 0.00260528, 0.00126574,\n",
      "       0.00280491, 0.00153343, 0.00215109, 0.00160331, 0.00271149,\n",
      "       0.00154856, 0.00264112, 0.00082488, 0.00282502, 0.0027951 ,\n",
      "       0.00131194, 0.00188418, 0.00201197, 0.00220808, 0.0019852 ,\n",
      "       0.00181592, 0.00217311, 0.00188768, 0.00077889, 0.00157816,\n",
      "       0.00283408, 0.00224258, 0.00194624, 0.00256218, 0.00214577]), 'param_criterion': masked_array(data=['gini', 'gini', 'gini', 'gini', 'gini', 'gini', 'gini',\n",
      "                   'gini', 'gini', 'gini', 'gini', 'gini', 'gini', 'gini',\n",
      "                   'gini', 'gini', 'gini', 'gini', 'gini', 'gini', 'gini',\n",
      "                   'gini', 'gini', 'gini', 'gini', 'gini', 'gini', 'gini',\n",
      "                   'gini', 'gini', 'gini', 'gini', 'gini', 'gini', 'gini',\n",
      "                   'gini', 'gini', 'gini', 'gini', 'gini', 'gini', 'gini',\n",
      "                   'gini', 'gini', 'gini', 'gini', 'gini', 'gini', 'gini',\n",
      "                   'gini', 'gini', 'gini', 'gini', 'gini', 'gini', 'gini',\n",
      "                   'gini', 'gini', 'gini', 'gini', 'entropy', 'entropy',\n",
      "                   'entropy', 'entropy', 'entropy', 'entropy', 'entropy',\n",
      "                   'entropy', 'entropy', 'entropy', 'entropy', 'entropy',\n",
      "                   'entropy', 'entropy', 'entropy', 'entropy', 'entropy',\n",
      "                   'entropy', 'entropy', 'entropy', 'entropy', 'entropy',\n",
      "                   'entropy', 'entropy', 'entropy', 'entropy', 'entropy',\n",
      "                   'entropy', 'entropy', 'entropy', 'entropy', 'entropy',\n",
      "                   'entropy', 'entropy', 'entropy', 'entropy', 'entropy',\n",
      "                   'entropy', 'entropy', 'entropy', 'entropy', 'entropy',\n",
      "                   'entropy', 'entropy', 'entropy', 'entropy', 'entropy',\n",
      "                   'entropy', 'entropy', 'entropy', 'entropy', 'entropy',\n",
      "                   'entropy', 'entropy', 'entropy', 'entropy', 'entropy',\n",
      "                   'entropy', 'entropy', 'entropy'],\n",
      "             mask=[False, False, False, False, False, False, False, False,\n",
      "                   False, False, False, False, False, False, False, False,\n",
      "                   False, False, False, False, False, False, False, False,\n",
      "                   False, False, False, False, False, False, False, False,\n",
      "                   False, False, False, False, False, False, False, False,\n",
      "                   False, False, False, False, False, False, False, False,\n",
      "                   False, False, False, False, False, False, False, False,\n",
      "                   False, False, False, False, False, False, False, False,\n",
      "                   False, False, False, False, False, False, False, False,\n",
      "                   False, False, False, False, False, False, False, False,\n",
      "                   False, False, False, False, False, False, False, False,\n",
      "                   False, False, False, False, False, False, False, False,\n",
      "                   False, False, False, False, False, False, False, False,\n",
      "                   False, False, False, False, False, False, False, False,\n",
      "                   False, False, False, False, False, False, False, False],\n",
      "       fill_value='?',\n",
      "            dtype=object), 'param_max_depth': masked_array(data=[1, 1, 1, 1, 2, 2, 2, 2, 3, 3, 3, 3, 4, 4, 4, 4, 5, 5,\n",
      "                   5, 5, 6, 6, 6, 6, 7, 7, 7, 7, 8, 8, 8, 8, 9, 9, 9, 9,\n",
      "                   10, 10, 10, 10, 11, 11, 11, 11, 12, 12, 12, 12, 13, 13,\n",
      "                   13, 13, 14, 14, 14, 14, 15, 15, 15, 15, 1, 1, 1, 1, 2,\n",
      "                   2, 2, 2, 3, 3, 3, 3, 4, 4, 4, 4, 5, 5, 5, 5, 6, 6, 6,\n",
      "                   6, 7, 7, 7, 7, 8, 8, 8, 8, 9, 9, 9, 9, 10, 10, 10, 10,\n",
      "                   11, 11, 11, 11, 12, 12, 12, 12, 13, 13, 13, 13, 14, 14,\n",
      "                   14, 14, 15, 15, 15, 15],\n",
      "             mask=[False, False, False, False, False, False, False, False,\n",
      "                   False, False, False, False, False, False, False, False,\n",
      "                   False, False, False, False, False, False, False, False,\n",
      "                   False, False, False, False, False, False, False, False,\n",
      "                   False, False, False, False, False, False, False, False,\n",
      "                   False, False, False, False, False, False, False, False,\n",
      "                   False, False, False, False, False, False, False, False,\n",
      "                   False, False, False, False, False, False, False, False,\n",
      "                   False, False, False, False, False, False, False, False,\n",
      "                   False, False, False, False, False, False, False, False,\n",
      "                   False, False, False, False, False, False, False, False,\n",
      "                   False, False, False, False, False, False, False, False,\n",
      "                   False, False, False, False, False, False, False, False,\n",
      "                   False, False, False, False, False, False, False, False,\n",
      "                   False, False, False, False, False, False, False, False],\n",
      "       fill_value='?',\n",
      "            dtype=object), 'param_min_samples_leaf': masked_array(data=[5, 10, 15, 20, 5, 10, 15, 20, 5, 10, 15, 20, 5, 10, 15,\n",
      "                   20, 5, 10, 15, 20, 5, 10, 15, 20, 5, 10, 15, 20, 5, 10,\n",
      "                   15, 20, 5, 10, 15, 20, 5, 10, 15, 20, 5, 10, 15, 20, 5,\n",
      "                   10, 15, 20, 5, 10, 15, 20, 5, 10, 15, 20, 5, 10, 15,\n",
      "                   20, 5, 10, 15, 20, 5, 10, 15, 20, 5, 10, 15, 20, 5, 10,\n",
      "                   15, 20, 5, 10, 15, 20, 5, 10, 15, 20, 5, 10, 15, 20, 5,\n",
      "                   10, 15, 20, 5, 10, 15, 20, 5, 10, 15, 20, 5, 10, 15,\n",
      "                   20, 5, 10, 15, 20, 5, 10, 15, 20, 5, 10, 15, 20, 5, 10,\n",
      "                   15, 20],\n",
      "             mask=[False, False, False, False, False, False, False, False,\n",
      "                   False, False, False, False, False, False, False, False,\n",
      "                   False, False, False, False, False, False, False, False,\n",
      "                   False, False, False, False, False, False, False, False,\n",
      "                   False, False, False, False, False, False, False, False,\n",
      "                   False, False, False, False, False, False, False, False,\n",
      "                   False, False, False, False, False, False, False, False,\n",
      "                   False, False, False, False, False, False, False, False,\n",
      "                   False, False, False, False, False, False, False, False,\n",
      "                   False, False, False, False, False, False, False, False,\n",
      "                   False, False, False, False, False, False, False, False,\n",
      "                   False, False, False, False, False, False, False, False,\n",
      "                   False, False, False, False, False, False, False, False,\n",
      "                   False, False, False, False, False, False, False, False,\n",
      "                   False, False, False, False, False, False, False, False],\n",
      "       fill_value='?',\n",
      "            dtype=object), 'params': [{'criterion': 'gini', 'max_depth': 1, 'min_samples_leaf': 5}, {'criterion': 'gini', 'max_depth': 1, 'min_samples_leaf': 10}, {'criterion': 'gini', 'max_depth': 1, 'min_samples_leaf': 15}, {'criterion': 'gini', 'max_depth': 1, 'min_samples_leaf': 20}, {'criterion': 'gini', 'max_depth': 2, 'min_samples_leaf': 5}, {'criterion': 'gini', 'max_depth': 2, 'min_samples_leaf': 10}, {'criterion': 'gini', 'max_depth': 2, 'min_samples_leaf': 15}, {'criterion': 'gini', 'max_depth': 2, 'min_samples_leaf': 20}, {'criterion': 'gini', 'max_depth': 3, 'min_samples_leaf': 5}, {'criterion': 'gini', 'max_depth': 3, 'min_samples_leaf': 10}, {'criterion': 'gini', 'max_depth': 3, 'min_samples_leaf': 15}, {'criterion': 'gini', 'max_depth': 3, 'min_samples_leaf': 20}, {'criterion': 'gini', 'max_depth': 4, 'min_samples_leaf': 5}, {'criterion': 'gini', 'max_depth': 4, 'min_samples_leaf': 10}, {'criterion': 'gini', 'max_depth': 4, 'min_samples_leaf': 15}, {'criterion': 'gini', 'max_depth': 4, 'min_samples_leaf': 20}, {'criterion': 'gini', 'max_depth': 5, 'min_samples_leaf': 5}, {'criterion': 'gini', 'max_depth': 5, 'min_samples_leaf': 10}, {'criterion': 'gini', 'max_depth': 5, 'min_samples_leaf': 15}, {'criterion': 'gini', 'max_depth': 5, 'min_samples_leaf': 20}, {'criterion': 'gini', 'max_depth': 6, 'min_samples_leaf': 5}, {'criterion': 'gini', 'max_depth': 6, 'min_samples_leaf': 10}, {'criterion': 'gini', 'max_depth': 6, 'min_samples_leaf': 15}, {'criterion': 'gini', 'max_depth': 6, 'min_samples_leaf': 20}, {'criterion': 'gini', 'max_depth': 7, 'min_samples_leaf': 5}, {'criterion': 'gini', 'max_depth': 7, 'min_samples_leaf': 10}, {'criterion': 'gini', 'max_depth': 7, 'min_samples_leaf': 15}, {'criterion': 'gini', 'max_depth': 7, 'min_samples_leaf': 20}, {'criterion': 'gini', 'max_depth': 8, 'min_samples_leaf': 5}, {'criterion': 'gini', 'max_depth': 8, 'min_samples_leaf': 10}, {'criterion': 'gini', 'max_depth': 8, 'min_samples_leaf': 15}, {'criterion': 'gini', 'max_depth': 8, 'min_samples_leaf': 20}, {'criterion': 'gini', 'max_depth': 9, 'min_samples_leaf': 5}, {'criterion': 'gini', 'max_depth': 9, 'min_samples_leaf': 10}, {'criterion': 'gini', 'max_depth': 9, 'min_samples_leaf': 15}, {'criterion': 'gini', 'max_depth': 9, 'min_samples_leaf': 20}, {'criterion': 'gini', 'max_depth': 10, 'min_samples_leaf': 5}, {'criterion': 'gini', 'max_depth': 10, 'min_samples_leaf': 10}, {'criterion': 'gini', 'max_depth': 10, 'min_samples_leaf': 15}, {'criterion': 'gini', 'max_depth': 10, 'min_samples_leaf': 20}, {'criterion': 'gini', 'max_depth': 11, 'min_samples_leaf': 5}, {'criterion': 'gini', 'max_depth': 11, 'min_samples_leaf': 10}, {'criterion': 'gini', 'max_depth': 11, 'min_samples_leaf': 15}, {'criterion': 'gini', 'max_depth': 11, 'min_samples_leaf': 20}, {'criterion': 'gini', 'max_depth': 12, 'min_samples_leaf': 5}, {'criterion': 'gini', 'max_depth': 12, 'min_samples_leaf': 10}, {'criterion': 'gini', 'max_depth': 12, 'min_samples_leaf': 15}, {'criterion': 'gini', 'max_depth': 12, 'min_samples_leaf': 20}, {'criterion': 'gini', 'max_depth': 13, 'min_samples_leaf': 5}, {'criterion': 'gini', 'max_depth': 13, 'min_samples_leaf': 10}, {'criterion': 'gini', 'max_depth': 13, 'min_samples_leaf': 15}, {'criterion': 'gini', 'max_depth': 13, 'min_samples_leaf': 20}, {'criterion': 'gini', 'max_depth': 14, 'min_samples_leaf': 5}, {'criterion': 'gini', 'max_depth': 14, 'min_samples_leaf': 10}, {'criterion': 'gini', 'max_depth': 14, 'min_samples_leaf': 15}, {'criterion': 'gini', 'max_depth': 14, 'min_samples_leaf': 20}, {'criterion': 'gini', 'max_depth': 15, 'min_samples_leaf': 5}, {'criterion': 'gini', 'max_depth': 15, 'min_samples_leaf': 10}, {'criterion': 'gini', 'max_depth': 15, 'min_samples_leaf': 15}, {'criterion': 'gini', 'max_depth': 15, 'min_samples_leaf': 20}, {'criterion': 'entropy', 'max_depth': 1, 'min_samples_leaf': 5}, {'criterion': 'entropy', 'max_depth': 1, 'min_samples_leaf': 10}, {'criterion': 'entropy', 'max_depth': 1, 'min_samples_leaf': 15}, {'criterion': 'entropy', 'max_depth': 1, 'min_samples_leaf': 20}, {'criterion': 'entropy', 'max_depth': 2, 'min_samples_leaf': 5}, {'criterion': 'entropy', 'max_depth': 2, 'min_samples_leaf': 10}, {'criterion': 'entropy', 'max_depth': 2, 'min_samples_leaf': 15}, {'criterion': 'entropy', 'max_depth': 2, 'min_samples_leaf': 20}, {'criterion': 'entropy', 'max_depth': 3, 'min_samples_leaf': 5}, {'criterion': 'entropy', 'max_depth': 3, 'min_samples_leaf': 10}, {'criterion': 'entropy', 'max_depth': 3, 'min_samples_leaf': 15}, {'criterion': 'entropy', 'max_depth': 3, 'min_samples_leaf': 20}, {'criterion': 'entropy', 'max_depth': 4, 'min_samples_leaf': 5}, {'criterion': 'entropy', 'max_depth': 4, 'min_samples_leaf': 10}, {'criterion': 'entropy', 'max_depth': 4, 'min_samples_leaf': 15}, {'criterion': 'entropy', 'max_depth': 4, 'min_samples_leaf': 20}, {'criterion': 'entropy', 'max_depth': 5, 'min_samples_leaf': 5}, {'criterion': 'entropy', 'max_depth': 5, 'min_samples_leaf': 10}, {'criterion': 'entropy', 'max_depth': 5, 'min_samples_leaf': 15}, {'criterion': 'entropy', 'max_depth': 5, 'min_samples_leaf': 20}, {'criterion': 'entropy', 'max_depth': 6, 'min_samples_leaf': 5}, {'criterion': 'entropy', 'max_depth': 6, 'min_samples_leaf': 10}, {'criterion': 'entropy', 'max_depth': 6, 'min_samples_leaf': 15}, {'criterion': 'entropy', 'max_depth': 6, 'min_samples_leaf': 20}, {'criterion': 'entropy', 'max_depth': 7, 'min_samples_leaf': 5}, {'criterion': 'entropy', 'max_depth': 7, 'min_samples_leaf': 10}, {'criterion': 'entropy', 'max_depth': 7, 'min_samples_leaf': 15}, {'criterion': 'entropy', 'max_depth': 7, 'min_samples_leaf': 20}, {'criterion': 'entropy', 'max_depth': 8, 'min_samples_leaf': 5}, {'criterion': 'entropy', 'max_depth': 8, 'min_samples_leaf': 10}, {'criterion': 'entropy', 'max_depth': 8, 'min_samples_leaf': 15}, {'criterion': 'entropy', 'max_depth': 8, 'min_samples_leaf': 20}, {'criterion': 'entropy', 'max_depth': 9, 'min_samples_leaf': 5}, {'criterion': 'entropy', 'max_depth': 9, 'min_samples_leaf': 10}, {'criterion': 'entropy', 'max_depth': 9, 'min_samples_leaf': 15}, {'criterion': 'entropy', 'max_depth': 9, 'min_samples_leaf': 20}, {'criterion': 'entropy', 'max_depth': 10, 'min_samples_leaf': 5}, {'criterion': 'entropy', 'max_depth': 10, 'min_samples_leaf': 10}, {'criterion': 'entropy', 'max_depth': 10, 'min_samples_leaf': 15}, {'criterion': 'entropy', 'max_depth': 10, 'min_samples_leaf': 20}, {'criterion': 'entropy', 'max_depth': 11, 'min_samples_leaf': 5}, {'criterion': 'entropy', 'max_depth': 11, 'min_samples_leaf': 10}, {'criterion': 'entropy', 'max_depth': 11, 'min_samples_leaf': 15}, {'criterion': 'entropy', 'max_depth': 11, 'min_samples_leaf': 20}, {'criterion': 'entropy', 'max_depth': 12, 'min_samples_leaf': 5}, {'criterion': 'entropy', 'max_depth': 12, 'min_samples_leaf': 10}, {'criterion': 'entropy', 'max_depth': 12, 'min_samples_leaf': 15}, {'criterion': 'entropy', 'max_depth': 12, 'min_samples_leaf': 20}, {'criterion': 'entropy', 'max_depth': 13, 'min_samples_leaf': 5}, {'criterion': 'entropy', 'max_depth': 13, 'min_samples_leaf': 10}, {'criterion': 'entropy', 'max_depth': 13, 'min_samples_leaf': 15}, {'criterion': 'entropy', 'max_depth': 13, 'min_samples_leaf': 20}, {'criterion': 'entropy', 'max_depth': 14, 'min_samples_leaf': 5}, {'criterion': 'entropy', 'max_depth': 14, 'min_samples_leaf': 10}, {'criterion': 'entropy', 'max_depth': 14, 'min_samples_leaf': 15}, {'criterion': 'entropy', 'max_depth': 14, 'min_samples_leaf': 20}, {'criterion': 'entropy', 'max_depth': 15, 'min_samples_leaf': 5}, {'criterion': 'entropy', 'max_depth': 15, 'min_samples_leaf': 10}, {'criterion': 'entropy', 'max_depth': 15, 'min_samples_leaf': 15}, {'criterion': 'entropy', 'max_depth': 15, 'min_samples_leaf': 20}], 'split0_test_score': array([0.61428571, 0.61428571, 0.61428571, 0.61428571, 0.62      ,\n",
      "       0.62      , 0.62      , 0.62      , 0.605     , 0.605     ,\n",
      "       0.605     , 0.605     , 0.60642857, 0.60642857, 0.60642857,\n",
      "       0.60642857, 0.62      , 0.62      , 0.62      , 0.61785714,\n",
      "       0.63571429, 0.635     , 0.635     , 0.63142857, 0.62571429,\n",
      "       0.61428571, 0.61571429, 0.61214286, 0.61857143, 0.62285714,\n",
      "       0.62142857, 0.61      , 0.61357143, 0.60642857, 0.605     ,\n",
      "       0.60357143, 0.61642857, 0.59      , 0.59928571, 0.59785714,\n",
      "       0.60214286, 0.58428571, 0.59357143, 0.60785714, 0.58714286,\n",
      "       0.57714286, 0.59142857, 0.59071429, 0.59      , 0.57357143,\n",
      "       0.58857143, 0.59      , 0.585     , 0.58857143, 0.58857143,\n",
      "       0.59142857, 0.59428571, 0.58      , 0.58214286, 0.58357143,\n",
      "       0.61428571, 0.61428571, 0.61428571, 0.61428571, 0.62      ,\n",
      "       0.62      , 0.62      , 0.62      , 0.62      , 0.62      ,\n",
      "       0.62      , 0.62      , 0.60928571, 0.60928571, 0.60928571,\n",
      "       0.60928571, 0.61357143, 0.61357143, 0.61357143, 0.61142857,\n",
      "       0.635     , 0.635     , 0.635     , 0.63071429, 0.625     ,\n",
      "       0.62214286, 0.62214286, 0.62071429, 0.62571429, 0.62357143,\n",
      "       0.61928571, 0.60642857, 0.61857143, 0.61142857, 0.60928571,\n",
      "       0.61285714, 0.62      , 0.60785714, 0.605     , 0.60142857,\n",
      "       0.60642857, 0.59571429, 0.60285714, 0.61285714, 0.59142857,\n",
      "       0.59857143, 0.60642857, 0.60214286, 0.59      , 0.57928571,\n",
      "       0.59357143, 0.59857143, 0.585     , 0.59714286, 0.59      ,\n",
      "       0.59714286, 0.59785714, 0.59928571, 0.58357143, 0.58857143]), 'split1_test_score': array([0.605     , 0.605     , 0.605     , 0.605     , 0.61428571,\n",
      "       0.61428571, 0.61428571, 0.61428571, 0.61428571, 0.61428571,\n",
      "       0.61428571, 0.61428571, 0.62357143, 0.62357143, 0.62357143,\n",
      "       0.62142857, 0.62571429, 0.62571429, 0.62571429, 0.62357143,\n",
      "       0.62571429, 0.625     , 0.62428571, 0.61928571, 0.63857143,\n",
      "       0.63642857, 0.63642857, 0.62428571, 0.64214286, 0.64214286,\n",
      "       0.64071429, 0.62928571, 0.62071429, 0.62714286, 0.62142857,\n",
      "       0.61357143, 0.625     , 0.62642857, 0.63214286, 0.62214286,\n",
      "       0.63357143, 0.635     , 0.63785714, 0.62714286, 0.62142857,\n",
      "       0.61214286, 0.62642857, 0.62285714, 0.61285714, 0.61642857,\n",
      "       0.63071429, 0.61571429, 0.59142857, 0.60785714, 0.62142857,\n",
      "       0.61      , 0.59642857, 0.60428571, 0.62142857, 0.60785714,\n",
      "       0.605     , 0.605     , 0.605     , 0.605     , 0.61428571,\n",
      "       0.61428571, 0.61428571, 0.61428571, 0.61428571, 0.61428571,\n",
      "       0.61428571, 0.61428571, 0.62142857, 0.62142857, 0.62142857,\n",
      "       0.62142857, 0.62785714, 0.62571429, 0.62571429, 0.62357143,\n",
      "       0.62642857, 0.625     , 0.62428571, 0.61928571, 0.63357143,\n",
      "       0.63214286, 0.63285714, 0.62214286, 0.64214286, 0.64285714,\n",
      "       0.63928571, 0.62857143, 0.62714286, 0.62928571, 0.62785714,\n",
      "       0.61785714, 0.62928571, 0.63285714, 0.63714286, 0.625     ,\n",
      "       0.64142857, 0.64285714, 0.63857143, 0.62214286, 0.63142857,\n",
      "       0.62357143, 0.62642857, 0.62214286, 0.61285714, 0.61214286,\n",
      "       0.625     , 0.61285714, 0.60642857, 0.59928571, 0.61571429,\n",
      "       0.60357143, 0.60142857, 0.59      , 0.61357143, 0.60571429]), 'split2_test_score': array([0.63071429, 0.63071429, 0.63071429, 0.63071429, 0.63857143,\n",
      "       0.63857143, 0.63857143, 0.63857143, 0.63857143, 0.63857143,\n",
      "       0.63857143, 0.63857143, 0.64      , 0.64      , 0.64      ,\n",
      "       0.63857143, 0.64714286, 0.64714286, 0.64714286, 0.64357143,\n",
      "       0.65357143, 0.65357143, 0.65      , 0.62428571, 0.65214286,\n",
      "       0.65142857, 0.625     , 0.62214286, 0.60928571, 0.61214286,\n",
      "       0.61785714, 0.64571429, 0.61785714, 0.635     , 0.65071429,\n",
      "       0.625     , 0.62857143, 0.635     , 0.63785714, 0.63      ,\n",
      "       0.62285714, 0.62357143, 0.625     , 0.62857143, 0.61928571,\n",
      "       0.62285714, 0.625     , 0.62071429, 0.615     , 0.61857143,\n",
      "       0.62357143, 0.61285714, 0.61285714, 0.61714286, 0.61714286,\n",
      "       0.62357143, 0.615     , 0.60714286, 0.61      , 0.62071429,\n",
      "       0.63071429, 0.63071429, 0.63071429, 0.63071429, 0.63857143,\n",
      "       0.63857143, 0.63857143, 0.63857143, 0.63857143, 0.63857143,\n",
      "       0.63857143, 0.63857143, 0.63857143, 0.63857143, 0.63857143,\n",
      "       0.63857143, 0.64714286, 0.64714286, 0.64714286, 0.64357143,\n",
      "       0.64714286, 0.65285714, 0.64928571, 0.64642857, 0.64928571,\n",
      "       0.65214286, 0.625     , 0.62142857, 0.61285714, 0.61357143,\n",
      "       0.61428571, 0.64071429, 0.61785714, 0.61714286, 0.645     ,\n",
      "       0.62928571, 0.63285714, 0.65      , 0.63      , 0.625     ,\n",
      "       0.62857143, 0.62642857, 0.61642857, 0.61      , 0.63      ,\n",
      "       0.625     , 0.62071429, 0.61428571, 0.62214286, 0.62285714,\n",
      "       0.61714286, 0.61642857, 0.60714286, 0.61642857, 0.60571429,\n",
      "       0.61571429, 0.61857143, 0.61785714, 0.60428571, 0.61285714]), 'split3_test_score': array([0.61      , 0.61      , 0.61      , 0.61      , 0.62214286,\n",
      "       0.62214286, 0.62214286, 0.62214286, 0.62214286, 0.62214286,\n",
      "       0.62214286, 0.62214286, 0.62142857, 0.62142857, 0.62142857,\n",
      "       0.62142857, 0.62857143, 0.62928571, 0.62928571, 0.62928571,\n",
      "       0.62857143, 0.62928571, 0.62928571, 0.62928571, 0.62571429,\n",
      "       0.61928571, 0.62      , 0.62214286, 0.625     , 0.62071429,\n",
      "       0.62142857, 0.62071429, 0.62      , 0.61214286, 0.60785714,\n",
      "       0.60357143, 0.62071429, 0.61285714, 0.60785714, 0.60714286,\n",
      "       0.62      , 0.61642857, 0.61357143, 0.61928571, 0.63214286,\n",
      "       0.62857143, 0.61428571, 0.62214286, 0.63642857, 0.62357143,\n",
      "       0.60785714, 0.61357143, 0.61571429, 0.61571429, 0.60714286,\n",
      "       0.59714286, 0.61      , 0.61571429, 0.60071429, 0.60071429,\n",
      "       0.61      , 0.61      , 0.61      , 0.61      , 0.62214286,\n",
      "       0.62214286, 0.62214286, 0.62214286, 0.62214286, 0.62214286,\n",
      "       0.62214286, 0.62214286, 0.62142857, 0.62142857, 0.62142857,\n",
      "       0.62142857, 0.62785714, 0.62857143, 0.62857143, 0.62928571,\n",
      "       0.62928571, 0.63      , 0.63071429, 0.63071429, 0.62571429,\n",
      "       0.62214286, 0.62      , 0.62214286, 0.63      , 0.62571429,\n",
      "       0.62357143, 0.62      , 0.62071429, 0.62142857, 0.62142857,\n",
      "       0.60857143, 0.62      , 0.625     , 0.62142857, 0.61785714,\n",
      "       0.60928571, 0.61357143, 0.61357143, 0.61642857, 0.62071429,\n",
      "       0.62142857, 0.60642857, 0.605     , 0.62142857, 0.62571429,\n",
      "       0.61142857, 0.60285714, 0.61928571, 0.62571429, 0.61214286,\n",
      "       0.59642857, 0.62857143, 0.62142857, 0.61428571, 0.58857143]), 'split4_test_score': array([0.62785714, 0.62785714, 0.62785714, 0.62785714, 0.63714286,\n",
      "       0.63714286, 0.63714286, 0.63714286, 0.63714286, 0.63714286,\n",
      "       0.63714286, 0.63714286, 0.60714286, 0.60714286, 0.60714286,\n",
      "       0.60642857, 0.625     , 0.625     , 0.625     , 0.62428571,\n",
      "       0.63428571, 0.63428571, 0.63428571, 0.63428571, 0.63214286,\n",
      "       0.63571429, 0.63214286, 0.63071429, 0.63857143, 0.64      ,\n",
      "       0.63714286, 0.63357143, 0.63857143, 0.63428571, 0.62428571,\n",
      "       0.63071429, 0.62357143, 0.61214286, 0.61428571, 0.61571429,\n",
      "       0.61928571, 0.61785714, 0.60785714, 0.60428571, 0.61571429,\n",
      "       0.61428571, 0.59928571, 0.58785714, 0.60285714, 0.60285714,\n",
      "       0.59714286, 0.58142857, 0.61714286, 0.59285714, 0.59      ,\n",
      "       0.57857143, 0.595     , 0.59428571, 0.59142857, 0.57857143,\n",
      "       0.62785714, 0.62785714, 0.62785714, 0.62785714, 0.63714286,\n",
      "       0.63714286, 0.63714286, 0.63714286, 0.63714286, 0.63714286,\n",
      "       0.63714286, 0.63714286, 0.61714286, 0.61714286, 0.61714286,\n",
      "       0.61642857, 0.62928571, 0.62928571, 0.62928571, 0.62857143,\n",
      "       0.63      , 0.63      , 0.63      , 0.62928571, 0.63214286,\n",
      "       0.63071429, 0.62714286, 0.62571429, 0.63714286, 0.63642857,\n",
      "       0.63214286, 0.63071429, 0.63142857, 0.63      , 0.62428571,\n",
      "       0.63214286, 0.62857143, 0.61571429, 0.62571429, 0.62214286,\n",
      "       0.62785714, 0.62714286, 0.61428571, 0.61428571, 0.615     ,\n",
      "       0.61714286, 0.60142857, 0.59857143, 0.63285714, 0.62214286,\n",
      "       0.60642857, 0.58785714, 0.63642857, 0.61642857, 0.59785714,\n",
      "       0.59642857, 0.61214286, 0.60428571, 0.59642857, 0.59785714]), 'split5_test_score': array([0.60571429, 0.60571429, 0.60571429, 0.60571429, 0.61      ,\n",
      "       0.61      , 0.61      , 0.61      , 0.61      , 0.61      ,\n",
      "       0.61      , 0.61      , 0.61214286, 0.61214286, 0.61214286,\n",
      "       0.61      , 0.61357143, 0.61357143, 0.61357143, 0.61142857,\n",
      "       0.625     , 0.625     , 0.62428571, 0.62      , 0.62428571,\n",
      "       0.62428571, 0.62214286, 0.62      , 0.61      , 0.61285714,\n",
      "       0.61142857, 0.61285714, 0.61714286, 0.61142857, 0.615     ,\n",
      "       0.61714286, 0.61785714, 0.61357143, 0.60571429, 0.61285714,\n",
      "       0.61071429, 0.60428571, 0.60285714, 0.61      , 0.60857143,\n",
      "       0.60571429, 0.60357143, 0.60357143, 0.60428571, 0.59928571,\n",
      "       0.60357143, 0.60928571, 0.60571429, 0.60285714, 0.59428571,\n",
      "       0.61      , 0.60642857, 0.59857143, 0.58714286, 0.59571429,\n",
      "       0.60571429, 0.60571429, 0.60571429, 0.60571429, 0.61      ,\n",
      "       0.61      , 0.61      , 0.61      , 0.61      , 0.61      ,\n",
      "       0.61      , 0.61      , 0.61142857, 0.61142857, 0.61142857,\n",
      "       0.61142857, 0.60857143, 0.60857143, 0.60857143, 0.60642857,\n",
      "       0.62285714, 0.62142857, 0.62071429, 0.61857143, 0.62214286,\n",
      "       0.625     , 0.62428571, 0.62214286, 0.61214286, 0.61571429,\n",
      "       0.61357143, 0.61      , 0.61857143, 0.61714286, 0.61928571,\n",
      "       0.615     , 0.61857143, 0.61428571, 0.61142857, 0.60857143,\n",
      "       0.61857143, 0.62142857, 0.61357143, 0.62428571, 0.61642857,\n",
      "       0.61357143, 0.61785714, 0.62142857, 0.61642857, 0.61642857,\n",
      "       0.59642857, 0.6       , 0.60785714, 0.605     , 0.595     ,\n",
      "       0.595     , 0.61642857, 0.605     , 0.57571429, 0.59071429]), 'split6_test_score': array([0.61785714, 0.61785714, 0.61785714, 0.61785714, 0.62428571,\n",
      "       0.62428571, 0.62428571, 0.62428571, 0.62428571, 0.62428571,\n",
      "       0.62428571, 0.62428571, 0.61785714, 0.61785714, 0.61785714,\n",
      "       0.61785714, 0.62214286, 0.62214286, 0.62214286, 0.62071429,\n",
      "       0.61428571, 0.61571429, 0.61357143, 0.61571429, 0.62428571,\n",
      "       0.62214286, 0.62142857, 0.61928571, 0.615     , 0.62      ,\n",
      "       0.61428571, 0.61285714, 0.62071429, 0.61785714, 0.61214286,\n",
      "       0.61357143, 0.61714286, 0.61285714, 0.61428571, 0.60857143,\n",
      "       0.61428571, 0.60714286, 0.60785714, 0.58785714, 0.60785714,\n",
      "       0.61928571, 0.60142857, 0.58071429, 0.60357143, 0.60285714,\n",
      "       0.595     , 0.57214286, 0.605     , 0.6       , 0.59357143,\n",
      "       0.57071429, 0.59214286, 0.60714286, 0.58714286, 0.57642857,\n",
      "       0.61785714, 0.61785714, 0.61785714, 0.61785714, 0.62428571,\n",
      "       0.62428571, 0.62428571, 0.62428571, 0.62428571, 0.62428571,\n",
      "       0.62428571, 0.62428571, 0.61785714, 0.61785714, 0.61785714,\n",
      "       0.61785714, 0.62357143, 0.62214286, 0.62214286, 0.62071429,\n",
      "       0.61357143, 0.61428571, 0.61357143, 0.61214286, 0.625     ,\n",
      "       0.63214286, 0.62785714, 0.61857143, 0.61857143, 0.61642857,\n",
      "       0.61642857, 0.60928571, 0.61642857, 0.62357143, 0.61785714,\n",
      "       0.61214286, 0.61357143, 0.61285714, 0.61142857, 0.60857143,\n",
      "       0.61642857, 0.61357143, 0.60428571, 0.60357143, 0.61142857,\n",
      "       0.62714286, 0.60428571, 0.59642857, 0.59214286, 0.61357143,\n",
      "       0.59785714, 0.59      , 0.59214286, 0.61      , 0.58642857,\n",
      "       0.57857143, 0.58357143, 0.59071429, 0.58571429, 0.58357143]), 'split7_test_score': array([0.62857143, 0.62857143, 0.62857143, 0.62857143, 0.63714286,\n",
      "       0.63714286, 0.63714286, 0.63714286, 0.63714286, 0.63714286,\n",
      "       0.63714286, 0.63714286, 0.63785714, 0.63785714, 0.63785714,\n",
      "       0.63785714, 0.635     , 0.635     , 0.635     , 0.635     ,\n",
      "       0.63785714, 0.63785714, 0.63785714, 0.63785714, 0.62428571,\n",
      "       0.62857143, 0.62571429, 0.625     , 0.62      , 0.62214286,\n",
      "       0.625     , 0.62714286, 0.61642857, 0.62071429, 0.61428571,\n",
      "       0.61714286, 0.61142857, 0.61928571, 0.60357143, 0.61714286,\n",
      "       0.61928571, 0.61714286, 0.60928571, 0.62285714, 0.61      ,\n",
      "       0.61428571, 0.60571429, 0.61642857, 0.61071429, 0.60928571,\n",
      "       0.60571429, 0.62714286, 0.60357143, 0.60357143, 0.60642857,\n",
      "       0.61428571, 0.595     , 0.59642857, 0.61071429, 0.62571429,\n",
      "       0.62857143, 0.62857143, 0.62857143, 0.62857143, 0.63714286,\n",
      "       0.63714286, 0.63714286, 0.63714286, 0.63714286, 0.63714286,\n",
      "       0.63714286, 0.63714286, 0.63785714, 0.63785714, 0.63785714,\n",
      "       0.63785714, 0.64285714, 0.64285714, 0.64285714, 0.64285714,\n",
      "       0.64142857, 0.64142857, 0.64214286, 0.64214286, 0.62357143,\n",
      "       0.62642857, 0.63142857, 0.63142857, 0.62714286, 0.63285714,\n",
      "       0.63571429, 0.63428571, 0.62857143, 0.62285714, 0.61714286,\n",
      "       0.61571429, 0.61785714, 0.61714286, 0.61714286, 0.61857143,\n",
      "       0.60642857, 0.60571429, 0.61928571, 0.62214286, 0.605     ,\n",
      "       0.60714286, 0.61714286, 0.61928571, 0.60428571, 0.60428571,\n",
      "       0.61285714, 0.615     , 0.59142857, 0.59      , 0.61428571,\n",
      "       0.61857143, 0.60071429, 0.60642857, 0.61357143, 0.62214286]), 'split8_test_score': array([0.61428571, 0.61428571, 0.61428571, 0.61428571, 0.62285714,\n",
      "       0.62285714, 0.62285714, 0.62285714, 0.62285714, 0.62285714,\n",
      "       0.62285714, 0.62285714, 0.64142857, 0.64142857, 0.64142857,\n",
      "       0.63928571, 0.64428571, 0.64428571, 0.64428571, 0.64214286,\n",
      "       0.65285714, 0.65285714, 0.65357143, 0.64928571, 0.645     ,\n",
      "       0.64428571, 0.64785714, 0.64714286, 0.64571429, 0.64071429,\n",
      "       0.64142857, 0.63571429, 0.63785714, 0.63357143, 0.63428571,\n",
      "       0.63642857, 0.63142857, 0.62214286, 0.63285714, 0.62857143,\n",
      "       0.62714286, 0.61785714, 0.62714286, 0.63428571, 0.62428571,\n",
      "       0.61285714, 0.62214286, 0.61928571, 0.62214286, 0.615     ,\n",
      "       0.60857143, 0.62214286, 0.61928571, 0.61785714, 0.61285714,\n",
      "       0.62214286, 0.6       , 0.61      , 0.60857143, 0.61928571,\n",
      "       0.61428571, 0.61428571, 0.61428571, 0.61428571, 0.62285714,\n",
      "       0.62285714, 0.62285714, 0.62285714, 0.62285714, 0.62285714,\n",
      "       0.62285714, 0.62285714, 0.63428571, 0.63428571, 0.63428571,\n",
      "       0.63428571, 0.63285714, 0.63285714, 0.63714286, 0.63571429,\n",
      "       0.64357143, 0.64357143, 0.64357143, 0.64214286, 0.63571429,\n",
      "       0.63714286, 0.65142857, 0.65142857, 0.65142857, 0.65214286,\n",
      "       0.64714286, 0.64571429, 0.64714286, 0.64571429, 0.64      ,\n",
      "       0.64      , 0.64142857, 0.63714286, 0.63357143, 0.63714286,\n",
      "       0.63785714, 0.625     , 0.63071429, 0.63571429, 0.63      ,\n",
      "       0.62928571, 0.62714286, 0.62785714, 0.63285714, 0.62642857,\n",
      "       0.61642857, 0.63714286, 0.62857143, 0.61928571, 0.62142857,\n",
      "       0.62928571, 0.61214286, 0.60571429, 0.61214286, 0.63642857]), 'split9_test_score': array([0.62142857, 0.62142857, 0.62142857, 0.62142857, 0.63071429,\n",
      "       0.63071429, 0.63071429, 0.63071429, 0.62357143, 0.62357143,\n",
      "       0.62357143, 0.62357143, 0.63      , 0.63      , 0.63      ,\n",
      "       0.63      , 0.63857143, 0.64357143, 0.64357143, 0.64357143,\n",
      "       0.63642857, 0.63571429, 0.63571429, 0.63857143, 0.64214286,\n",
      "       0.64642857, 0.64571429, 0.64571429, 0.63357143, 0.63214286,\n",
      "       0.63142857, 0.63428571, 0.635     , 0.63285714, 0.635     ,\n",
      "       0.63357143, 0.63214286, 0.635     , 0.63857143, 0.63285714,\n",
      "       0.63142857, 0.61928571, 0.61285714, 0.61857143, 0.62285714,\n",
      "       0.60571429, 0.61142857, 0.61642857, 0.61357143, 0.60428571,\n",
      "       0.60928571, 0.61      , 0.61071429, 0.59642857, 0.60357143,\n",
      "       0.60071429, 0.60357143, 0.58857143, 0.59928571, 0.60071429,\n",
      "       0.62142857, 0.62142857, 0.62142857, 0.62142857, 0.63071429,\n",
      "       0.63071429, 0.63071429, 0.63071429, 0.62357143, 0.62357143,\n",
      "       0.62357143, 0.62357143, 0.62928571, 0.62928571, 0.62928571,\n",
      "       0.62928571, 0.63857143, 0.64357143, 0.64357143, 0.64285714,\n",
      "       0.63357143, 0.63571429, 0.63571429, 0.63714286, 0.63214286,\n",
      "       0.64285714, 0.63857143, 0.64571429, 0.63142857, 0.63428571,\n",
      "       0.63071429, 0.63142857, 0.63642857, 0.63571429, 0.63285714,\n",
      "       0.635     , 0.63714286, 0.64357143, 0.63214286, 0.63142857,\n",
      "       0.63      , 0.63142857, 0.61928571, 0.62857143, 0.62642857,\n",
      "       0.61285714, 0.60928571, 0.62142857, 0.61785714, 0.61428571,\n",
      "       0.61857143, 0.62357143, 0.61928571, 0.61142857, 0.60214286,\n",
      "       0.61428571, 0.61285714, 0.60071429, 0.59714286, 0.615     ]), 'mean_test_score': array([0.61757143, 0.61757143, 0.61757143, 0.61757143, 0.62571429,\n",
      "       0.62571429, 0.62571429, 0.62571429, 0.6235    , 0.6235    ,\n",
      "       0.6235    , 0.6235    , 0.62378571, 0.62378571, 0.62378571,\n",
      "       0.62292857, 0.63      , 0.63057143, 0.63057143, 0.62914286,\n",
      "       0.63442857, 0.63442857, 0.63378571, 0.63      , 0.63342857,\n",
      "       0.63228571, 0.62921429, 0.62685714, 0.62578571, 0.62657143,\n",
      "       0.62621429, 0.62621429, 0.62378571, 0.62314286, 0.622     ,\n",
      "       0.61942857, 0.62242857, 0.61792857, 0.61864286, 0.61728571,\n",
      "       0.62007143, 0.61428571, 0.61378571, 0.61607143, 0.61492857,\n",
      "       0.61128571, 0.61007143, 0.60807143, 0.61114286, 0.60657143,\n",
      "       0.607     , 0.60542857, 0.60664286, 0.60428571, 0.6035    ,\n",
      "       0.60185714, 0.60078571, 0.60021429, 0.59985714, 0.60092857,\n",
      "       0.61757143, 0.61757143, 0.61757143, 0.61757143, 0.62571429,\n",
      "       0.62571429, 0.62571429, 0.62571429, 0.625     , 0.625     ,\n",
      "       0.625     , 0.625     , 0.62385714, 0.62385714, 0.62385714,\n",
      "       0.62378571, 0.62921429, 0.62942857, 0.62985714, 0.6285    ,\n",
      "       0.63228571, 0.63292857, 0.6325    , 0.63085714, 0.63042857,\n",
      "       0.63228571, 0.63007143, 0.62814286, 0.62885714, 0.62935714,\n",
      "       0.62721429, 0.62571429, 0.62628571, 0.62542857, 0.6255    ,\n",
      "       0.62185714, 0.62592857, 0.62564286, 0.6225    , 0.61957143,\n",
      "       0.62228571, 0.62028571, 0.61728571, 0.619     , 0.61778571,\n",
      "       0.61757143, 0.61371429, 0.61285714, 0.61428571, 0.61371429,\n",
      "       0.60957143, 0.60842857, 0.60935714, 0.60907143, 0.60407143,\n",
      "       0.6045    , 0.60842857, 0.60414286, 0.59964286, 0.60414286]), 'std_test_score': array([0.00889967, 0.00889967, 0.00889967, 0.00889967, 0.00940582,\n",
      "       0.00940582, 0.00940582, 0.00940582, 0.01100765, 0.01100765,\n",
      "       0.01100765, 0.01100765, 0.01251142, 0.01251142, 0.01251142,\n",
      "       0.01235714, 0.01036084, 0.01085996, 0.01085996, 0.0108928 ,\n",
      "       0.01152548, 0.01128843, 0.01133916, 0.00989743, 0.00978754,\n",
      "       0.01188723, 0.01043175, 0.01075801, 0.01269923, 0.01077507,\n",
      "       0.01032656, 0.01118057, 0.00901841, 0.01027281, 0.01358195,\n",
      "       0.01108778, 0.00655588, 0.01248448, 0.01440114, 0.01064645,\n",
      "       0.00901501, 0.01276555, 0.01226015, 0.01308625, 0.01181252,\n",
      "       0.01321255, 0.01120518, 0.01523305, 0.01185026, 0.01335466,\n",
      "       0.0119983 , 0.01713452, 0.01058517, 0.00976249, 0.01097981,\n",
      "       0.01677644, 0.00728046, 0.01022227, 0.0121294 , 0.01679118,\n",
      "       0.00889967, 0.00889967, 0.00889967, 0.00889967, 0.00940582,\n",
      "       0.00940582, 0.00940582, 0.00940582, 0.00926922, 0.00926922,\n",
      "       0.00926922, 0.00926922, 0.01005191, 0.01005191, 0.01005191,\n",
      "       0.01010178, 0.01146623, 0.01208305, 0.01227159, 0.01247221,\n",
      "       0.00963518, 0.01074496, 0.01043077, 0.01083645, 0.0077209 ,\n",
      "       0.00908464, 0.00880312, 0.01080533, 0.01190181, 0.0119883 ,\n",
      "       0.01094257, 0.01298351, 0.00942641, 0.00955222, 0.0104786 ,\n",
      "       0.01056177, 0.0088008 , 0.01370777, 0.01038174, 0.01044031,\n",
      "       0.01207882, 0.01283808, 0.01027579, 0.0089682 , 0.01214895,\n",
      "       0.00918184, 0.0088629 , 0.01073332, 0.01414935, 0.01320869,\n",
      "       0.01006712, 0.0146378 , 0.0158933 , 0.01055621, 0.01114858,\n",
      "       0.01407723, 0.0120746 , 0.00954474, 0.01349698, 0.01640309]), 'rank_test_score': array([ 77,  77,  77,  77,  34,  34,  34,  34,  58,  58,  58,  58,  53,\n",
      "        53,  53,  63,  15,  11,  11,  22,   1,   1,   3,  15,   4,   7,\n",
      "        20,  27,  33,  28,  31,  30,  53,  62,  67,  72,  65,  75,  74,\n",
      "        87,  70,  90,  92,  88,  89,  96,  98, 104,  97, 107, 105, 108,\n",
      "       106, 110, 114, 115, 117, 118, 119, 116,  77,  77,  77,  77,  34,\n",
      "        34,  34,  34,  46,  46,  46,  46,  50,  50,  50,  53,  21,  18,\n",
      "        17,  24,   7,   5,   6,  10,  13,   7,  14,  25,  23,  19,  26,\n",
      "        34,  29,  45,  44,  68,  32,  43,  64,  71,  66,  69,  86,  73,\n",
      "        76,  77,  93,  95,  91,  93,  99, 103, 100, 101, 113, 109, 102,\n",
      "       111, 120, 111]), 'split0_train_score': array([0.61793651, 0.61793651, 0.61793651, 0.61793651, 0.62634921,\n",
      "       0.62634921, 0.62634921, 0.62634921, 0.63055556, 0.63055556,\n",
      "       0.63055556, 0.63055556, 0.63507937, 0.63507937, 0.63507937,\n",
      "       0.63507937, 0.64301587, 0.64301587, 0.64293651, 0.6418254 ,\n",
      "       0.65063492, 0.64904762, 0.64896825, 0.6484127 , 0.6597619 ,\n",
      "       0.65761905, 0.65769841, 0.65642857, 0.66634921, 0.66428571,\n",
      "       0.66373016, 0.66230159, 0.68166667, 0.67722222, 0.67325397,\n",
      "       0.67261905, 0.69269841, 0.68920635, 0.68373016, 0.6797619 ,\n",
      "       0.7047619 , 0.70071429, 0.69126984, 0.6868254 , 0.71928571,\n",
      "       0.70849206, 0.69960317, 0.6931746 , 0.73214286, 0.71833333,\n",
      "       0.70634921, 0.69730159, 0.74634921, 0.72603175, 0.71071429,\n",
      "       0.70365079, 0.75928571, 0.73428571, 0.71595238, 0.70603175,\n",
      "       0.61793651, 0.61793651, 0.61793651, 0.61793651, 0.62634921,\n",
      "       0.62634921, 0.62634921, 0.62634921, 0.62634921, 0.62634921,\n",
      "       0.62634921, 0.62634921, 0.63230159, 0.63230159, 0.63230159,\n",
      "       0.63230159, 0.64071429, 0.64071429, 0.64071429, 0.63960317,\n",
      "       0.64865079, 0.6481746 , 0.64809524, 0.64777778, 0.65587302,\n",
      "       0.65555556, 0.65531746, 0.65420635, 0.66230159, 0.66039683,\n",
      "       0.66087302, 0.66007937, 0.67404762, 0.67404762, 0.67190476,\n",
      "       0.67119048, 0.68468254, 0.68388889, 0.68119048, 0.67880952,\n",
      "       0.6984127 , 0.69404762, 0.68603175, 0.68531746, 0.71055556,\n",
      "       0.70166667, 0.69515873, 0.69301587, 0.72134921, 0.71238095,\n",
      "       0.70380952, 0.69690476, 0.73309524, 0.72119048, 0.70849206,\n",
      "       0.70246032, 0.74888889, 0.73293651, 0.71452381, 0.70579365]), 'split1_train_score': array([0.61896825, 0.61896825, 0.61896825, 0.61896825, 0.62698413,\n",
      "       0.62698413, 0.62698413, 0.62698413, 0.62698413, 0.62698413,\n",
      "       0.62698413, 0.62698413, 0.63460317, 0.63460317, 0.63460317,\n",
      "       0.63333333, 0.63968254, 0.63968254, 0.63968254, 0.6384127 ,\n",
      "       0.6434127 , 0.64357143, 0.64333333, 0.64206349, 0.65039683,\n",
      "       0.65007937, 0.64928571, 0.64801587, 0.6581746 , 0.65642857,\n",
      "       0.65587302, 0.65349206, 0.66706349, 0.66380952, 0.66301587,\n",
      "       0.66111111, 0.67960317, 0.67436508, 0.67230159, 0.67111111,\n",
      "       0.69126984, 0.68595238, 0.67920635, 0.67452381, 0.70333333,\n",
      "       0.69380952, 0.68833333, 0.68119048, 0.7152381 , 0.70380952,\n",
      "       0.69539683, 0.68801587, 0.73357143, 0.71436508, 0.70166667,\n",
      "       0.69206349, 0.74420635, 0.72388889, 0.7102381 , 0.69825397,\n",
      "       0.61896825, 0.61896825, 0.61896825, 0.61896825, 0.62698413,\n",
      "       0.62698413, 0.62698413, 0.62698413, 0.62698413, 0.62698413,\n",
      "       0.62698413, 0.62698413, 0.63333333, 0.63333333, 0.63333333,\n",
      "       0.63333333, 0.63984127, 0.63952381, 0.63952381, 0.6384127 ,\n",
      "       0.64269841, 0.6434127 , 0.6431746 , 0.64206349, 0.65079365,\n",
      "       0.64992063, 0.64912698, 0.64706349, 0.65730159, 0.65603175,\n",
      "       0.65515873, 0.65412698, 0.66611111, 0.66404762, 0.66492063,\n",
      "       0.66285714, 0.6765873 , 0.67222222, 0.67269841, 0.66968254,\n",
      "       0.68952381, 0.68492063, 0.6815873 , 0.67634921, 0.70150794,\n",
      "       0.6968254 , 0.69198413, 0.68452381, 0.71587302, 0.70571429,\n",
      "       0.69809524, 0.69111111, 0.72865079, 0.71396825, 0.70436508,\n",
      "       0.69738095, 0.74174603, 0.72603175, 0.71277778, 0.70373016]), 'split2_train_score': array([0.61611111, 0.61611111, 0.61611111, 0.61611111, 0.62428571,\n",
      "       0.62428571, 0.62428571, 0.62428571, 0.62428571, 0.62428571,\n",
      "       0.62428571, 0.62428571, 0.63126984, 0.63126984, 0.63126984,\n",
      "       0.62992063, 0.63531746, 0.63531746, 0.63468254, 0.63222222,\n",
      "       0.6368254 , 0.6368254 , 0.63706349, 0.63793651, 0.64166667,\n",
      "       0.6415873 , 0.64285714, 0.64396825, 0.65174603, 0.6518254 ,\n",
      "       0.65412698, 0.65380952, 0.66222222, 0.66142857, 0.66063492,\n",
      "       0.66079365, 0.67603175, 0.67404762, 0.67119048, 0.66785714,\n",
      "       0.6934127 , 0.685     , 0.67992063, 0.67515873, 0.71087302,\n",
      "       0.69484127, 0.68547619, 0.68063492, 0.72849206, 0.70492063,\n",
      "       0.69333333, 0.68912698, 0.7415873 , 0.71246032, 0.70190476,\n",
      "       0.69611111, 0.75833333, 0.72206349, 0.70865079, 0.69960317,\n",
      "       0.61611111, 0.61611111, 0.61611111, 0.61611111, 0.62428571,\n",
      "       0.62428571, 0.62428571, 0.62428571, 0.62428571, 0.62428571,\n",
      "       0.62428571, 0.62428571, 0.62992063, 0.62992063, 0.62992063,\n",
      "       0.62992063, 0.63515873, 0.63515873, 0.63452381, 0.63222222,\n",
      "       0.63793651, 0.63801587, 0.63730159, 0.63626984, 0.63968254,\n",
      "       0.64007937, 0.6418254 , 0.64230159, 0.64801587, 0.64809524,\n",
      "       0.65214286, 0.64849206, 0.65722222, 0.65785714, 0.65746032,\n",
      "       0.65587302, 0.66634921, 0.66666667, 0.66761905, 0.66849206,\n",
      "       0.68015873, 0.67920635, 0.67746032, 0.67428571, 0.68984127,\n",
      "       0.69166667, 0.68619048, 0.6815873 , 0.70468254, 0.70373016,\n",
      "       0.695     , 0.68928571, 0.72230159, 0.71452381, 0.70396825,\n",
      "       0.69730159, 0.73849206, 0.72452381, 0.71      , 0.7018254 ]), 'split3_train_score': array([0.6184127 , 0.6184127 , 0.6184127 , 0.6184127 , 0.62611111,\n",
      "       0.62611111, 0.62611111, 0.62611111, 0.62611111, 0.62611111,\n",
      "       0.62611111, 0.62611111, 0.62920635, 0.62920635, 0.62920635,\n",
      "       0.62920635, 0.63468254, 0.63420635, 0.63420635, 0.63420635,\n",
      "       0.6402381 , 0.63936508, 0.63936508, 0.63833333, 0.64325397,\n",
      "       0.64198413, 0.64190476, 0.64111111, 0.64753968, 0.64706349,\n",
      "       0.64611111, 0.64563492, 0.65396825, 0.65396825, 0.65285714,\n",
      "       0.65301587, 0.66896825, 0.6665873 , 0.66198413, 0.66238095,\n",
      "       0.68253968, 0.67293651, 0.67047619, 0.6702381 , 0.69428571,\n",
      "       0.6852381 , 0.67984127, 0.67634921, 0.70801587, 0.69563492,\n",
      "       0.68960317, 0.68515873, 0.72119048, 0.70849206, 0.69801587,\n",
      "       0.69214286, 0.7347619 , 0.71611111, 0.70563492, 0.69650794,\n",
      "       0.6184127 , 0.6184127 , 0.6184127 , 0.6184127 , 0.62611111,\n",
      "       0.62611111, 0.62611111, 0.62611111, 0.62611111, 0.62611111,\n",
      "       0.62611111, 0.62611111, 0.62920635, 0.62920635, 0.62920635,\n",
      "       0.62920635, 0.63444444, 0.63396825, 0.63396825, 0.63420635,\n",
      "       0.63904762, 0.6381746 , 0.63738095, 0.63634921, 0.64301587,\n",
      "       0.64373016, 0.64261905, 0.6418254 , 0.64690476, 0.64722222,\n",
      "       0.64611111, 0.64587302, 0.65174603, 0.65373016, 0.65373016,\n",
      "       0.65214286, 0.65968254, 0.66238095, 0.66015873, 0.65857143,\n",
      "       0.67214286, 0.67373016, 0.66801587, 0.66666667, 0.68428571,\n",
      "       0.68269841, 0.68103175, 0.67619048, 0.69626984, 0.69357143,\n",
      "       0.68960317, 0.68190476, 0.71039683, 0.70285714, 0.69746032,\n",
      "       0.68761905, 0.7234127 , 0.71261905, 0.70428571, 0.69214286]), 'split4_train_score': array([0.61642857, 0.61642857, 0.61642857, 0.61642857, 0.62444444,\n",
      "       0.62444444, 0.62444444, 0.62444444, 0.62444444, 0.62444444,\n",
      "       0.62444444, 0.62444444, 0.63277778, 0.63277778, 0.63277778,\n",
      "       0.63134921, 0.64484127, 0.64484127, 0.64484127, 0.6434127 ,\n",
      "       0.65095238, 0.65047619, 0.6497619 , 0.64833333, 0.65642857,\n",
      "       0.65650794, 0.65531746, 0.65388889, 0.66444444, 0.66277778,\n",
      "       0.66031746, 0.65833333, 0.67198413, 0.67039683, 0.66706349,\n",
      "       0.66396825, 0.68293651, 0.67809524, 0.67825397, 0.67484127,\n",
      "       0.69857143, 0.6897619 , 0.68722222, 0.68095238, 0.71206349,\n",
      "       0.70134921, 0.69896825, 0.69103175, 0.72896825, 0.71301587,\n",
      "       0.70730159, 0.69865079, 0.74650794, 0.72325397, 0.71388889,\n",
      "       0.70333333, 0.76166667, 0.73134921, 0.71849206, 0.70769841,\n",
      "       0.61642857, 0.61642857, 0.61642857, 0.61642857, 0.62444444,\n",
      "       0.62444444, 0.62444444, 0.62444444, 0.62444444, 0.62444444,\n",
      "       0.62444444, 0.62444444, 0.63142857, 0.63142857, 0.63142857,\n",
      "       0.63      , 0.64134921, 0.64134921, 0.64134921, 0.63992063,\n",
      "       0.64920635, 0.64920635, 0.64849206, 0.6468254 , 0.65261905,\n",
      "       0.65436508, 0.6531746 , 0.6518254 , 0.65968254, 0.66031746,\n",
      "       0.65825397, 0.65674603, 0.66690476, 0.66801587, 0.66571429,\n",
      "       0.66666667, 0.67896825, 0.67753968, 0.67730159, 0.67595238,\n",
      "       0.68777778, 0.68785714, 0.6847619 , 0.6815873 , 0.7015873 ,\n",
      "       0.7       , 0.69539683, 0.6931746 , 0.71444444, 0.71039683,\n",
      "       0.70222222, 0.69920635, 0.73015873, 0.72111111, 0.70801587,\n",
      "       0.70277778, 0.74698413, 0.73230159, 0.71666667, 0.70690476]), 'split5_train_score': array([0.61888889, 0.61888889, 0.61888889, 0.61888889, 0.62746032,\n",
      "       0.62746032, 0.62746032, 0.62746032, 0.62746032, 0.62746032,\n",
      "       0.62746032, 0.62746032, 0.63404762, 0.63404762, 0.63404762,\n",
      "       0.63277778, 0.63857143, 0.63857143, 0.63857143, 0.63730159,\n",
      "       0.64928571, 0.64928571, 0.64944444, 0.64825397, 0.65626984,\n",
      "       0.65539683, 0.65460317, 0.65333333, 0.66428571, 0.66388889,\n",
      "       0.66134921, 0.65944444, 0.67420635, 0.67174603, 0.66952381,\n",
      "       0.66833333, 0.6852381 , 0.68095238, 0.67698413, 0.67626984,\n",
      "       0.69690476, 0.69007937, 0.68468254, 0.68436508, 0.70992063,\n",
      "       0.69547619, 0.69142857, 0.69015873, 0.72277778, 0.70492063,\n",
      "       0.69873016, 0.69825397, 0.73420635, 0.71261905, 0.70603175,\n",
      "       0.70388889, 0.74603175, 0.72055556, 0.71246032, 0.70849206,\n",
      "       0.61888889, 0.61888889, 0.61888889, 0.61888889, 0.62746032,\n",
      "       0.62746032, 0.62746032, 0.62746032, 0.62746032, 0.62746032,\n",
      "       0.62746032, 0.62746032, 0.63420635, 0.63420635, 0.63420635,\n",
      "       0.63420635, 0.6384127 , 0.6384127 , 0.6384127 , 0.63730159,\n",
      "       0.64531746, 0.64428571, 0.64365079, 0.64261905, 0.65214286,\n",
      "       0.65095238, 0.64984127, 0.64873016, 0.6602381 , 0.66039683,\n",
      "       0.65880952, 0.65722222, 0.66619048, 0.66547619, 0.66253968,\n",
      "       0.66079365, 0.67650794, 0.67738095, 0.67428571, 0.67166667,\n",
      "       0.68753968, 0.68777778, 0.68396825, 0.67793651, 0.6965873 ,\n",
      "       0.6965873 , 0.6915873 , 0.68809524, 0.7118254 , 0.7081746 ,\n",
      "       0.70103175, 0.69531746, 0.72634921, 0.71809524, 0.70698413,\n",
      "       0.69936508, 0.7397619 , 0.72714286, 0.71460317, 0.70373016]), 'split6_train_score': array([0.61753968, 0.61753968, 0.61753968, 0.61753968, 0.62587302,\n",
      "       0.62587302, 0.62587302, 0.62587302, 0.62587302, 0.62587302,\n",
      "       0.62587302, 0.62587302, 0.63531746, 0.63531746, 0.63531746,\n",
      "       0.63531746, 0.64095238, 0.6402381 , 0.6402381 , 0.63904762,\n",
      "       0.64634921, 0.64619048, 0.64563492, 0.64571429, 0.65380952,\n",
      "       0.65444444, 0.65412698, 0.65325397, 0.66126984, 0.66087302,\n",
      "       0.6615873 , 0.65960317, 0.67396825, 0.67174603, 0.66888889,\n",
      "       0.66690476, 0.68301587, 0.67857143, 0.67730159, 0.6747619 ,\n",
      "       0.69761905, 0.69253968, 0.68626984, 0.685     , 0.70761905,\n",
      "       0.70134921, 0.69746032, 0.69269841, 0.72357143, 0.71111111,\n",
      "       0.70515873, 0.69896825, 0.73515873, 0.71904762, 0.71119048,\n",
      "       0.7034127 , 0.74849206, 0.72944444, 0.71587302, 0.70587302,\n",
      "       0.61753968, 0.61753968, 0.61753968, 0.61753968, 0.62587302,\n",
      "       0.62587302, 0.62587302, 0.62587302, 0.62587302, 0.62587302,\n",
      "       0.62587302, 0.62587302, 0.63531746, 0.63531746, 0.63531746,\n",
      "       0.63531746, 0.64063492, 0.6402381 , 0.6402381 , 0.63904762,\n",
      "       0.64587302, 0.64515873, 0.64515873, 0.64396825, 0.65396825,\n",
      "       0.65357143, 0.65230159, 0.6518254 , 0.65920635, 0.65928571,\n",
      "       0.66119048, 0.65904762, 0.66888889, 0.66825397, 0.66722222,\n",
      "       0.66571429, 0.67730159, 0.6752381 , 0.67738095, 0.67444444,\n",
      "       0.68873016, 0.68738095, 0.68325397, 0.68388889, 0.70134921,\n",
      "       0.69555556, 0.69492063, 0.69119048, 0.71801587, 0.70698413,\n",
      "       0.70380952, 0.69785714, 0.72928571, 0.71634921, 0.71222222,\n",
      "       0.70253968, 0.7431746 , 0.72865079, 0.71746032, 0.70563492]), 'split7_train_score': array([0.61634921, 0.61634921, 0.61634921, 0.61634921, 0.62444444,\n",
      "       0.62444444, 0.62444444, 0.62444444, 0.62444444, 0.62444444,\n",
      "       0.62444444, 0.62444444, 0.62738095, 0.62738095, 0.62738095,\n",
      "       0.62738095, 0.62992063, 0.62992063, 0.62992063, 0.62992063,\n",
      "       0.63992063, 0.63960317, 0.63928571, 0.63928571, 0.64746032,\n",
      "       0.64698413, 0.64587302, 0.64785714, 0.65698413, 0.65595238,\n",
      "       0.65587302, 0.65666667, 0.66888889, 0.665     , 0.66460317,\n",
      "       0.66174603, 0.67888889, 0.67468254, 0.67246032, 0.66984127,\n",
      "       0.68920635, 0.68174603, 0.68      , 0.67730159, 0.70214286,\n",
      "       0.69087302, 0.68833333, 0.68349206, 0.71722222, 0.70293651,\n",
      "       0.6947619 , 0.68936508, 0.73087302, 0.71174603, 0.70119048,\n",
      "       0.69611111, 0.74690476, 0.72301587, 0.70698413, 0.69968254,\n",
      "       0.61634921, 0.61634921, 0.61634921, 0.61634921, 0.62444444,\n",
      "       0.62444444, 0.62444444, 0.62444444, 0.62444444, 0.62444444,\n",
      "       0.62444444, 0.62444444, 0.62738095, 0.62738095, 0.62738095,\n",
      "       0.62738095, 0.62952381, 0.62952381, 0.62952381, 0.62952381,\n",
      "       0.63301587, 0.63269841, 0.63396825, 0.63396825, 0.64126984,\n",
      "       0.64126984, 0.64468254, 0.64468254, 0.65301587, 0.65325397,\n",
      "       0.6552381 , 0.65492063, 0.66309524, 0.66079365, 0.66325397,\n",
      "       0.66222222, 0.6731746 , 0.6715873 , 0.67261905, 0.6697619 ,\n",
      "       0.68507937, 0.68349206, 0.67952381, 0.67642857, 0.69650794,\n",
      "       0.69285714, 0.68587302, 0.6834127 , 0.7084127 , 0.70047619,\n",
      "       0.69190476, 0.68761905, 0.72134921, 0.70849206, 0.7015873 ,\n",
      "       0.69674603, 0.73642857, 0.71626984, 0.70547619, 0.70031746]), 'split8_train_score': array([0.61793651, 0.61793651, 0.61793651, 0.61793651, 0.62603175,\n",
      "       0.62603175, 0.62603175, 0.62603175, 0.62603175, 0.62603175,\n",
      "       0.62603175, 0.62603175, 0.63230159, 0.63230159, 0.63230159,\n",
      "       0.63103175, 0.64214286, 0.64214286, 0.64214286, 0.64087302,\n",
      "       0.645     , 0.64507937, 0.645     , 0.64380952, 0.65309524,\n",
      "       0.65198413, 0.65055556, 0.64952381, 0.65984127, 0.65746032,\n",
      "       0.65484127, 0.65174603, 0.66968254, 0.66380952, 0.66087302,\n",
      "       0.65714286, 0.67873016, 0.66904762, 0.66484127, 0.66579365,\n",
      "       0.69166667, 0.68063492, 0.67515873, 0.67087302, 0.70484127,\n",
      "       0.69269841, 0.68380952, 0.68015873, 0.71785714, 0.70261905,\n",
      "       0.69412698, 0.68896825, 0.73190476, 0.71206349, 0.70293651,\n",
      "       0.69460317, 0.74928571, 0.72404762, 0.70960317, 0.69944444,\n",
      "       0.61793651, 0.61793651, 0.61793651, 0.61793651, 0.62603175,\n",
      "       0.62603175, 0.62603175, 0.62603175, 0.62603175, 0.62603175,\n",
      "       0.62603175, 0.62603175, 0.63166667, 0.63166667, 0.63166667,\n",
      "       0.63166667, 0.63833333, 0.63833333, 0.63769841, 0.63650794,\n",
      "       0.63936508, 0.63936508, 0.64253968, 0.64134921, 0.64722222,\n",
      "       0.64674603, 0.64992063, 0.64896825, 0.65603175, 0.65468254,\n",
      "       0.65380952, 0.65126984, 0.6631746 , 0.66      , 0.65960317,\n",
      "       0.65690476, 0.67039683, 0.66603175, 0.66388889, 0.6602381 ,\n",
      "       0.67650794, 0.67325397, 0.66801587, 0.66833333, 0.69111111,\n",
      "       0.68761905, 0.67984127, 0.67515873, 0.69944444, 0.6965873 ,\n",
      "       0.68801587, 0.68388889, 0.71190476, 0.70730159, 0.69595238,\n",
      "       0.69      , 0.72388889, 0.7165873 , 0.70436508, 0.69761905]), 'split9_train_score': array([0.61714286, 0.61714286, 0.61714286, 0.61714286, 0.62515873,\n",
      "       0.62515873, 0.62515873, 0.62515873, 0.62833333, 0.62833333,\n",
      "       0.62833333, 0.62833333, 0.63404762, 0.63404762, 0.63404762,\n",
      "       0.63404762, 0.63888889, 0.63896825, 0.63896825, 0.63896825,\n",
      "       0.6465873 , 0.64603175, 0.64611111, 0.64555556, 0.65484127,\n",
      "       0.65365079, 0.65261905, 0.6515873 , 0.66293651, 0.65904762,\n",
      "       0.65912698, 0.65865079, 0.67206349, 0.6684127 , 0.66865079,\n",
      "       0.66626984, 0.68492063, 0.67920635, 0.67746032, 0.67420635,\n",
      "       0.69547619, 0.68896825, 0.68706349, 0.68055556, 0.70785714,\n",
      "       0.69857143, 0.69563492, 0.68706349, 0.72746032, 0.71285714,\n",
      "       0.70404762, 0.69611111, 0.74095238, 0.72246032, 0.71261905,\n",
      "       0.70031746, 0.75746032, 0.73238095, 0.71730159, 0.7047619 ,\n",
      "       0.61714286, 0.61714286, 0.61714286, 0.61714286, 0.62515873,\n",
      "       0.62515873, 0.62515873, 0.62515873, 0.62833333, 0.62833333,\n",
      "       0.62833333, 0.62833333, 0.63261905, 0.63261905, 0.63261905,\n",
      "       0.63261905, 0.63873016, 0.63880952, 0.63880952, 0.63753968,\n",
      "       0.64547619, 0.64587302, 0.64595238, 0.64492063, 0.65015873,\n",
      "       0.65285714, 0.65198413, 0.6502381 , 0.65714286, 0.65753968,\n",
      "       0.6584127 , 0.65690476, 0.66452381, 0.66611111, 0.66698413,\n",
      "       0.66436508, 0.67603175, 0.67611111, 0.67722222, 0.67285714,\n",
      "       0.68428571, 0.68373016, 0.68515873, 0.6781746 , 0.69246032,\n",
      "       0.69166667, 0.6915873 , 0.68253968, 0.70880952, 0.70380952,\n",
      "       0.69825397, 0.69031746, 0.72      , 0.71325397, 0.70722222,\n",
      "       0.6947619 , 0.73380952, 0.72253968, 0.71349206, 0.69968254]), 'mean_train_score': array([0.61757143, 0.61757143, 0.61757143, 0.61757143, 0.62571429,\n",
      "       0.62571429, 0.62571429, 0.62571429, 0.62645238, 0.62645238,\n",
      "       0.62645238, 0.62645238, 0.63260317, 0.63260317, 0.63260317,\n",
      "       0.63194444, 0.63880159, 0.63869048, 0.63861905, 0.63761905,\n",
      "       0.64492063, 0.64454762, 0.64439683, 0.64376984, 0.65169841,\n",
      "       0.65102381, 0.65048413, 0.64989683, 0.65935714, 0.65796032,\n",
      "       0.65729365, 0.65596825, 0.66957143, 0.66675397, 0.66493651,\n",
      "       0.66319048, 0.68110317, 0.67647619, 0.67365079, 0.67168254,\n",
      "       0.69414286, 0.68683333, 0.68212698, 0.67857937, 0.70722222,\n",
      "       0.69626984, 0.69088889, 0.68559524, 0.7221746 , 0.70701587,\n",
      "       0.69888095, 0.69299206, 0.73623016, 0.71625397, 0.70601587,\n",
      "       0.69856349, 0.75064286, 0.72571429, 0.71211905, 0.70263492,\n",
      "       0.61757143, 0.61757143, 0.61757143, 0.61757143, 0.62571429,\n",
      "       0.62571429, 0.62571429, 0.62571429, 0.62603175, 0.62603175,\n",
      "       0.62603175, 0.62603175, 0.6317381 , 0.6317381 , 0.6317381 ,\n",
      "       0.63159524, 0.63771429, 0.63760317, 0.63747619, 0.63642857,\n",
      "       0.64265873, 0.64243651, 0.64257143, 0.64161111, 0.6486746 ,\n",
      "       0.64890476, 0.64907937, 0.64816667, 0.65598413, 0.65572222,\n",
      "       0.656     , 0.65446825, 0.66419048, 0.66383333, 0.66333333,\n",
      "       0.66187302, 0.67396825, 0.67290476, 0.67243651, 0.67004762,\n",
      "       0.68501587, 0.68353968, 0.67977778, 0.67689683, 0.69657937,\n",
      "       0.69371429, 0.68935714, 0.68488889, 0.7099127 , 0.70418254,\n",
      "       0.6971746 , 0.69134127, 0.72334921, 0.71371429, 0.70462698,\n",
      "       0.69709524, 0.73765873, 0.72396032, 0.71136508, 0.7017381 ]), 'std_train_score': array([0.00098885, 0.00098885, 0.00098885, 0.00098885, 0.00104509,\n",
      "       0.00104509, 0.00104509, 0.00104509, 0.00187243, 0.00187243,\n",
      "       0.00187243, 0.00187243, 0.00249762, 0.00249762, 0.00249762,\n",
      "       0.00248712, 0.00422897, 0.00424648, 0.00429279, 0.00408017,\n",
      "       0.00455683, 0.00441502, 0.00431679, 0.00395048, 0.00562297,\n",
      "       0.005479  , 0.00514472, 0.00452451, 0.00566018, 0.00520614,\n",
      "       0.00483677, 0.0046269 , 0.00709492, 0.00622654, 0.0055578 ,\n",
      "       0.0053989 , 0.00599082, 0.00602581, 0.00620278, 0.00501695,\n",
      "       0.00572528, 0.00714475, 0.00599864, 0.00557654, 0.00635674,\n",
      "       0.00615292, 0.00649416, 0.00569134, 0.00712345, 0.00632089,\n",
      "       0.0060114 , 0.00504116, 0.007382  , 0.00565888, 0.00535744,\n",
      "       0.00463433, 0.00798236, 0.00555998, 0.00432071, 0.00413899,\n",
      "       0.00098885, 0.00098885, 0.00098885, 0.00098885, 0.00104509,\n",
      "       0.00104509, 0.00104509, 0.00104509, 0.00128316, 0.00128316,\n",
      "       0.00128316, 0.00128316, 0.00226586, 0.00226586, 0.00226586,\n",
      "       0.00232513, 0.00348535, 0.00348499, 0.00352524, 0.00324622,\n",
      "       0.00493243, 0.00494286, 0.00462545, 0.00444573, 0.00532859,\n",
      "       0.00533187, 0.00435297, 0.00395561, 0.00489782, 0.00467452,\n",
      "       0.00433862, 0.00437388, 0.00583145, 0.00557695, 0.00501371,\n",
      "       0.00537005, 0.00666326, 0.00614003, 0.0063102 , 0.00609958,\n",
      "       0.0069987 , 0.00620097, 0.00638707, 0.00574314, 0.00714748,\n",
      "       0.00540089, 0.00547693, 0.0061136 , 0.00763354, 0.0056243 ,\n",
      "       0.00551473, 0.00561111, 0.00727157, 0.00569162, 0.00482446,\n",
      "       0.00491631, 0.00821106, 0.00656532, 0.0047739 , 0.00426087])}\n"
     ]
    }
   ],
   "source": [
    "# grid search CV\n",
    "params = {'criterion': ['gini', 'entropy'],\n",
    "          'max_depth': range(1, 16),\n",
    "          'min_samples_leaf': range(0, 25, 5)[1:]}\n",
    "\n",
    "cv_1 = GridSearchCV(param_grid=params, estimator=DecisionTreeClassifier(random_state=rs),return_train_score=True, cv=10)\n",
    "cv_1.fit(x_train, y_train)\n",
    "\n",
    "result_set = cv_1.cv_results_\n",
    "print(result_set)\n"
   ]
  },
  {
   "cell_type": "code",
   "execution_count": 15,
   "id": "ec9dfd91",
   "metadata": {},
   "outputs": [
    {
     "name": "stdout",
     "output_type": "stream",
     "text": [
      "Train accuracy: 0.647\n",
      "Test accuracy: 0.6285\n"
     ]
    }
   ],
   "source": [
    "print(\"Train accuracy:\", cv_1.score(x_train, y_train))\n",
    "print(\"Test accuracy:\", cv_1.score(x_test, y_test))"
   ]
  },
  {
   "cell_type": "code",
   "execution_count": 16,
   "id": "4eda97a9",
   "metadata": {},
   "outputs": [
    {
     "name": "stdout",
     "output_type": "stream",
     "text": [
      "DecisionTreeClassifier(max_depth=6, min_samples_leaf=5, random_state=10)\n",
      "Nodes:  63\n"
     ]
    }
   ],
   "source": [
    "cv_1_best = cv_1.best_estimator_\n",
    "print(cv_1_best)\n",
    "print('Nodes: ',cv_1_best.tree_.node_count)\n"
   ]
  },
  {
   "cell_type": "code",
   "execution_count": 17,
   "id": "5648e2cd",
   "metadata": {},
   "outputs": [
    {
     "name": "stdout",
     "output_type": "stream",
     "text": [
      "Total number of models:  120\n"
     ]
    }
   ],
   "source": [
    "import matplotlib.pyplot as plt\n",
    "train_result = result_set['split0_train_score']\n",
    "test_result = result_set['split0_test_score']\n",
    "print(\"Total number of models: \", len(test_result))"
   ]
  },
  {
   "cell_type": "code",
   "execution_count": 18,
   "id": "2aa16a30",
   "metadata": {},
   "outputs": [
    {
     "data": {
      "text/plain": [
       "[Text(0.5, 0.75, 'number_inpatient <= 0.5\\ngini = 0.498\\nsamples = 14000\\nvalue = [7474, 6526]\\nclass = age'),\n",
       " Text(0.25, 0.25, '\\n  (...)  \\n'),\n",
       " Text(0.75, 0.25, '\\n  (...)  \\n')]"
      ]
     },
     "execution_count": 18,
     "metadata": {},
     "output_type": "execute_result"
    },
    {
     "data": {
      "image/png": "[encoded data removed]",
      "text/plain": [
       "<Figure size 720x720 with 1 Axes>"
      ]
     },
     "metadata": {
      "needs_background": "light"
     },
     "output_type": "display_data"
    }
   ],
   "source": [
    "fig = plt.figure(figsize=(10,10))\n",
    "tree.plot_tree(cv_1_best, feature_names=x_train.columns,class_names=x_test.columns,max_depth=0,filled=True)"
   ]
  },
  {
   "cell_type": "code",
   "execution_count": 115,
   "id": "c09f2590",
   "metadata": {},
   "outputs": [
    {
     "name": "stdout",
     "output_type": "stream",
     "text": [
      "number_inpatient : 0.5398686523856943\n",
      "discharge_disposition_id_11 : 0.14801770955917629\n",
      "number_outpatient : 0.043712573966404364\n",
      "i:  0\n",
      "number_emergency : 0.03226587719022525\n",
      "diabetesMed : 0.029977988441482913\n",
      "num_lab_procedures : 0.02676519159464824\n",
      "admission_source_id_7 : 0.02373326605965202\n",
      "discharge_disposition_id_14 : 0.02368322338351228\n",
      "medical_specialty_Invalid : 0.02242552668694245\n",
      "num_medications : 0.01827975557133852\n",
      "medical_specialty_InternalMedicine : 0.013177564979311144\n",
      "discharge_disposition_id_13 : 0.009424096740539515\n",
      "admission_source_id_1 : 0.008783533284369944\n",
      "admission_type_id_1 : 0.007701621020048438\n",
      "time_in_hospital : 0.0054633140325778436\n",
      "race_AfricanAmerican : 0.004342593498465718\n",
      "glipizide_Steady : 0.0031803209502603144\n",
      "insulin_Up : 0.0002804670969380875\n",
      "chlorpropamide_No : 0.0\n"
     ]
    }
   ],
   "source": [
    "import numpy as np\n",
    "\n",
    "importances = cv_1_best.feature_importances_\n",
    "feature_names = X_mat.columns\n",
    "indices = np.argsort(importances)\n",
    "indices = np.flip(indices, axis=0)\n",
    "indices = indices[:20]\n",
    "\n",
    "for i in indices:\n",
    "    if i > 0:\n",
    "        print(feature_names[i], ':', importances[i])\n",
    "    "
   ]
  },
  {
   "cell_type": "code",
   "execution_count": 116,
   "id": "0c4485e2",
   "metadata": {},
   "outputs": [
    {
     "name": "stdout",
     "output_type": "stream",
     "text": [
      "age : 0.03891672355841245\n",
      "time_in_hospital : 0.0054633140325778436\n",
      "num_lab_procedures : 0.02676519159464824\n",
      "num_procedures : 0.0\n",
      "num_medications : 0.01827975557133852\n"
     ]
    }
   ],
   "source": [
    "import numpy as np\n",
    "\n",
    "importances = cv_1_best.feature_importances_\n",
    "feature_names = X_mat.columns\n",
    "indices = np.argsort(importances)\n",
    "indices = np.flip(indices, axis=0)\n",
    "indices = indices[:5]\n",
    "for i in range(len(indices)):\n",
    "    print(feature_names[i], ':', importances[i])"
   ]
  },
  {
   "cell_type": "code",
   "execution_count": 20,
   "id": "ef65b7d0",
   "metadata": {},
   "outputs": [
    {
     "name": "stdout",
     "output_type": "stream",
     "text": [
      "Requirement already satisfied: pydot in c:\\users\\john\\anaconda3\\lib\\site-packages (1.4.2)\n",
      "Requirement already satisfied: pyparsing>=2.1.4 in c:\\users\\john\\anaconda3\\lib\\site-packages (from pydot) (3.0.4)\n"
     ]
    }
   ],
   "source": [
    "!pip install pydot"
   ]
  },
  {
   "cell_type": "code",
   "execution_count": 21,
   "id": "67cd81db",
   "metadata": {},
   "outputs": [
    {
     "name": "stdout",
     "output_type": "stream",
     "text": [
      "DecisionTreeClassifier(max_depth=6, min_samples_leaf=5, random_state=10)\n"
     ]
    }
   ],
   "source": [
    "print(cv_1_best)"
   ]
  },
  {
   "cell_type": "code",
   "execution_count": 22,
   "id": "793e410c",
   "metadata": {},
   "outputs": [],
   "source": [
    "# import pydot\n",
    "# from io import StringIO\n",
    "# from sklearn.tree import export_graphviz\n",
    "\n",
    "# # visualize\n",
    "# dotfile = StringIO()\n",
    "# export_graphviz(cv_1_best, out_file=dotfile, feature_names=X_mat.columns)\n",
    "# graph = pydot.graph_from_dot_data(dotfile.getvalue())\n",
    "# graph[0].write_png(\"dt_viz1.png\") # saved in the following file - will return True if successful"
   ]
  },
  {
   "cell_type": "code",
   "execution_count": 23,
   "id": "4ebaa761",
   "metadata": {},
   "outputs": [],
   "source": [
    "# # plot max depth hyperparameter values vs training and test accuracy score\n",
    "# plt.plot(range(0, len(train_result)), train_result, 'b', range(0,len(test_result)), test_result, 'r')\n",
    "# plt.xlabel('Combination of hyperparameters\\nBlue = training acc. Red = test acc.')\n",
    "# plt.ylabel('score')\n",
    "# plt.show()"
   ]
  },
  {
   "cell_type": "code",
   "execution_count": 24,
   "id": "94b68f5a",
   "metadata": {},
   "outputs": [
    {
     "data": {
      "image/png": "[encoded data removed]",
      "text/plain": [
       "<Figure size 432x288 with 1 Axes>"
      ]
     },
     "metadata": {
      "needs_background": "light"
     },
     "output_type": "display_data"
    }
   ],
   "source": [
    "result_set['params']\n",
    "dd = pd.DataFrame(result_set['params'])\n",
    "\n",
    "index_ = list(dd.index[(dd['criterion']=='entropy') & (dd['min_samples_leaf']==10)])\n",
    "max_depth_train = []\n",
    "max_depth_test = []\n",
    "for i in range(0,len(index_)):\n",
    "    max_depth_train.append(train_result[index_[i]])\n",
    "    max_depth_test.append(test_result[index_[i]])\n",
    "plt.plot(range(1, len(max_depth_train)+1), max_depth_train, 'b', range(1,len(max_depth_test)+1), max_depth_test, 'r')\n",
    "plt.xlabel('Maximum depth (model complexity)\\nBlue = training acc. Red = test acc.')\n",
    "plt.ylabel('score')\n",
    "plt.xticks(np.arange(1, len(max_depth_train)+1, 1))\n",
    "plt.show()"
   ]
  },
  {
   "cell_type": "code",
   "execution_count": 25,
   "id": "ab7c9166",
   "metadata": {},
   "outputs": [
    {
     "name": "stdout",
     "output_type": "stream",
     "text": [
      "DecisionTreeClassifier(max_depth=6, min_samples_leaf=5, random_state=10)\n"
     ]
    }
   ],
   "source": [
    "print(cv_1.best_estimator_)"
   ]
  },
  {
   "cell_type": "markdown",
   "id": "d5652888",
   "metadata": {},
   "source": [
    "# 1.4"
   ]
  },
  {
   "cell_type": "code",
   "execution_count": 26,
   "id": "bb6befd0",
   "metadata": {},
   "outputs": [
    {
     "name": "stdout",
     "output_type": "stream",
     "text": [
      "Probability produced by decision tree for each class vs actual prediction on TargetB (0 = non-donor, 1 = donor). You should be able to see the default threshold of 0.5.\n",
      "(Probs on zero)\t(probs on one)\t(prediction made)\n",
      "0.37531276063386154 \t 0.6246872393661385 \t True\n",
      "0.6264775413711584 \t 0.3735224586288416 \t False\n",
      "0.6643502432244615 \t 0.33564975677553854 \t False\n",
      "0.6333333333333333 \t 0.36666666666666664 \t False\n",
      "0.6643502432244615 \t 0.33564975677553854 \t True\n",
      "0.37531276063386154 \t 0.6246872393661385 \t True\n",
      "0.2891942535915053 \t 0.7108057464084947 \t True\n",
      "0.6807359307359307 \t 0.31926406926406925 \t False\n",
      "0.528235294117647 \t 0.4717647058823529 \t True\n",
      "0.6643502432244615 \t 0.33564975677553854 \t True\n",
      "0.528235294117647 \t 0.4717647058823529 \t True\n",
      "0.6807359307359307 \t 0.31926406926406925 \t True\n",
      "0.528235294117647 \t 0.4717647058823529 \t True\n",
      "0.7937293729372937 \t 0.20627062706270627 \t False\n",
      "0.6264775413711584 \t 0.3735224586288416 \t False\n",
      "0.6643502432244615 \t 0.33564975677553854 \t True\n",
      "0.6264775413711584 \t 0.3735224586288416 \t True\n",
      "0.528235294117647 \t 0.4717647058823529 \t False\n",
      "0.37531276063386154 \t 0.6246872393661385 \t True\n",
      "0.6643502432244615 \t 0.33564975677553854 \t False\n"
     ]
    }
   ],
   "source": [
    "dt_cv_best = cv_1.best_estimator_\n",
    "# probability prediction from decision tree\n",
    "y_pred_proba_dt = dt_cv_best.predict_proba(x_test)\n",
    "\n",
    "print(\"Probability produced by decision tree for each class vs actual prediction on TargetB (0 = non-donor, 1 = donor). You should be able to see the default threshold of 0.5.\")\n",
    "print(\"(Probs on zero)\\t(probs on one)\\t(prediction made)\")\n",
    "# print top 10\n",
    "for i in range(20):\n",
    "    print(y_pred_proba_dt[i][0], '\\t', y_pred_proba_dt[i][1], '\\t', y_pred[i])"
   ]
  },
  {
   "cell_type": "code",
   "execution_count": 27,
   "id": "4029e99b",
   "metadata": {},
   "outputs": [
    {
     "name": "stdout",
     "output_type": "stream",
     "text": [
      "Requirement already satisfied: pydot in c:\\users\\john\\anaconda3\\lib\\site-packages (1.4.2)\n",
      "Requirement already satisfied: pyparsing>=2.1.4 in c:\\users\\john\\anaconda3\\lib\\site-packages (from pydot) (3.0.4)\n"
     ]
    }
   ],
   "source": [
    "!pip install pydot"
   ]
  },
  {
   "cell_type": "code",
   "execution_count": 28,
   "id": "d5e71765",
   "metadata": {},
   "outputs": [],
   "source": [
    "# import pydot\n",
    "# from io import StringIO\n",
    "# from sklearn.tree import export_graphviz\n",
    "\n",
    "# # visualize\n",
    "# dotfile = StringIO()\n",
    "# export_graphviz(cv_1.best_estimator_, out_file=dotfile, feature_names=X_mat.columns)\n",
    "# graph = pydot.graph_from_dot_data(dotfile.getvalue())\n",
    "# graph[].write_png(\"dt_viz.png\") # saved in the following file - will return True if successful"
   ]
  },
  {
   "cell_type": "code",
   "execution_count": 29,
   "id": "f5364f0a",
   "metadata": {},
   "outputs": [
    {
     "name": "stdout",
     "output_type": "stream",
     "text": [
      "ROC index on test for DT_default: 0.5610704055937905\n",
      "ROC index on test for DT_optimal: 0.6679103240604676\n"
     ]
    }
   ],
   "source": [
    "from sklearn.metrics import roc_auc_score\n",
    "\n",
    "y_pred_proba_dt = model.predict_proba(x_test)\n",
    "# y_pred_proba_dt_small = model_small.predict_proba(x_test)\n",
    "y_pred_proba_dt_cv = dt_cv_best.predict_proba(x_test)\n",
    "\n",
    "roc_index_dt = roc_auc_score(y_test, y_pred_proba_dt[:, 1])\n",
    "# roc_index_dt_small = roc_auc_score(y_test, y_pred_proba_dt_small[:, 1])\n",
    "roc_index_dt_cv = roc_auc_score(y_test, y_pred_proba_dt_cv[:, 1])\n",
    "\n",
    "print(\"ROC index on test for DT_default:\", roc_index_dt)\n",
    "# print(\"ROC index on test for DT_small:\", roc_index_dt_small)\n",
    "print(\"ROC index on test for DT_optimal:\", roc_index_dt_cv)"
   ]
  },
  {
   "cell_type": "code",
   "execution_count": 30,
   "id": "fc0c1596",
   "metadata": {},
   "outputs": [],
   "source": [
    "from sklearn.metrics import roc_curve\n",
    "\n",
    "fpr_dt, tpr_dt, thresholds_dt = roc_curve(y_test, y_pred_proba_dt[:,1])\n",
    "# fpr_dt_small, tpr_dt_small, thresholds_dt_small = roc_curve(y_test, y_pred_proba_dt_small[:,1])\n",
    "fpr_dt_cv, tpr_dt_cv, thresholds_dt_cv = roc_curve(y_test, y_pred_proba_dt_cv[:,1])"
   ]
  },
  {
   "cell_type": "code",
   "execution_count": 31,
   "id": "de449530",
   "metadata": {},
   "outputs": [
    {
     "data": {
      "image/png": "[encoded data removed]",
      "text/plain": [
       "<Figure size 432x288 with 1 Axes>"
      ]
     },
     "metadata": {
      "needs_background": "light"
     },
     "output_type": "display_data"
    }
   ],
   "source": [
    "import matplotlib.pyplot as plt\n",
    "\n",
    "plt.plot(fpr_dt, tpr_dt, label='ROC Curve for DT_default {:.3f}'.format(roc_index_dt), color='red', lw=0.5)\n",
    "plt.plot(fpr_dt_cv, tpr_dt_cv, label='ROC Curve for DT_optimal {:.3f}'.format(roc_index_dt_cv), color='blue', lw=0.5)\n",
    "plt.plot([0, 1], [0, 1], color='navy', lw=0.5, linestyle='--')\n",
    "plt.xlim([0.0, 1.0])\n",
    "plt.ylim([0.0, 1.0])\n",
    "plt.xlabel('False Positive Rate')\n",
    "plt.ylabel('True Positive Rate')\n",
    "plt.title('Receiver operating characteristic example')\n",
    "plt.legend(loc=\"lower right\")\n",
    "plt.show()"
   ]
  },
  {
   "cell_type": "code",
   "execution_count": 32,
   "id": "38e71a8a",
   "metadata": {},
   "outputs": [],
   "source": [
    "import pickle\n",
    "dt_best = cv_1\n",
    "with open('DT.pickle', 'wb') as f:\n",
    "    pickle.dump([dt_best,roc_index_dt_cv, fpr_dt_cv, tpr_dt_cv], f)"
   ]
  },
  {
   "cell_type": "markdown",
   "id": "28047091",
   "metadata": {},
   "source": [
    "# Regression"
   ]
  },
  {
   "cell_type": "markdown",
   "id": "beaf627a",
   "metadata": {},
   "source": [
    "# 1"
   ]
  },
  {
   "cell_type": "code",
   "execution_count": 33,
   "id": "82b83904",
   "metadata": {},
   "outputs": [],
   "source": [
    "import numpy as np\n",
    "import pandas as pd\n",
    "from sklearn.model_selection import train_test_split\n",
    "import matplotlib.pyplot as plt\n",
    "from sklearn import tree\n",
    "from sklearn.metrics import classification_report\n",
    "import warnings\n",
    "warnings.filterwarnings('ignore')\n",
    "\n",
    "#na_value=“?”\n",
    "df = pd.read_csv('D2.csv')\n",
    "\n",
    "from sklearn.preprocessing import StandardScaler\n",
    "\n",
    "# mapping\n",
    "df['age']=df['age'].astype(str)\n",
    "age_map = {'[80-90)':2, '[70-80)':3, '[50-60)':5, '[40-50)':6, '[60-70)':4, \n",
    "'[90-100)':1, '[30-40)':7,'[10-20)':9, '[20-30)':8, '[0-10)':10}\n",
    "df['age'] = df['age'].map(age_map)\n",
    "# admission_source_id\n",
    "# discharge_disposition_id \n",
    "# admission_type_id\n",
    "# readmitted\n",
    "df['readmitted'] = df['readmitted'].astype(bool)\n",
    "df['admission_source_id'] = df['admission_source_id'].astype(str)\n",
    "df['discharge_disposition_id'] = df['discharge_disposition_id'].astype(str)\n",
    "df['admission_type_id'] = df['admission_type_id'].astype(str)\n",
    "\n",
    "y = df['readmitted']\n",
    "X = df.drop(['readmitted'], axis=1)\n",
    "X_mat = pd.get_dummies(X)"
   ]
  },
  {
   "cell_type": "code",
   "execution_count": 34,
   "id": "14e3cef1",
   "metadata": {},
   "outputs": [],
   "source": [
    "from sklearn.model_selection import train_test_split\n",
    "# setting random state\n",
    "rs = 10\n",
    "\n",
    "x_train, x_test, y_train, y_test = train_test_split(X_mat, y, test_size=0.3, stratify=y, random_state=rs)"
   ]
  },
  {
   "cell_type": "code",
   "execution_count": 35,
   "id": "20be0b01",
   "metadata": {},
   "outputs": [],
   "source": [
    "from sklearn.preprocessing import StandardScaler\n",
    "scaler = StandardScaler()\n",
    "x_standardlize = scaler.fit_transform(x_train, y_train)\n",
    "x_test = scaler.transform(x_test)"
   ]
  },
  {
   "cell_type": "markdown",
   "id": "42f2610e",
   "metadata": {},
   "source": [
    "# 2"
   ]
  },
  {
   "cell_type": "code",
   "execution_count": 36,
   "id": "0a2c247d",
   "metadata": {},
   "outputs": [
    {
     "data": {
      "text/plain": [
       "LogisticRegression(random_state=10)"
      ]
     },
     "execution_count": 36,
     "metadata": {},
     "output_type": "execute_result"
    }
   ],
   "source": [
    "from sklearn.linear_model import LogisticRegression\n",
    "\n",
    "Rmodel = LogisticRegression(random_state=rs)\n",
    "# fit it to training data\n",
    "Rmodel.fit(x_standardlize, y_train)"
   ]
  },
  {
   "cell_type": "code",
   "execution_count": 37,
   "id": "c7c7b01a",
   "metadata": {},
   "outputs": [
    {
     "data": {
      "text/plain": [
       "{'C': 1.0,\n",
       " 'class_weight': None,\n",
       " 'dual': False,\n",
       " 'fit_intercept': True,\n",
       " 'intercept_scaling': 1,\n",
       " 'l1_ratio': None,\n",
       " 'max_iter': 100,\n",
       " 'multi_class': 'auto',\n",
       " 'n_jobs': None,\n",
       " 'penalty': 'l2',\n",
       " 'random_state': 10,\n",
       " 'solver': 'lbfgs',\n",
       " 'tol': 0.0001,\n",
       " 'verbose': 0,\n",
       " 'warm_start': False}"
      ]
     },
     "execution_count": 37,
     "metadata": {},
     "output_type": "execute_result"
    }
   ],
   "source": [
    "Rmodel.get_params()"
   ]
  },
  {
   "cell_type": "code",
   "execution_count": 38,
   "id": "525ef23c",
   "metadata": {},
   "outputs": [
    {
     "name": "stdout",
     "output_type": "stream",
     "text": [
      "Train accuracy: 0.6513571428571429\n",
      "Test accuracy: 0.6401666666666667\n",
      "              precision    recall  f1-score   support\n",
      "\n",
      "       False       0.64      0.74      0.69      3203\n",
      "        True       0.64      0.53      0.58      2797\n",
      "\n",
      "    accuracy                           0.64      6000\n",
      "   macro avg       0.64      0.63      0.63      6000\n",
      "weighted avg       0.64      0.64      0.64      6000\n",
      "\n"
     ]
    }
   ],
   "source": [
    "print(\"Train accuracy:\", Rmodel.score(x_standardlize, y_train))\n",
    "print(\"Test accuracy:\", Rmodel.score(x_test, y_test))\n",
    "# classification report on test data\n",
    "y_pred = Rmodel.predict(x_test)\n",
    "print(classification_report(y_test, y_pred))"
   ]
  },
  {
   "cell_type": "code",
   "execution_count": 39,
   "id": "71a8d2aa",
   "metadata": {},
   "outputs": [
    {
     "data": {
      "text/plain": [
       "[('discharge_disposition_id_11', -1.0330682180913198),\n",
       " ('number_inpatient', 0.5699699405604234),\n",
       " ('discharge_disposition_id_14', -0.22378741661661344),\n",
       " ('number_emergency', 0.2177050360642632),\n",
       " ('diabetesMed', 0.19542590274372462),\n",
       " ('discharge_disposition_id_13', -0.14583902142496746),\n",
       " ('discharge_disposition_id_1', 0.13918116130207542),\n",
       " ('admission_type_id_7', -0.13860344795271087),\n",
       " ('discharge_disposition_id_18', 0.1355958283173684),\n",
       " ('number_outpatient', 0.13027332781809495),\n",
       " ('num_medications', 0.12919870815896603),\n",
       " ('medical_specialty_Surgery-Plastic', 0.12740149964075187),\n",
       " ('discharge_disposition_id_19', -0.11746575025645231),\n",
       " ('discharge_disposition_id_6', 0.11148736443814884),\n",
       " ('medical_specialty_Endocrinology-Metabolism', -0.11040808198664952),\n",
       " ('medical_specialty_Surgeon', -0.10570075185869479),\n",
       " ('discharge_disposition_id_22', 0.1022006582820588),\n",
       " ('medical_specialty_InternalMedicine', -0.10204774723512622),\n",
       " ('medical_specialty_Obstetrics', -0.1007261271968135),\n",
       " ('medical_specialty_DCPTEAM', -0.10042192172694896),\n",
       " ('discharge_disposition_id_25', -0.09871024892141034),\n",
       " ('age', -0.09483629923637817),\n",
       " ('discharge_disposition_id_9', 0.08923581734783938),\n",
       " ('admission_source_id_25', -0.08685344493433586),\n",
       " ('number_diagnoses', 0.07894655559818947),\n",
       " ('admission_source_id_4', -0.07882605482953864),\n",
       " ('medical_specialty_Invalid', 0.07835488670754782),\n",
       " ('admission_source_id_22', 0.0780281622069736),\n",
       " ('discharge_disposition_id_3', 0.07686246970331093),\n",
       " ('insulin_Steady', -0.06857522289234771),\n",
       " ('medical_specialty_Hematology', 0.06716758684032084),\n",
       " ('admission_type_id_2', 0.06436630267628014),\n",
       " ('medical_specialty_Pathology', -0.06357019173761902),\n",
       " ('medical_specialty_Surgery-Maxillofacial', -0.06319202855544293),\n",
       " ('discharge_disposition_id_28', 0.06318840818876455),\n",
       " ('medical_specialty_Orthopedics-Reconstructive', -0.060051388167352476),\n",
       " ('medical_specialty_Neurophysiology', -0.05924701098004632),\n",
       " ('medical_specialty_Perinatology', -0.05836801896967655),\n",
       " ('discharge_disposition_id_27', -0.05831658778825405),\n",
       " ('medical_specialty_Resident', 0.05787336312949257),\n",
       " ('num_procedures', -0.0574146474358022),\n",
       " ('medical_specialty_Surgery-Cardiovascular/Thoracic', -0.0569112190562353),\n",
       " ('medical_specialty_Hematology/Oncology', -0.056698072835377124),\n",
       " ('admission_source_id_7', 0.05212051522802885),\n",
       " ('metformin_No', 0.05130694854871772),\n",
       " ('insulin_No', 0.04939618319201512),\n",
       " ('metformin_Steady', -0.04849396665695398),\n",
       " ('medical_specialty_PhysicianNotFound', 0.048375764927296554),\n",
       " ('medical_specialty_Radiologist', 0.04771814260796878),\n",
       " ('admission_source_id_6', -0.04753116884885019),\n",
       " ('admission_type_id_3', -0.044635192973566995),\n",
       " ('race_Hispanic', -0.043203274824874405),\n",
       " ('admission_type_id_5', 0.042628008438941725),\n",
       " ('max_glu_serum_None', -0.0421626833006609),\n",
       " ('chlorpropamide_No', -0.04198480068328447),\n",
       " ('chlorpropamide_Steady', 0.04198480068328425),\n",
       " ('max_glu_serum_Norm', 0.04197593084820294),\n",
       " ('medical_specialty_Surgery-Neuro', -0.040674059842957216),\n",
       " ('medical_specialty_Otolaryngology', -0.04047825544858571),\n",
       " ('num_lab_procedures', 0.039097895931878804),\n",
       " ('change', 0.03896011982973233),\n",
       " ('discharge_disposition_id_7', 0.03791421993224802),\n",
       " ('admission_type_id_6', -0.03706819229465339),\n",
       " ('medical_specialty_Hospitalist', -0.03437374691880651),\n",
       " ('insulin_Down', 0.033584808994579954),\n",
       " ('medical_specialty_PhysicalMedicineandRehabilitation', -0.03344947695828179),\n",
       " ('race_Caucasian', 0.0319697688044578),\n",
       " ('admission_source_id_2', -0.03143750924591077),\n",
       " ('discharge_disposition_id_4', 0.030783262811751384),\n",
       " ('glyburide_Up', -0.029262731312841125),\n",
       " ('medical_specialty_Ophthalmology', -0.028368382682487613),\n",
       " ('medical_specialty_Surgery-Cardiovascular', -0.02833568611434168),\n",
       " ('medical_specialty_Orthopedics', -0.027890034577721178),\n",
       " ('medical_specialty_Oncology', -0.02779220731593849),\n",
       " ('medical_specialty_Gastroenterology', 0.02682860226543644),\n",
       " ('race_Asian', -0.02618484663977796),\n",
       " ('max_glu_serum_>300', 0.02571569219352839),\n",
       " ('medical_specialty_Podiatry', 0.02339056484109708),\n",
       " ('A1Cresult_Norm', -0.022993557059419113),\n",
       " ('race_Other', -0.02267808448755812),\n",
       " ('medical_specialty_InfectiousDiseases', -0.020896080956828957),\n",
       " ('glyburide_Down', 0.019809933488544724),\n",
       " ('admission_source_id_1', -0.018856316641624477),\n",
       " ('nateglinide_Down', -0.018828535283826886),\n",
       " ('time_in_hospital', -0.018538794170007273),\n",
       " ('discharge_disposition_id_15', 0.018510440789750397),\n",
       " ('medical_specialty_Cardiology-Pediatric', 0.01833004240449126),\n",
       " ('medical_specialty_Surgery-Vascular', 0.01822331521656764),\n",
       " ('discharge_disposition_id_2', 0.01801869952177088),\n",
       " ('metformin_Up', -0.017996386533223236),\n",
       " ('medical_specialty_ObstetricsandGynecology', -0.017283784311541466),\n",
       " ('medical_specialty_Surgery-General', -0.017094280358854123),\n",
       " ('glimepiride_Steady', -0.01593767371290594),\n",
       " ('repaglinide_Down', -0.01583814941317588),\n",
       " ('admission_source_id_3', -0.0156243389996123),\n",
       " ('discharge_disposition_id_5', -0.015263495420088142),\n",
       " ('insulin_Up', -0.014669730954152308),\n",
       " ('medical_specialty_Surgery-Thoracic', -0.014562053496836758),\n",
       " ('discharge_disposition_id_24', -0.014440000396727777),\n",
       " ('medical_specialty_Urology', -0.01330982227844354),\n",
       " ('glimepiride_No', 0.01295325781516913),\n",
       " ('medical_specialty_Pulmonology', 0.012093925325886283),\n",
       " ('admission_source_id_5', -0.012073496407225274),\n",
       " ('repaglinide_Up', -0.011137861898894678),\n",
       " ('medical_specialty_OutreachServices', 0.010952169393363985),\n",
       " ('medical_specialty_Psychology', -0.010429914777466449),\n",
       " ('glipizide_No', 0.01032909211397023),\n",
       " ('medical_specialty_Radiology', 0.010312818241327237),\n",
       " ('glipizide_Steady', -0.010274851656131082),\n",
       " ('medical_specialty_Nephrology', 0.010030240020599027),\n",
       " ('admission_type_id_1', -0.010016328269234539),\n",
       " ('repaglinide_Steady', 0.009674175035223397),\n",
       " ('A1Cresult_None', 0.009377821372451205),\n",
       " ('medical_specialty_Psychiatry', 0.009045814490468002),\n",
       " ('glyburide_Steady', 0.008418453371279479),\n",
       " ('nateglinide_No', 0.008354261941318549),\n",
       " ('discharge_disposition_id_23', -0.007875366880696646),\n",
       " ('glimepiride_Up', 0.007674971418223673),\n",
       " ('medical_specialty_SurgicalSpecialty', -0.007615622038698769),\n",
       " ('admission_type_id_8', -0.006143179982224903),\n",
       " ('medical_specialty_Family/GeneralPractice', 0.005772618109066182),\n",
       " ('medical_specialty_Gynecology', -0.005399217208634583),\n",
       " ('A1Cresult_>7', 0.004928906253872712),\n",
       " ('medical_specialty_Endocrinology', 0.004898742918689715),\n",
       " ('race_AfricanAmerican', -0.004881184201927507),\n",
       " ('glyburide_No', -0.004655500229711063),\n",
       " ('medical_specialty_Osteopath', -0.004597961290173467),\n",
       " ('nateglinide_Steady', -0.0042489272501160845),\n",
       " ('A1Cresult_>8', 0.004165306624375857),\n",
       " ('nateglinide_Up', -0.004164522406026197),\n",
       " ('gender_Female', 0.003946938591483852),\n",
       " ('gender_Male', -0.003946938591483852),\n",
       " ('repaglinide_No', -0.00347332357555727),\n",
       " ('glimepiride_Down', 0.003382353439379627),\n",
       " ('medical_specialty_Neurology', 0.003228453378740089),\n",
       " ('admission_source_id_8', 0.0029642459320184692),\n",
       " ('medical_specialty_Emergency/Trauma', 0.0029434679648119026),\n",
       " ('admission_source_id_9', 0.0025053892520253023),\n",
       " ('medical_specialty_Pediatrics', 0.0017090544808442058),\n",
       " ('max_glu_serum_>200', -0.0016754897275729334),\n",
       " ('medical_specialty_Rheumatology', 0.0016101617791565118),\n",
       " ('metformin_Down', 0.0013859379746726547),\n",
       " ('glipizide_Up', -0.001053719852052631),\n",
       " ('glipizide_Down', -0.0010494628428696238),\n",
       " ('medical_specialty_Cardiology', -0.0008149375173516996),\n",
       " ('discharge_disposition_id_8', 0.0007985417563939606),\n",
       " ('admission_source_id_17', -0.00045451601915785095),\n",
       " ('admission_type_id_4', 0.0),\n",
       " ('admission_source_id_10', 0.0),\n",
       " ('acetohexamide_No', 0.0),\n",
       " ('tolbutamide_No', 0.0)]"
      ]
     },
     "execution_count": 39,
     "metadata": {},
     "output_type": "execute_result"
    }
   ],
   "source": [
    "feature_names = X_mat.columns\n",
    "coef = Rmodel.coef_[0]\n",
    "indices = np.argsort(np.absolute(coef))\n",
    "indices = np.flip(indices, axis=0)\n",
    "indices = len(indices)\n",
    "rank = {}\n",
    "for i in range(indices):\n",
    "    rank[feature_names[i]] = coef[i]\n",
    "rank = sorted(rank.items(), key = lambda x:abs(x[1]), reverse = True)\n",
    "rank"
   ]
  },
  {
   "cell_type": "code",
   "execution_count": 40,
   "id": "4a1cdc0e",
   "metadata": {},
   "outputs": [],
   "source": [
    "# feature_names = sorted(feature_names.items(), key = lambda x:abs(x[1]), reverse = True)"
   ]
  },
  {
   "cell_type": "code",
   "execution_count": 41,
   "id": "7896676d",
   "metadata": {},
   "outputs": [
    {
     "data": {
      "text/plain": [
       "Index(['age', 'time_in_hospital', 'num_lab_procedures', 'num_procedures',\n",
       "       'num_medications', 'number_outpatient', 'number_emergency',\n",
       "       'number_inpatient', 'number_diagnoses', 'change',\n",
       "       ...\n",
       "       'glipizide_Up', 'glyburide_Down', 'glyburide_No', 'glyburide_Steady',\n",
       "       'glyburide_Up', 'tolbutamide_No', 'insulin_Down', 'insulin_No',\n",
       "       'insulin_Steady', 'insulin_Up'],\n",
       "      dtype='object', length=151)"
      ]
     },
     "execution_count": 41,
     "metadata": {},
     "output_type": "execute_result"
    }
   ],
   "source": [
    "feature_names"
   ]
  },
  {
   "cell_type": "code",
   "execution_count": 43,
   "id": "1280df71",
   "metadata": {},
   "outputs": [
    {
     "name": "stdout",
     "output_type": "stream",
     "text": [
      "discharge_disposition_id_11 : -1.0330682180913198\n",
      "number_inpatient : 0.5699699405604234\n",
      "discharge_disposition_id_14 : -0.22378741661661344\n",
      "number_emergency : 0.2177050360642632\n",
      "diabetesMed : 0.19542590274372462\n"
     ]
    }
   ],
   "source": [
    "feature_names = X_mat.columns\n",
    "coef = Rmodel.coef_[0]\n",
    "indices = np.argsort(np.absolute(coef))\n",
    "indices = np.flip(indices, axis=0)\n",
    "indices = indices[:5]\n",
    "for i in indices:\n",
    "    print(feature_names[i], ':', coef[i])"
   ]
  },
  {
   "cell_type": "markdown",
   "id": "283b5713",
   "metadata": {},
   "source": [
    "# 2 - GCV"
   ]
  },
  {
   "cell_type": "code",
   "execution_count": 44,
   "id": "a4472ce9",
   "metadata": {},
   "outputs": [
    {
     "data": {
      "text/plain": [
       "GridSearchCV(cv=10, estimator=LogisticRegression(random_state=10), n_jobs=-1,\n",
       "             param_grid={'C': [1e-06, 1e-05, 0.0001, 0.001, 0.01, 0.1, 1, 10,\n",
       "                               100, 1000]},\n",
       "             return_train_score=True)"
      ]
     },
     "execution_count": 44,
     "metadata": {},
     "output_type": "execute_result"
    }
   ],
   "source": [
    "from sklearn.model_selection import GridSearchCV\n",
    "# grid search CV\n",
    "params = {'C': [pow(10, x) for x in range(-6, 4)]}\n",
    "\n",
    "# use all cores to tune logistic regression with C parameter\n",
    "lr = GridSearchCV(param_grid=params, estimator=LogisticRegression\n",
    "                  (random_state=rs),return_train_score=True, cv=10, n_jobs=-1)\n",
    "lr.fit(x_standardlize, y_train)"
   ]
  },
  {
   "cell_type": "code",
   "execution_count": 45,
   "id": "d13c1fe9",
   "metadata": {},
   "outputs": [
    {
     "data": {
      "text/plain": [
       "{'cv': 10,\n",
       " 'error_score': nan,\n",
       " 'estimator__C': 1.0,\n",
       " 'estimator__class_weight': None,\n",
       " 'estimator__dual': False,\n",
       " 'estimator__fit_intercept': True,\n",
       " 'estimator__intercept_scaling': 1,\n",
       " 'estimator__l1_ratio': None,\n",
       " 'estimator__max_iter': 100,\n",
       " 'estimator__multi_class': 'auto',\n",
       " 'estimator__n_jobs': None,\n",
       " 'estimator__penalty': 'l2',\n",
       " 'estimator__random_state': 10,\n",
       " 'estimator__solver': 'lbfgs',\n",
       " 'estimator__tol': 0.0001,\n",
       " 'estimator__verbose': 0,\n",
       " 'estimator__warm_start': False,\n",
       " 'estimator': LogisticRegression(random_state=10),\n",
       " 'n_jobs': -1,\n",
       " 'param_grid': {'C': [1e-06,\n",
       "   1e-05,\n",
       "   0.0001,\n",
       "   0.001,\n",
       "   0.01,\n",
       "   0.1,\n",
       "   1,\n",
       "   10,\n",
       "   100,\n",
       "   1000]},\n",
       " 'pre_dispatch': '2*n_jobs',\n",
       " 'refit': True,\n",
       " 'return_train_score': True,\n",
       " 'scoring': None,\n",
       " 'verbose': 0}"
      ]
     },
     "execution_count": 45,
     "metadata": {},
     "output_type": "execute_result"
    }
   ],
   "source": [
    "lr.get_params()"
   ]
  },
  {
   "cell_type": "code",
   "execution_count": 46,
   "id": "acf92f0d",
   "metadata": {
    "scrolled": true
   },
   "outputs": [
    {
     "name": "stdout",
     "output_type": "stream",
     "text": [
      "{'mean_fit_time': array([0.30008879, 0.31671615, 0.30737574, 0.36919575, 0.61717913,\n",
      "       0.88612049, 1.19157991, 0.98405838, 1.08758612, 0.88101828]), 'std_fit_time': array([0.03493577, 0.02282588, 0.02822186, 0.02985525, 0.05088812,\n",
      "       0.06028032, 0.21950423, 0.12384314, 0.11262203, 0.19673267]), 'mean_score_time': array([0.00363457, 0.00390134, 0.00420189, 0.00435205, 0.00390122,\n",
      "       0.00430114, 0.00475228, 0.00400081, 0.00444188, 0.0020026 ]), 'std_score_time': array([0.00086134, 0.00083103, 0.00059994, 0.00148525, 0.00070037,\n",
      "       0.00090133, 0.00248273, 0.00077531, 0.00047169, 0.00080695]), 'param_C': masked_array(data=[1e-06, 1e-05, 0.0001, 0.001, 0.01, 0.1, 1, 10, 100,\n",
      "                   1000],\n",
      "             mask=[False, False, False, False, False, False, False, False,\n",
      "                   False, False],\n",
      "       fill_value='?',\n",
      "            dtype=object), 'params': [{'C': 1e-06}, {'C': 1e-05}, {'C': 0.0001}, {'C': 0.001}, {'C': 0.01}, {'C': 0.1}, {'C': 1}, {'C': 10}, {'C': 100}, {'C': 1000}], 'split0_test_score': array([0.53428571, 0.53785714, 0.61714286, 0.64285714, 0.645     ,\n",
      "       0.64071429, 0.63928571, 0.63928571, 0.63928571, 0.63928571]), 'split1_test_score': array([0.53428571, 0.53785714, 0.62857143, 0.63714286, 0.63785714,\n",
      "       0.63642857, 0.63714286, 0.63785714, 0.63785714, 0.63785714]), 'split2_test_score': array([0.53428571, 0.53642857, 0.61571429, 0.62571429, 0.63714286,\n",
      "       0.64214286, 0.64142857, 0.64142857, 0.64142857, 0.64142857]), 'split3_test_score': array([0.53428571, 0.53785714, 0.62785714, 0.64571429, 0.65142857,\n",
      "       0.65214286, 0.65285714, 0.65285714, 0.65285714, 0.65285714]), 'split4_test_score': array([0.53357143, 0.53785714, 0.63428571, 0.64928571, 0.65285714,\n",
      "       0.64714286, 0.64857143, 0.64857143, 0.64857143, 0.64857143]), 'split5_test_score': array([0.53357143, 0.53428571, 0.61214286, 0.62785714, 0.62142857,\n",
      "       0.62071429, 0.62071429, 0.62071429, 0.62071429, 0.62071429]), 'split6_test_score': array([0.53357143, 0.53785714, 0.59571429, 0.61785714, 0.62357143,\n",
      "       0.625     , 0.62571429, 0.62571429, 0.62571429, 0.62571429]), 'split7_test_score': array([0.53357143, 0.53642857, 0.63571429, 0.64928571, 0.65071429,\n",
      "       0.65357143, 0.65357143, 0.65357143, 0.65357143, 0.65357143]), 'split8_test_score': array([0.53357143, 0.54      , 0.63857143, 0.66142857, 0.665     ,\n",
      "       0.66785714, 0.66785714, 0.66785714, 0.66785714, 0.66785714]), 'split9_test_score': array([0.53357143, 0.535     , 0.62285714, 0.64857143, 0.64857143,\n",
      "       0.65      , 0.65      , 0.65      , 0.64928571, 0.64928571]), 'mean_test_score': array([0.53385714, 0.53714286, 0.62285714, 0.64057143, 0.64335714,\n",
      "       0.64357143, 0.64371429, 0.64378571, 0.64371429, 0.64371429]), 'std_test_score': array([0.00034993, 0.00156492, 0.01239239, 0.01262004, 0.01284146,\n",
      "       0.01321332, 0.01322027, 0.01318646, 0.0131545 , 0.0131545 ]), 'rank_test_score': array([10,  9,  8,  7,  6,  5,  2,  1,  3,  3]), 'split0_train_score': array([0.53380952, 0.53730159, 0.62714286, 0.64769841, 0.6518254 ,\n",
      "       0.65253968, 0.6531746 , 0.6531746 , 0.65309524, 0.65309524]), 'split1_train_score': array([0.53380952, 0.53730159, 0.62666667, 0.64674603, 0.65126984,\n",
      "       0.65206349, 0.65230159, 0.65222222, 0.65222222, 0.65214286]), 'split2_train_score': array([0.53380952, 0.53777778, 0.62746032, 0.64714286, 0.65039683,\n",
      "       0.65119048, 0.65134921, 0.65134921, 0.65142857, 0.65134921]), 'split3_train_score': array([0.53380952, 0.53714286, 0.62626984, 0.64626984, 0.64968254,\n",
      "       0.65126984, 0.65126984, 0.65126984, 0.65134921, 0.65126984]), 'split4_train_score': array([0.53388889, 0.53714286, 0.62587302, 0.64634921, 0.64928571,\n",
      "       0.65142857, 0.65150794, 0.65166667, 0.65166667, 0.6515873 ]), 'split5_train_score': array([0.53388889, 0.53825397, 0.62793651, 0.65246032, 0.65515873,\n",
      "       0.65650794, 0.65666667, 0.65674603, 0.65674603, 0.65674603]), 'split6_train_score': array([0.53388889, 0.53753968, 0.62968254, 0.64666667, 0.65095238,\n",
      "       0.65087302, 0.65047619, 0.65039683, 0.65047619, 0.65039683]), 'split7_train_score': array([0.53388889, 0.53738095, 0.6265873 , 0.64579365, 0.65015873,\n",
      "       0.65230159, 0.65238095, 0.65246032, 0.65246032, 0.65253968]), 'split8_train_score': array([0.53388889, 0.53690476, 0.62507937, 0.64595238, 0.6497619 ,\n",
      "       0.6497619 , 0.65007937, 0.65015873, 0.6502381 , 0.6502381 ]), 'split9_train_score': array([0.53388889, 0.53769841, 0.62714286, 0.64642857, 0.65055556,\n",
      "       0.65103175, 0.65150794, 0.65150794, 0.65150794, 0.65150794]), 'mean_train_score': array([0.53385714, 0.53744444, 0.62698413, 0.64715079, 0.65090476,\n",
      "       0.65189683, 0.65207143, 0.65209524, 0.65211905, 0.6520873 ]), 'std_train_score': array([3.88807896e-05, 3.68513866e-04, 1.18729734e-03, 1.84682045e-03,\n",
      "       1.59490244e-03, 1.71268664e-03, 1.75482993e-03, 1.77046398e-03,\n",
      "       1.74280004e-03, 1.76077828e-03])}\n"
     ]
    }
   ],
   "source": [
    "result_set = lr.cv_results_\n",
    "print(result_set)"
   ]
  },
  {
   "cell_type": "code",
   "execution_count": 47,
   "id": "2f20e0d3",
   "metadata": {},
   "outputs": [
    {
     "name": "stdout",
     "output_type": "stream",
     "text": [
      "Total number of models:  10\n"
     ]
    },
    {
     "data": {
      "image/png": "[encoded data removed]",
      "text/plain": [
       "<Figure size 432x288 with 1 Axes>"
      ]
     },
     "metadata": {
      "needs_background": "light"
     },
     "output_type": "display_data"
    }
   ],
   "source": [
    "import matplotlib.pyplot as plt\n",
    "train_result = result_set['split0_train_score']\n",
    "test_result = result_set['split0_test_score']\n",
    "print(\"Total number of models: \", len(test_result))\n",
    "# plot Hyperparameter C values vs training and test accuracy score\n",
    "plt.plot(range(0, len(train_result)), train_result, 'b', range(0,len(test_result)), test_result, 'r')\n",
    "plt.xlabel('Hyperparameter C\\nBlue = training acc. Red = test acc.')\n",
    "plt.xticks(range(0, len(train_result)),[pow(10, x) for x in range(-6, 4)])\n",
    "plt.ylabel('score')\n",
    "plt.show()"
   ]
  },
  {
   "cell_type": "code",
   "execution_count": 48,
   "id": "1fa80fc6",
   "metadata": {},
   "outputs": [
    {
     "name": "stdout",
     "output_type": "stream",
     "text": [
      "Total number of models:  10\n"
     ]
    },
    {
     "data": {
      "image/png": "[encoded data removed]",
      "text/plain": [
       "<Figure size 432x288 with 1 Axes>"
      ]
     },
     "metadata": {
      "needs_background": "light"
     },
     "output_type": "display_data"
    }
   ],
   "source": [
    "import matplotlib.pyplot as plt\n",
    "\n",
    "train_result = result_set['mean_train_score']\n",
    "test_result = result_set['mean_test_score']\n",
    "print(\"Total number of models: \", len(test_result))\n",
    "# plot Hyperparameter C values vs training and test accuracy score\n",
    "plt.plot(range(0, len(train_result)), train_result, 'b', range(0,len(test_result)), test_result, 'r')\n",
    "plt.xlabel('Hyperparameter C\\nBlue = training acc. Red = test acc.')\n",
    "plt.xticks(range(0, len(train_result)),[pow(10, x) for x in range(-6, 4)])\n",
    "plt.ylabel('score')\n",
    "plt.show()"
   ]
  },
  {
   "cell_type": "code",
   "execution_count": 49,
   "id": "a1881bbd",
   "metadata": {
    "scrolled": true
   },
   "outputs": [
    {
     "data": {
      "text/plain": [
       "LogisticRegression(C=10, random_state=10)"
      ]
     },
     "execution_count": 49,
     "metadata": {},
     "output_type": "execute_result"
    }
   ],
   "source": [
    "lr.best_estimator_"
   ]
  },
  {
   "cell_type": "code",
   "execution_count": 50,
   "id": "be66900f",
   "metadata": {},
   "outputs": [
    {
     "data": {
      "text/plain": [
       "<bound method ClassifierMixin.score of LogisticRegression(C=10, random_state=10)>"
      ]
     },
     "execution_count": 50,
     "metadata": {},
     "output_type": "execute_result"
    }
   ],
   "source": [
    "lr.best_estimator_.score"
   ]
  },
  {
   "cell_type": "code",
   "execution_count": 51,
   "id": "edcf29d5",
   "metadata": {
    "scrolled": true
   },
   "outputs": [
    {
     "name": "stdout",
     "output_type": "stream",
     "text": [
      "Train accuracy: 0.6513571428571429\n",
      "Test accuracy: 0.6401666666666667\n"
     ]
    }
   ],
   "source": [
    "lr.best_estimator_.fit(x_standardlize, y_train)\n",
    "\n",
    "print(\"Train accuracy:\", lr.score(x_standardlize, y_train))\n",
    "print(\"Test accuracy:\", lr.score(x_test, y_test))"
   ]
  },
  {
   "cell_type": "code",
   "execution_count": 52,
   "id": "feec9e54",
   "metadata": {},
   "outputs": [
    {
     "data": {
      "text/plain": [
       "array([10,  9,  8,  7,  6,  5,  2,  1,  3,  3])"
      ]
     },
     "execution_count": 52,
     "metadata": {},
     "output_type": "execute_result"
    }
   ],
   "source": [
    "lr.cv_results_['rank_test_score']"
   ]
  },
  {
   "cell_type": "code",
   "execution_count": 53,
   "id": "a620305b",
   "metadata": {},
   "outputs": [
    {
     "data": {
      "text/plain": [
       "array([0.53357143, 0.54      , 0.63857143, 0.66142857, 0.665     ,\n",
       "       0.66785714, 0.66785714, 0.66785714, 0.66785714, 0.66785714])"
      ]
     },
     "execution_count": 53,
     "metadata": {},
     "output_type": "execute_result"
    }
   ],
   "source": [
    "lr.cv_results_['split8_test_score'] "
   ]
  },
  {
   "cell_type": "code",
   "execution_count": 54,
   "id": "b74cab2b",
   "metadata": {},
   "outputs": [
    {
     "data": {
      "text/plain": [
       "{'C': 10}"
      ]
     },
     "execution_count": 54,
     "metadata": {},
     "output_type": "execute_result"
    }
   ],
   "source": [
    "lr.best_params_"
   ]
  },
  {
   "cell_type": "code",
   "execution_count": 55,
   "id": "6f157323",
   "metadata": {},
   "outputs": [],
   "source": [
    "lr_best = lr.best_estimator_"
   ]
  },
  {
   "cell_type": "code",
   "execution_count": 56,
   "id": "8c616e15",
   "metadata": {},
   "outputs": [
    {
     "name": "stdout",
     "output_type": "stream",
     "text": [
      "Train score:  0.6513571428571429\n",
      "Test score:  0.6401666666666667\n"
     ]
    }
   ],
   "source": [
    "print(\"Train score: \", lr_best.score(x_standardlize, y_train))\n",
    "print(\"Test score: \", lr_best.score(x_test, y_test))"
   ]
  },
  {
   "cell_type": "code",
   "execution_count": 57,
   "id": "b507d3bc",
   "metadata": {},
   "outputs": [
    {
     "name": "stdout",
     "output_type": "stream",
     "text": [
      "discharge_disposition_id_11 : -1.3699129416525566\n",
      "number_inpatient : 0.5703245388147229\n",
      "discharge_disposition_id_14 : -0.21863786846694327\n",
      "number_emergency : 0.217932669552588\n",
      "diabetesMed : 0.19556838399946014\n"
     ]
    }
   ],
   "source": [
    "feature_names = X_mat.columns\n",
    "coef =lr_best.coef_[0]\n",
    "indices = np.argsort(np.absolute(coef))\n",
    "indices = np.flip(indices, axis=0)\n",
    "indices = indices[:5]\n",
    "for i in indices:\n",
    "    print(feature_names[i], ':', coef[i])"
   ]
  },
  {
   "cell_type": "markdown",
   "id": "57726479",
   "metadata": {},
   "source": [
    "# Recursive feature elimination"
   ]
  },
  {
   "cell_type": "code",
   "execution_count": 58,
   "id": "e803335c",
   "metadata": {},
   "outputs": [],
   "source": [
    "from sklearn.model_selection import train_test_split\n",
    "\n",
    "rs = 10\n",
    "\n",
    "x_train, x_test, y_train, y_test = train_test_split(X_mat, y, test_size=0.3, stratify=y, random_state=rs)"
   ]
  },
  {
   "cell_type": "code",
   "execution_count": 59,
   "id": "c9d998d9",
   "metadata": {},
   "outputs": [],
   "source": [
    "from sklearn.preprocessing import StandardScaler\n",
    "scaler = StandardScaler()\n",
    "x_standardlize = scaler.fit_transform(x_train, y_train)\n",
    "x_test = scaler.fit_transform(x_test,y_test)"
   ]
  },
  {
   "cell_type": "code",
   "execution_count": 60,
   "id": "1be33862",
   "metadata": {
    "scrolled": true
   },
   "outputs": [
    {
     "name": "stdout",
     "output_type": "stream",
     "text": [
      "Original feature set 151\n",
      "Number of features after elimination 59\n"
     ]
    }
   ],
   "source": [
    "from sklearn.feature_selection import RFECV\n",
    "from sklearn.linear_model import LogisticRegression\n",
    "\n",
    "rfe = RFECV(estimator = LogisticRegression(random_state=9), cv=10)\n",
    "rfe_model = rfe.fit(x_standardlize, y_train) # run the RFECV\n",
    "\n",
    "print(\"Original feature set\", x_standardlize.shape[1])\n",
    "print(\"Number of features after elimination\", rfe.n_features_)"
   ]
  },
  {
   "cell_type": "code",
   "execution_count": 61,
   "id": "b497ab6a",
   "metadata": {},
   "outputs": [
    {
     "data": {
      "text/plain": [
       "array([ True, False, False,  True,  True,  True,  True,  True,  True,\n",
       "       False,  True, False, False,  True,  True, False, False, False,\n",
       "        True,  True, False, False,  True, False,  True, False,  True,\n",
       "        True,  True,  True, False,  True,  True, False,  True, False,\n",
       "       False,  True,  True,  True, False, False, False,  True, False,\n",
       "       False,  True,  True, False, False, False,  True,  True, False,\n",
       "        True, False, False,  True, False, False, False, False,  True,\n",
       "       False, False,  True, False, False, False,  True,  True, False,\n",
       "       False,  True,  True, False, False,  True,  True, False, False,\n",
       "       False, False,  True, False,  True, False,  True, False,  True,\n",
       "       False,  True, False, False, False, False,  True, False,  True,\n",
       "       False,  True, False,  True, False,  True,  True,  True, False,\n",
       "       False, False, False, False,  True, False,  True, False, False,\n",
       "       False, False, False,  True, False, False, False, False, False,\n",
       "       False, False,  True,  True, False,  True,  True, False, False,\n",
       "       False, False, False, False, False, False, False, False, False,\n",
       "       False, False, False, False, False,  True, False])"
      ]
     },
     "execution_count": 61,
     "metadata": {},
     "output_type": "execute_result"
    }
   ],
   "source": [
    "rfe_model.support_"
   ]
  },
  {
   "cell_type": "code",
   "execution_count": 62,
   "id": "47a604f4",
   "metadata": {},
   "outputs": [],
   "source": [
    "X_train_sel = rfe.transform(x_standardlize)\n",
    "X_test_sel = rfe.transform(x_test)"
   ]
  },
  {
   "cell_type": "code",
   "execution_count": 63,
   "id": "b522046e",
   "metadata": {},
   "outputs": [
    {
     "data": {
      "text/plain": [
       "14000"
      ]
     },
     "execution_count": 63,
     "metadata": {},
     "output_type": "execute_result"
    }
   ],
   "source": [
    "len(X_train_sel)"
   ]
  },
  {
   "cell_type": "code",
   "execution_count": 64,
   "id": "6b96cd33",
   "metadata": {
    "scrolled": false
   },
   "outputs": [
    {
     "name": "stdout",
     "output_type": "stream",
     "text": [
      "Train accuracy: 0.6502142857142857\n",
      "Test accuracy: 0.6373333333333333\n",
      "              precision    recall  f1-score   support\n",
      "\n",
      "       False       0.63      0.77      0.69      3203\n",
      "        True       0.65      0.48      0.55      2797\n",
      "\n",
      "    accuracy                           0.64      6000\n",
      "   macro avg       0.64      0.63      0.62      6000\n",
      "weighted avg       0.64      0.64      0.63      6000\n",
      "\n",
      "{'C': 1000}\n"
     ]
    }
   ],
   "source": [
    "from sklearn.model_selection import GridSearchCV\n",
    "params = {'C': [pow(10, x) for x in range(-6, 4)]}\n",
    "\n",
    "rfe_cv = GridSearchCV(param_grid=params, estimator=LogisticRegression(random_state=rs), cv=10, n_jobs=-1)\n",
    "rfe_cv.fit(X_train_sel, y_train)\n",
    "print(\"Train accuracy:\", rfe_cv.score(X_train_sel, y_train))\n",
    "print(\"Test accuracy:\", rfe_cv.score(X_test_sel, y_test))\n",
    "y_pred = rfe_cv.predict(X_test_sel)\n",
    "print(classification_report(y_test, y_pred))\n",
    "print(rfe_cv.best_params_)"
   ]
  },
  {
   "cell_type": "code",
   "execution_count": 65,
   "id": "8261f076",
   "metadata": {
    "scrolled": true
   },
   "outputs": [
    {
     "data": {
      "text/plain": [
       "{'cv': 10,\n",
       " 'error_score': nan,\n",
       " 'estimator__C': 1.0,\n",
       " 'estimator__class_weight': None,\n",
       " 'estimator__dual': False,\n",
       " 'estimator__fit_intercept': True,\n",
       " 'estimator__intercept_scaling': 1,\n",
       " 'estimator__l1_ratio': None,\n",
       " 'estimator__max_iter': 100,\n",
       " 'estimator__multi_class': 'auto',\n",
       " 'estimator__n_jobs': None,\n",
       " 'estimator__penalty': 'l2',\n",
       " 'estimator__random_state': 10,\n",
       " 'estimator__solver': 'lbfgs',\n",
       " 'estimator__tol': 0.0001,\n",
       " 'estimator__verbose': 0,\n",
       " 'estimator__warm_start': False,\n",
       " 'estimator': LogisticRegression(random_state=10),\n",
       " 'n_jobs': -1,\n",
       " 'param_grid': {'C': [1e-06,\n",
       "   1e-05,\n",
       "   0.0001,\n",
       "   0.001,\n",
       "   0.01,\n",
       "   0.1,\n",
       "   1,\n",
       "   10,\n",
       "   100,\n",
       "   1000]},\n",
       " 'pre_dispatch': '2*n_jobs',\n",
       " 'refit': True,\n",
       " 'return_train_score': False,\n",
       " 'scoring': None,\n",
       " 'verbose': 0}"
      ]
     },
     "execution_count": 65,
     "metadata": {},
     "output_type": "execute_result"
    }
   ],
   "source": [
    "rfe_cv.get_params()"
   ]
  },
  {
   "cell_type": "code",
   "execution_count": 66,
   "id": "67f79705",
   "metadata": {},
   "outputs": [
    {
     "data": {
      "text/plain": [
       "LogisticRegression(C=1000, random_state=10)"
      ]
     },
     "execution_count": 66,
     "metadata": {},
     "output_type": "execute_result"
    }
   ],
   "source": [
    "rfe_cv.best_estimator_"
   ]
  },
  {
   "cell_type": "code",
   "execution_count": 67,
   "id": "0f3815d4",
   "metadata": {},
   "outputs": [],
   "source": [
    "rfe_cv_best = rfe_cv.best_estimator_"
   ]
  },
  {
   "cell_type": "code",
   "execution_count": 68,
   "id": "065dafff",
   "metadata": {
    "scrolled": true
   },
   "outputs": [
    {
     "name": "stdout",
     "output_type": "stream",
     "text": [
      "LogisticRegression(C=1000, random_state=10)\n"
     ]
    }
   ],
   "source": [
    "print(rfe_cv_best)"
   ]
  },
  {
   "cell_type": "code",
   "execution_count": 69,
   "id": "e897e0ec",
   "metadata": {},
   "outputs": [
    {
     "data": {
      "text/plain": [
       "array([-0.09722155, -0.05697456,  0.13488281,  0.13099153,  0.2223203 ,\n",
       "        0.57336602,  0.08211262,  0.19163202,  0.04787678, -0.03820273,\n",
       "        0.0483502 ,  0.11053224,  0.06056812, -0.28927921,  0.0479212 ,\n",
       "       -2.28171127, -0.16088602, -0.23848119,  0.277763  , -0.26650313,\n",
       "        0.06860804, -0.21505316, -0.12431528,  0.05515607,  0.04122897,\n",
       "        0.18347015,  0.10267482,  0.16478924, -0.17786521, -0.04866468,\n",
       "        0.18715541, -0.20497916, -0.23272043,  0.0680272 , -0.1255088 ,\n",
       "       -0.09501417,  0.08548757, -0.1224084 , -0.21133755, -0.05753804,\n",
       "       -0.03926045, -0.1383316 , -0.12222466,  0.10307977,  0.04968447,\n",
       "        0.1175158 , -0.22859941, -0.05490193, -0.13878273, -0.04081168,\n",
       "        0.28331508,  0.05591619,  0.06032452,  0.0928394 ,  0.06990506,\n",
       "        0.05741604, -0.0817253 ,  0.0817253 , -0.10094263])"
      ]
     },
     "execution_count": 69,
     "metadata": {},
     "output_type": "execute_result"
    }
   ],
   "source": [
    "rfe_cv_best.coef_[0]"
   ]
  },
  {
   "cell_type": "code",
   "execution_count": 70,
   "id": "3e2dd976",
   "metadata": {},
   "outputs": [],
   "source": [
    "# X_mat.columns"
   ]
  },
  {
   "cell_type": "code",
   "execution_count": 71,
   "id": "ea839df4",
   "metadata": {
    "scrolled": true
   },
   "outputs": [
    {
     "name": "stdout",
     "output_type": "stream",
     "text": [
      "59 \n",
      "\n"
     ]
    }
   ],
   "source": [
    "sf=[]\n",
    "for i in range(0,len(rfe_model.support_),1):\n",
    "    if rfe_model.support_[i] == True:\n",
    "        sf.append(X_mat.columns[i])\n",
    "        \n",
    "print(len(sf),'\\n')\n",
    "# print(sf)"
   ]
  },
  {
   "cell_type": "code",
   "execution_count": 72,
   "id": "6a2c8474",
   "metadata": {
    "scrolled": true
   },
   "outputs": [
    {
     "data": {
      "text/plain": [
       "[('discharge_disposition_id_11', -2.281711270508471),\n",
       " ('number_inpatient', 0.5733660161092993),\n",
       " ('admission_type_id_7', -0.28927921342453167)]"
      ]
     },
     "execution_count": 72,
     "metadata": {},
     "output_type": "execute_result"
    }
   ],
   "source": [
    "coef = rfe_cv_best.coef_[0]\n",
    "feature_name = sf\n",
    "rank_coef={}\n",
    "\n",
    "for i in range(len(coef)):\n",
    "    rank_coef[feature_name[i]] = coef[i]\n",
    "    \n",
    "rank_coef = sorted(rank_coef.items(), key = lambda x:abs(x[1]), reverse = True)\n",
    "\n",
    "rank_coef[:3]"
   ]
  },
  {
   "cell_type": "code",
   "execution_count": 73,
   "id": "0d6651e4",
   "metadata": {
    "scrolled": true
   },
   "outputs": [
    {
     "data": {
      "text/plain": [
       "[('discharge_disposition_id_11', -2.281711270508471),\n",
       " ('number_inpatient', 0.5733660161092993),\n",
       " ('admission_type_id_7', -0.28927921342453167),\n",
       " ('medical_specialty_Surgery-Plastic', 0.28331507672031486),\n",
       " ('discharge_disposition_id_18', 0.2777630009289721),\n",
       " ('discharge_disposition_id_19', -0.2665031331758215),\n",
       " ('discharge_disposition_id_14', -0.23848118954319275),\n",
       " ('medical_specialty_Endocrinology-Metabolism', -0.2327204262341818),\n",
       " ('medical_specialty_Surgeon', -0.2285994093842307),\n",
       " ('number_emergency', 0.22232030198605424)]"
      ]
     },
     "execution_count": 73,
     "metadata": {},
     "output_type": "execute_result"
    }
   ],
   "source": [
    "rank_coef[:10]"
   ]
  },
  {
   "cell_type": "code",
   "execution_count": 74,
   "id": "bf4b42e3",
   "metadata": {},
   "outputs": [
    {
     "name": "stdout",
     "output_type": "stream",
     "text": [
      "59 59\n"
     ]
    }
   ],
   "source": [
    "print(len(coef),len(feature_name))"
   ]
  },
  {
   "cell_type": "code",
   "execution_count": 75,
   "id": "f67cf9e8",
   "metadata": {},
   "outputs": [
    {
     "name": "stdout",
     "output_type": "stream",
     "text": [
      "Total number of models:  10\n"
     ]
    },
    {
     "data": {
      "image/png": "[encoded data removed]",
      "text/plain": [
       "<Figure size 432x288 with 1 Axes>"
      ]
     },
     "metadata": {
      "needs_background": "light"
     },
     "output_type": "display_data"
    }
   ],
   "source": [
    "train_result = result_set['split0_train_score']\n",
    "test_result = result_set['split0_test_score']\n",
    "print(\"Total number of models: \", len(test_result))\n",
    "# plot Hyperparameter C values vs training and test accuracy score\n",
    "plt.plot(range(0, len(train_result)), train_result, 'b', range(0,len(test_result)), test_result, 'r')\n",
    "plt.xlabel('Hyperparameter C\\nBlue = training acc. Red = test acc.')\n",
    "plt.xticks(range(0, len(train_result)),[pow(10, x) for x in range(-6, 4)])\n",
    "plt.ylabel('score')\n",
    "plt.show()"
   ]
  },
  {
   "cell_type": "markdown",
   "id": "911eb0b3",
   "metadata": {},
   "source": [
    "# Curve"
   ]
  },
  {
   "cell_type": "code",
   "execution_count": 76,
   "id": "10bfd852",
   "metadata": {},
   "outputs": [
    {
     "name": "stdout",
     "output_type": "stream",
     "text": [
      "ROC index on test for DT_Grid: 0.6868878847603432\n",
      "ROC index on test for DT_RFE: 0.6863546654900198\n"
     ]
    }
   ],
   "source": [
    "from sklearn.metrics import roc_auc_score\n",
    "\n",
    "lr_pred = lr_best.predict_proba(x_test)\n",
    "rfe_pred = rfe_cv_best.predict_proba(X_test_sel)\n",
    "roc_index_dt_small = roc_auc_score(y_test,lr_pred[:, 1])\n",
    "roc_index_dt_cv = roc_auc_score(y_test, rfe_pred[:, 1])\n",
    "print(\"ROC index on test for DT_Grid:\", roc_index_dt_small)\n",
    "print(\"ROC index on test for DT_RFE:\", roc_index_dt_cv)"
   ]
  },
  {
   "cell_type": "code",
   "execution_count": 77,
   "id": "2c8d64fb",
   "metadata": {
    "scrolled": true
   },
   "outputs": [
    {
     "data": {
      "image/png": "[encoded data removed]",
      "text/plain": [
       "<Figure size 432x288 with 1 Axes>"
      ]
     },
     "metadata": {
      "needs_background": "light"
     },
     "output_type": "display_data"
    }
   ],
   "source": [
    "from sklearn.metrics import roc_curve\n",
    "\n",
    "fpr_Grid, tpr_Grid, thresholds_Grid = roc_curve(y_test, lr_pred[:,1])\n",
    "fpr_rfe_Grid, tpr_ref_Grid, thresholds_rfe_Grid = roc_curve(y_test, rfe_pred[:,1])\n",
    "plt.plot(fpr_Grid, tpr_Grid, label='ROC Curve for LR_optimal {:.3f}'.format(roc_index_dt_small), color='green', lw=0.5)\n",
    "plt.plot(fpr_rfe_Grid, tpr_ref_Grid, label='ROC Curve for rfe_LR_optimal {:.3f}'.format(roc_index_dt_cv), color='blue', lw=0.5)\n",
    "\n",
    "plt.plot([0, 1], [0, 1], color='navy', lw=0.5, linestyle='--')\n",
    "plt.xlim([0.0, 1.0])\n",
    "plt.ylim([0.0, 1.0])\n",
    "plt.xlabel('False Positive Rate')\n",
    "plt.ylabel('True Positive Rate')\n",
    "plt.title('Receiver operating characteristic example')\n",
    "plt.legend(loc=\"lower right\")\n",
    "plt.show()"
   ]
  },
  {
   "cell_type": "markdown",
   "id": "4b16cc12",
   "metadata": {},
   "source": [
    "# NN"
   ]
  },
  {
   "cell_type": "code",
   "execution_count": 47,
   "id": "65b128c3",
   "metadata": {},
   "outputs": [],
   "source": [
    "import numpy as np\n",
    "import pandas as pd\n",
    "from sklearn.model_selection import train_test_split\n",
    "import matplotlib.pyplot as plt\n",
    "from sklearn import tree\n",
    "from sklearn.metrics import classification_report\n",
    "from sklearn.model_selection import train_test_split\n",
    "from sklearn.preprocessing import StandardScaler\n",
    "from sklearn.model_selection import GridSearchCV\n",
    "\n",
    "df = pd.read_csv('D2.csv')\n",
    "\n",
    "from sklearn.preprocessing import StandardScaler\n",
    "\n",
    "# mapping\n",
    "df['age']=df['age'].astype(str)\n",
    "age_map = {'[80-90)':2, '[70-80)':3, '[50-60)':5, '[40-50)':6, '[60-70)':4, \n",
    "'[90-100)':1, '[30-40)':7,'[10-20)':9, '[20-30)':8, '[0-10)':10}\n",
    "df['age'] = df['age'].map(age_map)\n",
    "df['readmitted'] = df['readmitted'].astype(bool)\n",
    "df['admission_source_id'] = df['admission_source_id'].astype(str)\n",
    "df['discharge_disposition_id'] = df['discharge_disposition_id'].astype(str)\n",
    "df['admission_type_id'] = df['admission_type_id'].astype(str)\n",
    "\n",
    "y = df['readmitted']\n",
    "X = df.drop(['readmitted'], axis=1)\n",
    "X_mat = pd.get_dummies(X)\n",
    "rs = 10\n",
    "x_train, x_test, y_train, y_test = train_test_split(X_mat, y, test_size=0.3, stratify=y, random_state=rs)\n",
    "scaler = StandardScaler()\n",
    "x_standardlize = scaler.fit_transform(x_train, y_train)\n",
    "x_test = scaler.transform(x_test)"
   ]
  },
  {
   "cell_type": "markdown",
   "id": "1dd7208c",
   "metadata": {},
   "source": [
    "# 3.2"
   ]
  },
  {
   "cell_type": "code",
   "execution_count": 48,
   "id": "c68f617a",
   "metadata": {},
   "outputs": [],
   "source": [
    "from sklearn.neural_network import MLPClassifier"
   ]
  },
  {
   "cell_type": "code",
   "execution_count": 49,
   "id": "4b885cdd",
   "metadata": {},
   "outputs": [
    {
     "name": "stdout",
     "output_type": "stream",
     "text": [
      "Train accuracy: 0.8404285714285714\n",
      "Test accuracy: 0.582\n",
      "              precision    recall  f1-score   support\n",
      "\n",
      "       False       0.60      0.64      0.62      3203\n",
      "        True       0.56      0.52      0.54      2797\n",
      "\n",
      "    accuracy                           0.58      6000\n",
      "   macro avg       0.58      0.58      0.58      6000\n",
      "weighted avg       0.58      0.58      0.58      6000\n",
      "\n",
      "MLPClassifier(random_state=10)\n"
     ]
    },
    {
     "name": "stderr",
     "output_type": "stream",
     "text": [
      "C:\\Users\\John\\anaconda3\\lib\\site-packages\\sklearn\\neural_network\\_multilayer_perceptron.py:692: ConvergenceWarning: Stochastic Optimizer: Maximum iterations (200) reached and the optimization hasn't converged yet.\n",
      "  warnings.warn(\n"
     ]
    }
   ],
   "source": [
    "model_1 = MLPClassifier(random_state=rs)\n",
    "model_1.fit(x_standardlize, y_train)\n",
    "print(\"Train accuracy:\", model_1.score(x_standardlize, y_train))\n",
    "print(\"Test accuracy:\", model_1.score(x_test, y_test))\n",
    "y_pred = model_1.predict(x_test)\n",
    "print(classification_report(y_test, y_pred))\n",
    "print(model_1)"
   ]
  },
  {
   "cell_type": "code",
   "execution_count": 50,
   "id": "291909a5",
   "metadata": {},
   "outputs": [
    {
     "data": {
      "text/plain": [
       "{'activation': 'relu',\n",
       " 'alpha': 0.0001,\n",
       " 'batch_size': 'auto',\n",
       " 'beta_1': 0.9,\n",
       " 'beta_2': 0.999,\n",
       " 'early_stopping': False,\n",
       " 'epsilon': 1e-08,\n",
       " 'hidden_layer_sizes': (100,),\n",
       " 'learning_rate': 'constant',\n",
       " 'learning_rate_init': 0.001,\n",
       " 'max_fun': 15000,\n",
       " 'max_iter': 200,\n",
       " 'momentum': 0.9,\n",
       " 'n_iter_no_change': 10,\n",
       " 'nesterovs_momentum': True,\n",
       " 'power_t': 0.5,\n",
       " 'random_state': 10,\n",
       " 'shuffle': True,\n",
       " 'solver': 'adam',\n",
       " 'tol': 0.0001,\n",
       " 'validation_fraction': 0.1,\n",
       " 'verbose': False,\n",
       " 'warm_start': False}"
      ]
     },
     "execution_count": 50,
     "metadata": {},
     "output_type": "execute_result"
    }
   ],
   "source": [
    "model_1.get_params()"
   ]
  },
  {
   "cell_type": "code",
   "execution_count": 51,
   "id": "fb6e08b0",
   "metadata": {},
   "outputs": [
    {
     "name": "stdout",
     "output_type": "stream",
     "text": [
      "Train accuracy: 0.6621428571428571\n",
      "Test accuracy: 0.631\n",
      "              precision    recall  f1-score   support\n",
      "\n",
      "       False       0.64      0.71      0.67      3203\n",
      "        True       0.62      0.54      0.58      2797\n",
      "\n",
      "    accuracy                           0.63      6000\n",
      "   macro avg       0.63      0.63      0.63      6000\n",
      "weighted avg       0.63      0.63      0.63      6000\n",
      "\n",
      "{'hidden_layer_sizes': (3,)}\n"
     ]
    }
   ],
   "source": [
    "# new parameters\n",
    "params = {'hidden_layer_sizes': [(3,), (5,), (7,), (9,)]}\n",
    "\n",
    "cv_2 = GridSearchCV(param_grid=params, estimator=MLPClassifier(random_state=rs), cv=10, n_jobs=-1)\n",
    "cv_2.fit(x_standardlize, y_train)\n",
    "\n",
    "print(\"Train accuracy:\", cv_2.score(x_standardlize, y_train))\n",
    "print(\"Test accuracy:\", cv_2.score(x_test, y_test))\n",
    "\n",
    "y_pred = cv_2.predict(x_test)\n",
    "print(classification_report(y_test, y_pred))\n",
    "\n",
    "print(cv_2.best_params_)"
   ]
  },
  {
   "cell_type": "code",
   "execution_count": 52,
   "id": "0923aeae",
   "metadata": {},
   "outputs": [
    {
     "name": "stdout",
     "output_type": "stream",
     "text": [
      "original\n",
      "118\n",
      "3\n",
      "logistic\n",
      "151\n"
     ]
    }
   ],
   "source": [
    "cv_2_best = cv_2.best_estimator_\n",
    "print(\"original\")\n",
    "print(cv_2_best.n_iter_)\n",
    "print(cv_2_best.n_layers_)\n",
    "print(cv_2_best.out_activation_)\n",
    "print(cv_2_best.n_features_in_)"
   ]
  },
  {
   "cell_type": "markdown",
   "id": "bd5201d2",
   "metadata": {},
   "source": [
    "# 3.3"
   ]
  },
  {
   "cell_type": "code",
   "execution_count": 53,
   "id": "ce5ca556",
   "metadata": {},
   "outputs": [
    {
     "name": "stdout",
     "output_type": "stream",
     "text": [
      "{'criterion': 'gini', 'max_depth': 6, 'min_samples_leaf': 5}\n"
     ]
    }
   ],
   "source": [
    "import pickle\n",
    "with open('DT.pickle', 'rb') as f:\n",
    "    dt_best,roc_index_dt_cv, fpr_dt_cv, tpr_dt_cv = pickle.load(f)\n",
    "print(dt_best.best_params_)"
   ]
  },
  {
   "cell_type": "code",
   "execution_count": 54,
   "id": "d378389f",
   "metadata": {},
   "outputs": [
    {
     "name": "stdout",
     "output_type": "stream",
     "text": [
      "(14000, 15)\n"
     ]
    },
    {
     "name": "stderr",
     "output_type": "stream",
     "text": [
      "C:\\Users\\John\\anaconda3\\lib\\site-packages\\sklearn\\base.py:443: UserWarning: X has feature names, but SelectFromModel was fitted without feature names\n",
      "  warnings.warn(\n"
     ]
    }
   ],
   "source": [
    "from sklearn.feature_selection import SelectFromModel\n",
    "selectmodel = SelectFromModel(dt_best.best_estimator_, prefit=True)\n",
    "X_train_sel_model = selectmodel.transform(x_train)\n",
    "X_test_sel_model = selectmodel.transform(x_test)\n",
    "print(X_train_sel_model.shape)"
   ]
  },
  {
   "cell_type": "code",
   "execution_count": 55,
   "id": "60fe9222",
   "metadata": {},
   "outputs": [
    {
     "name": "stdout",
     "output_type": "stream",
     "text": [
      "Fitting 10 folds for each of 8 candidates, totalling 80 fits\n",
      "Train accuracy: 0.6457857142857143\n",
      "Test accuracy: 0.5698333333333333\n",
      "              precision    recall  f1-score   support\n",
      "\n",
      "       False       0.56      0.98      0.71      3203\n",
      "        True       0.80      0.10      0.18      2797\n",
      "\n",
      "    accuracy                           0.57      6000\n",
      "   macro avg       0.68      0.54      0.45      6000\n",
      "weighted avg       0.67      0.57      0.46      6000\n",
      "\n",
      "{'alpha': 0.01, 'hidden_layer_sizes': 5}\n"
     ]
    }
   ],
   "source": [
    "params = {'hidden_layer_sizes': [(3), (5),(7),(9)], 'alpha': [0.01,0.001]}\n",
    "\n",
    "rfe_cv = GridSearchCV(param_grid=params, estimator=MLPClassifier(random_state=rs), cv = 10, n_jobs=-1, verbose = 10, return_train_score = True)\n",
    "rfe_cv.fit(X_train_sel_model, y_train)\n",
    "\n",
    "print(\"Train accuracy:\", rfe_cv.score(X_train_sel_model, y_train))\n",
    "print(\"Test accuracy:\", rfe_cv.score(X_test_sel_model, y_test))\n",
    "\n",
    "y_pred = rfe_cv.predict(X_test_sel_model)\n",
    "print(classification_report(y_test, y_pred))\n",
    "\n",
    "print(rfe_cv.best_params_)"
   ]
  },
  {
   "cell_type": "code",
   "execution_count": 56,
   "id": "ded2fb29",
   "metadata": {},
   "outputs": [],
   "source": [
    "# rfe_cv.cv_results_"
   ]
  },
  {
   "cell_type": "code",
   "execution_count": 57,
   "id": "6feaa6db",
   "metadata": {},
   "outputs": [],
   "source": [
    "rfe_cv_best = rfe_cv.best_estimator_"
   ]
  },
  {
   "cell_type": "code",
   "execution_count": 58,
   "id": "480f3e95",
   "metadata": {},
   "outputs": [],
   "source": [
    "# feature_names = X_mat.columns\n",
    "# coef =rfe_cv_best.coefs_[0]\n",
    "# indices = np.argsort(np.absolute(coef))\n",
    "# indices = np.flip(indices, axis=0)\n",
    "# indices = indices[:5]\n",
    "# for i in indices:\n",
    "#     print(feature_names[i], ':', coef[i])"
   ]
  },
  {
   "cell_type": "code",
   "execution_count": 59,
   "id": "08118e57",
   "metadata": {},
   "outputs": [
    {
     "name": "stdout",
     "output_type": "stream",
     "text": [
      "Feature selection\n",
      "102\n",
      "3\n",
      "logistic\n",
      "15\n"
     ]
    }
   ],
   "source": [
    "rfe_cv_best = rfe_cv.best_estimator_\n",
    "print('Feature selection')\n",
    "print(rfe_cv_best.n_iter_)\n",
    "print(rfe_cv_best.n_layers_)\n",
    "print(rfe_cv_best.out_activation_)\n",
    "print(rfe_cv_best.n_features_in_)"
   ]
  },
  {
   "cell_type": "code",
   "execution_count": 62,
   "id": "70929b11",
   "metadata": {},
   "outputs": [
    {
     "data": {
      "text/plain": [
       "array([0.63285714, 0.63642857, 0.63571429, 0.63428571, 0.635     ,\n",
       "       0.63714286, 0.63357143, 0.64428571])"
      ]
     },
     "execution_count": 62,
     "metadata": {},
     "output_type": "execute_result"
    }
   ],
   "source": [
    "result_set[\"split0_test_score\"]"
   ]
  },
  {
   "cell_type": "code",
   "execution_count": 63,
   "id": "e1274fc5",
   "metadata": {},
   "outputs": [
    {
     "name": "stdout",
     "output_type": "stream",
     "text": [
      "Total number of models:  8\n"
     ]
    },
    {
     "data": {
      "image/png": "[encoded data removed]",
      "text/plain": [
       "<Figure size 432x288 with 1 Axes>"
      ]
     },
     "metadata": {
      "needs_background": "light"
     },
     "output_type": "display_data"
    }
   ],
   "source": [
    "import matplotlib.pyplot as plt\n",
    "\n",
    "train_result = result_set['mean_train_score']\n",
    "test_result = result_set['mean_test_score']\n",
    "print(\"Total number of models: \", len(test_result))\n",
    "# plot Hyperparameter C values vs training and test accuracy score\n",
    "plt.plot(range(0, len(train_result)), train_result, 'b', range(0,len(test_result)), test_result, 'r')\n",
    "plt.xlabel('Hyperparameter C\\nBlue = training acc. Red = test acc.')\n",
    "plt.xticks(range(0, len(train_result)))\n",
    "plt.ylabel('score')\n",
    "plt.show()"
   ]
  },
  {
   "cell_type": "code",
   "execution_count": 64,
   "id": "ddd9f383",
   "metadata": {},
   "outputs": [
    {
     "name": "stdout",
     "output_type": "stream",
     "text": [
      "Total number of models:  8\n"
     ]
    },
    {
     "data": {
      "image/png": "[encoded data removed]",
      "text/plain": [
       "<Figure size 432x288 with 1 Axes>"
      ]
     },
     "metadata": {
      "needs_background": "light"
     },
     "output_type": "display_data"
    }
   ],
   "source": [
    "import matplotlib.pyplot as plt\n",
    "train_result = result_set['split0_train_score']\n",
    "test_result = result_set['split0_test_score']\n",
    "print(\"Total number of models: \", len(test_result))\n",
    "# plot Hyperparameter C values vs training and test accuracy score\n",
    "plt.plot(range(0, len(train_result)), train_result, 'b', range(0,len(test_result)), test_result, 'r')\n",
    "plt.xlabel('Hyperparameter C\\nBlue = training acc. Red = test acc.')\n",
    "plt.xticks(range(0, len(train_result)))\n",
    "plt.ylabel('score')\n",
    "plt.show()"
   ]
  },
  {
   "cell_type": "code",
   "execution_count": 65,
   "id": "86837c86",
   "metadata": {},
   "outputs": [
    {
     "name": "stdout",
     "output_type": "stream",
     "text": [
      "ROC index on test for NN_default: 0.6099888924744421\n",
      "ROC index on test for NN with gridsearch 2: 0.6810140453103549\n",
      "ROC index on test for NN with feature selection and gridsearch: 0.6622198798922756\n"
     ]
    }
   ],
   "source": [
    "from sklearn.metrics import roc_auc_score\n",
    "\n",
    "y_pred_proba_nn_1 = model_1.predict_proba(x_test)\n",
    "y_pred_proba_cv_2 = cv_2.predict_proba(x_test)\n",
    "y_pred_proba_rfe_cv = rfe_cv.predict_proba(X_test_sel_model)\n",
    "\n",
    "roc_index_nn_1 = roc_auc_score(y_test, y_pred_proba_nn_1[:, 1])\n",
    "roc_index_cv_2 = roc_auc_score(y_test, y_pred_proba_cv_2[:, 1])\n",
    "roc_index_rfe_cv = roc_auc_score(y_test, y_pred_proba_rfe_cv[:, 1])\n",
    "\n",
    "print(\"ROC index on test for NN_default:\", roc_index_nn_1)\n",
    "print(\"ROC index on test for NN with gridsearch 2:\", roc_index_cv_2)\n",
    "print(\"ROC index on test for NN with feature selection and gridsearch:\", roc_index_rfe_cv)\n",
    "\n",
    "from sklearn.metrics import roc_curve\n",
    "\n",
    "fpr_nn_1, tpr_nn_1, thresholds_nn_1 = roc_curve(y_test, y_pred_proba_nn_1[:,1])\n",
    "fpr_cv_2, tpr_cv_2, thresholds_cv_2 = roc_curve(y_test, y_pred_proba_cv_2[:,1])\n",
    "fpr_rfe_cv, tpr_rfe_cv, thresholds_rfe_cv = roc_curve(y_test, y_pred_proba_rfe_cv[:,1])\n"
   ]
  },
  {
   "cell_type": "code",
   "execution_count": 66,
   "id": "55a9b38d",
   "metadata": {},
   "outputs": [
    {
     "data": {
      "image/png": "[encoded data removed]",
      "text/plain": [
       "<Figure size 432x288 with 1 Axes>"
      ]
     },
     "metadata": {
      "needs_background": "light"
     },
     "output_type": "display_data"
    }
   ],
   "source": [
    "import matplotlib.pyplot as plt\n",
    "\n",
    "plt.plot(fpr_nn_1, tpr_nn_1, label='NN_default {:.3f}'.format(roc_index_nn_1), color='red', lw=0.5)\n",
    "plt.plot(fpr_cv_2, tpr_cv_2, label='NN cv_2 {:.3f}'.format(roc_index_cv_2), color='blue', lw=0.5)\n",
    "plt.plot(fpr_rfe_cv, tpr_rfe_cv, label='NN rfe_cv {:.3f}'.format(roc_index_rfe_cv), color='green', lw=0.5)\n",
    "\n",
    "\n",
    "plt.plot([0, 1], [0, 1], color='navy', lw=0.5, linestyle='--')\n",
    "plt.xlim([0.0, 1.0])\n",
    "plt.ylim([0.0, 1.0])\n",
    "plt.xlabel('False Positive Rate')\n",
    "plt.ylabel('True Positive Rate')\n",
    "plt.title('Receiver operating characteristic example')\n",
    "plt.legend(loc=\"lower right\")\n",
    "plt.show()"
   ]
  },
  {
   "cell_type": "markdown",
   "id": "3dbeca61",
   "metadata": {},
   "source": [
    "# Final remark"
   ]
  },
  {
   "cell_type": "code",
   "execution_count": 34,
   "id": "7a3184a5",
   "metadata": {},
   "outputs": [],
   "source": [
    "import numpy as np\n",
    "import pandas as pd\n",
    "from sklearn.model_selection import train_test_split\n",
    "import matplotlib.pyplot as plt\n",
    "from sklearn import tree\n",
    "from sklearn.metrics import classification_report\n",
    "from sklearn.model_selection import train_test_split\n",
    "from sklearn.preprocessing import StandardScaler\n",
    "from sklearn.model_selection import GridSearchCV\n",
    "from sklearn.tree import DecisionTreeClassifier\n",
    "\n",
    "df = pd.read_csv('D2.csv')\n",
    "\n",
    "from sklearn.preprocessing import StandardScaler\n",
    "\n",
    "# mapping\n",
    "df['age']=df['age'].astype(str)\n",
    "age_map = {'[80-90)':2, '[70-80)':3, '[50-60)':5, '[40-50)':6, '[60-70)':4, \n",
    "'[90-100)':1, '[30-40)':7,'[10-20)':9, '[20-30)':8, '[0-10)':10}\n",
    "df['age'] = df['age'].map(age_map)\n",
    "df['readmitted'] = df['readmitted'].astype(bool)\n",
    "df['admission_source_id'] = df['admission_source_id'].astype(str)\n",
    "df['discharge_disposition_id'] = df['discharge_disposition_id'].astype(str)\n",
    "df['admission_type_id'] = df['admission_type_id'].astype(str)\n",
    "\n",
    "y = df['readmitted']\n",
    "X = df.drop(['readmitted'], axis=1)\n",
    "X_mat = pd.get_dummies(X)\n",
    "rs = 10\n",
    "x_train, x_test, y_train, y_test = train_test_split(X_mat, y, test_size=0.3, stratify=y, random_state=rs)\n",
    "scaler = StandardScaler()\n",
    "x_standardlize = scaler.fit_transform(x_train, y_train)\n",
    "x_test = scaler.transform(x_test)"
   ]
  },
  {
   "cell_type": "code",
   "execution_count": 35,
   "id": "30c9787c",
   "metadata": {},
   "outputs": [
    {
     "name": "stdout",
     "output_type": "stream",
     "text": [
      "{'mean_fit_time': array([0.1987009 , 0.19722965, 0.19504879, 0.2264746 , 0.22801077,\n",
      "       0.22732692, 0.22783573, 0.22334597, 0.248667  , 0.24038303,\n",
      "       0.23051128, 0.2501683 , 0.26458278, 0.26707926, 0.26011839,\n",
      "       0.25329435, 0.26865587, 0.26224489, 0.25962238, 0.25859759,\n",
      "       0.27466128, 0.27327411, 0.27363355, 0.27403655, 0.29539573,\n",
      "       0.29588742, 0.31899035, 0.31350958, 0.29851229, 0.3093415 ,\n",
      "       0.30403137, 0.34268475, 0.32267776, 0.31352992, 0.31231422,\n",
      "       0.30956798, 0.33936138, 0.33889744, 0.32316673, 0.37895467,\n",
      "       0.37401834, 0.37229846, 0.36517727, 0.34764657, 0.39172068,\n",
      "       0.38966496, 0.37383595, 0.38269086, 0.41629617, 0.36060216,\n",
      "       0.34748797, 0.38869667, 0.45369213, 0.43463738, 0.37918253,\n",
      "       0.37861223, 0.4117352 , 0.39297466, 0.39381654, 0.37929733,\n",
      "       0.19385202, 0.21376269, 0.18975241, 0.20934787, 0.2186368 ,\n",
      "       0.19883411, 0.19884746, 0.1985599 , 0.22036405, 0.239854  ,\n",
      "       0.22363076, 0.22899652, 0.25031145, 0.26661386, 0.28529513,\n",
      "       0.27689631, 0.26785669, 0.26661148, 0.27115922, 0.26356196,\n",
      "       0.28482358, 0.27993715, 0.28969781, 0.27658751, 0.30935881,\n",
      "       0.29853876, 0.2986335 , 0.29388096, 0.3262955 , 0.31123073,\n",
      "       0.31879773, 0.30577159, 0.32384336, 0.33742926, 0.33804104,\n",
      "       0.33793457, 0.34861076, 0.34037879, 0.35312145, 0.39276986,\n",
      "       0.35604455, 0.38995214, 0.38542597, 0.36586881, 0.40679021,\n",
      "       0.36873693, 0.34144027, 0.37636235, 0.38961711, 0.37740848,\n",
      "       0.37544551, 0.35610063, 0.38920331, 0.37084548, 0.37825806,\n",
      "       0.37392073, 0.40806751, 0.39567597, 0.39547117, 0.36118295]), 'std_fit_time': array([0.00839032, 0.00845715, 0.01340225, 0.03764632, 0.01776692,\n",
      "       0.01034611, 0.00975906, 0.01624816, 0.01472147, 0.01668728,\n",
      "       0.01060557, 0.02672546, 0.01435927, 0.02664909, 0.0150374 ,\n",
      "       0.01676862, 0.01422819, 0.0137894 , 0.00926576, 0.00687475,\n",
      "       0.00763259, 0.00927508, 0.00881399, 0.00710401, 0.00598779,\n",
      "       0.02342698, 0.03112662, 0.02268018, 0.00296452, 0.00527237,\n",
      "       0.00941042, 0.03444127, 0.01974207, 0.00569947, 0.00704943,\n",
      "       0.00540452, 0.02763146, 0.02975437, 0.00671809, 0.03448681,\n",
      "       0.02635364, 0.02994803, 0.04625881, 0.02322528, 0.03182483,\n",
      "       0.03755616, 0.04512485, 0.04007004, 0.02918375, 0.02130668,\n",
      "       0.00655687, 0.03107148, 0.02656522, 0.04852133, 0.02623588,\n",
      "       0.01368347, 0.0198418 , 0.0273803 , 0.03287336, 0.02370031,\n",
      "       0.00996801, 0.02512892, 0.01186356, 0.04055609, 0.01251141,\n",
      "       0.0018177 , 0.00481467, 0.00212231, 0.01414435, 0.02596136,\n",
      "       0.00658231, 0.01256502, 0.01548215, 0.02421323, 0.03665785,\n",
      "       0.0463133 , 0.01735891, 0.01645308, 0.02348274, 0.02360332,\n",
      "       0.01499598, 0.0118989 , 0.02822862, 0.01401328, 0.01725875,\n",
      "       0.0127388 , 0.02110146, 0.01873108, 0.02715904, 0.02114559,\n",
      "       0.02358201, 0.00849432, 0.02013257, 0.02151053, 0.02128135,\n",
      "       0.01827824, 0.02262084, 0.00696515, 0.02660256, 0.04599404,\n",
      "       0.01040962, 0.03470034, 0.03033758, 0.02031487, 0.02663264,\n",
      "       0.02411589, 0.08038697, 0.02475548, 0.0191294 , 0.0268187 ,\n",
      "       0.01847248, 0.01273482, 0.0205979 , 0.00578177, 0.01851379,\n",
      "       0.0177118 , 0.02398657, 0.01794501, 0.01909138, 0.0202371 ]), 'mean_score_time': array([0.02137082, 0.02123787, 0.0213114 , 0.02402403, 0.02282941,\n",
      "       0.02369041, 0.0220324 , 0.02262297, 0.02194369, 0.02109261,\n",
      "       0.02188764, 0.02124646, 0.02258217, 0.02216504, 0.02187119,\n",
      "       0.02012136, 0.02073021, 0.02161031, 0.02080822, 0.02114546,\n",
      "       0.02038004, 0.02038579, 0.02040837, 0.02110984, 0.02054703,\n",
      "       0.02119155, 0.02211058, 0.02076352, 0.02079906, 0.01960394,\n",
      "       0.02122641, 0.02112355, 0.02052023, 0.02161527, 0.02101595,\n",
      "       0.02079482, 0.02083087, 0.02106087, 0.02287514, 0.02291303,\n",
      "       0.0218745 , 0.02370114, 0.02324178, 0.02188346, 0.02139697,\n",
      "       0.0216341 , 0.02208993, 0.02409136, 0.02256119, 0.0216954 ,\n",
      "       0.02168312, 0.02382138, 0.02675023, 0.02238448, 0.02234888,\n",
      "       0.02124765, 0.02198238, 0.02207587, 0.02063029, 0.02132852,\n",
      "       0.02053244, 0.02359154, 0.02233927, 0.02068496, 0.02163339,\n",
      "       0.02070312, 0.02002962, 0.02040522, 0.02017155, 0.02141335,\n",
      "       0.02140996, 0.02248361, 0.02096152, 0.02074699, 0.0237844 ,\n",
      "       0.02038715, 0.02083428, 0.02121956, 0.02037864, 0.0227103 ,\n",
      "       0.02094848, 0.02210197, 0.02245159, 0.020384  , 0.02118208,\n",
      "       0.02082696, 0.02281225, 0.02236543, 0.02156415, 0.02080569,\n",
      "       0.02082262, 0.02201512, 0.02165792, 0.02120209, 0.02168283,\n",
      "       0.0196456 , 0.02123933, 0.02117181, 0.02126644, 0.02482712,\n",
      "       0.02080185, 0.02208152, 0.02217088, 0.02162106, 0.02163   ,\n",
      "       0.02120726, 0.01846936, 0.02105319, 0.0216279 , 0.0213645 ,\n",
      "       0.02153413, 0.01960514, 0.02116046, 0.02089424, 0.02125752,\n",
      "       0.02172985, 0.02271936, 0.02031658, 0.02123628, 0.02055945]), 'std_score_time': array([0.00311181, 0.00249042, 0.00130156, 0.00425992, 0.00329928,\n",
      "       0.00379012, 0.00388543, 0.00273464, 0.00174357, 0.00217741,\n",
      "       0.00408166, 0.00157153, 0.00420669, 0.00211511, 0.00197651,\n",
      "       0.00185283, 0.00247064, 0.00327514, 0.00239914, 0.00178993,\n",
      "       0.00116636, 0.00215881, 0.00215428, 0.00191618, 0.00213042,\n",
      "       0.00181479, 0.0040606 , 0.00162467, 0.0016034 , 0.0012002 ,\n",
      "       0.00182947, 0.00158206, 0.00209722, 0.00197346, 0.00162045,\n",
      "       0.00184716, 0.00195469, 0.00227129, 0.00254675, 0.00224785,\n",
      "       0.00176326, 0.00419662, 0.00332425, 0.00337262, 0.00179071,\n",
      "       0.0020228 , 0.00339972, 0.0049196 , 0.0023472 , 0.00270767,\n",
      "       0.0020065 , 0.00293466, 0.00552563, 0.00330764, 0.0024638 ,\n",
      "       0.0020297 , 0.00278071, 0.00259426, 0.0020556 , 0.0023336 ,\n",
      "       0.00066952, 0.00465064, 0.00370849, 0.00500609, 0.00482088,\n",
      "       0.00141471, 0.00178973, 0.00120054, 0.00159919, 0.00116896,\n",
      "       0.0019453 , 0.00478197, 0.00359756, 0.00186859, 0.00441898,\n",
      "       0.00203013, 0.00164468, 0.00259447, 0.00230463, 0.00401571,\n",
      "       0.00173765, 0.00277185, 0.00446866, 0.00129582, 0.00264725,\n",
      "       0.00164149, 0.00359591, 0.002007  , 0.00195915, 0.0016001 ,\n",
      "       0.00159423, 0.00199669, 0.00373808, 0.00183261, 0.00203293,\n",
      "       0.00121928, 0.00188399, 0.00183834, 0.00181905, 0.00532435,\n",
      "       0.00160371, 0.00274976, 0.00212346, 0.00194776, 0.00198934,\n",
      "       0.00188053, 0.00453047, 0.00165099, 0.00267245, 0.00175703,\n",
      "       0.00361861, 0.00120035, 0.00255745, 0.00135357, 0.00141324,\n",
      "       0.0016031 , 0.00346167, 0.00176366, 0.00089329, 0.00074768]), 'param_criterion': masked_array(data=['gini', 'gini', 'gini', 'gini', 'gini', 'gini', 'gini',\n",
      "                   'gini', 'gini', 'gini', 'gini', 'gini', 'gini', 'gini',\n",
      "                   'gini', 'gini', 'gini', 'gini', 'gini', 'gini', 'gini',\n",
      "                   'gini', 'gini', 'gini', 'gini', 'gini', 'gini', 'gini',\n",
      "                   'gini', 'gini', 'gini', 'gini', 'gini', 'gini', 'gini',\n",
      "                   'gini', 'gini', 'gini', 'gini', 'gini', 'gini', 'gini',\n",
      "                   'gini', 'gini', 'gini', 'gini', 'gini', 'gini', 'gini',\n",
      "                   'gini', 'gini', 'gini', 'gini', 'gini', 'gini', 'gini',\n",
      "                   'gini', 'gini', 'gini', 'gini', 'entropy', 'entropy',\n",
      "                   'entropy', 'entropy', 'entropy', 'entropy', 'entropy',\n",
      "                   'entropy', 'entropy', 'entropy', 'entropy', 'entropy',\n",
      "                   'entropy', 'entropy', 'entropy', 'entropy', 'entropy',\n",
      "                   'entropy', 'entropy', 'entropy', 'entropy', 'entropy',\n",
      "                   'entropy', 'entropy', 'entropy', 'entropy', 'entropy',\n",
      "                   'entropy', 'entropy', 'entropy', 'entropy', 'entropy',\n",
      "                   'entropy', 'entropy', 'entropy', 'entropy', 'entropy',\n",
      "                   'entropy', 'entropy', 'entropy', 'entropy', 'entropy',\n",
      "                   'entropy', 'entropy', 'entropy', 'entropy', 'entropy',\n",
      "                   'entropy', 'entropy', 'entropy', 'entropy', 'entropy',\n",
      "                   'entropy', 'entropy', 'entropy', 'entropy', 'entropy',\n",
      "                   'entropy', 'entropy', 'entropy'],\n",
      "             mask=[False, False, False, False, False, False, False, False,\n",
      "                   False, False, False, False, False, False, False, False,\n",
      "                   False, False, False, False, False, False, False, False,\n",
      "                   False, False, False, False, False, False, False, False,\n",
      "                   False, False, False, False, False, False, False, False,\n",
      "                   False, False, False, False, False, False, False, False,\n",
      "                   False, False, False, False, False, False, False, False,\n",
      "                   False, False, False, False, False, False, False, False,\n",
      "                   False, False, False, False, False, False, False, False,\n",
      "                   False, False, False, False, False, False, False, False,\n",
      "                   False, False, False, False, False, False, False, False,\n",
      "                   False, False, False, False, False, False, False, False,\n",
      "                   False, False, False, False, False, False, False, False,\n",
      "                   False, False, False, False, False, False, False, False,\n",
      "                   False, False, False, False, False, False, False, False],\n",
      "       fill_value='?',\n",
      "            dtype=object), 'param_max_depth': masked_array(data=[1, 1, 1, 1, 2, 2, 2, 2, 3, 3, 3, 3, 4, 4, 4, 4, 5, 5,\n",
      "                   5, 5, 6, 6, 6, 6, 7, 7, 7, 7, 8, 8, 8, 8, 9, 9, 9, 9,\n",
      "                   10, 10, 10, 10, 11, 11, 11, 11, 12, 12, 12, 12, 13, 13,\n",
      "                   13, 13, 14, 14, 14, 14, 15, 15, 15, 15, 1, 1, 1, 1, 2,\n",
      "                   2, 2, 2, 3, 3, 3, 3, 4, 4, 4, 4, 5, 5, 5, 5, 6, 6, 6,\n",
      "                   6, 7, 7, 7, 7, 8, 8, 8, 8, 9, 9, 9, 9, 10, 10, 10, 10,\n",
      "                   11, 11, 11, 11, 12, 12, 12, 12, 13, 13, 13, 13, 14, 14,\n",
      "                   14, 14, 15, 15, 15, 15],\n",
      "             mask=[False, False, False, False, False, False, False, False,\n",
      "                   False, False, False, False, False, False, False, False,\n",
      "                   False, False, False, False, False, False, False, False,\n",
      "                   False, False, False, False, False, False, False, False,\n",
      "                   False, False, False, False, False, False, False, False,\n",
      "                   False, False, False, False, False, False, False, False,\n",
      "                   False, False, False, False, False, False, False, False,\n",
      "                   False, False, False, False, False, False, False, False,\n",
      "                   False, False, False, False, False, False, False, False,\n",
      "                   False, False, False, False, False, False, False, False,\n",
      "                   False, False, False, False, False, False, False, False,\n",
      "                   False, False, False, False, False, False, False, False,\n",
      "                   False, False, False, False, False, False, False, False,\n",
      "                   False, False, False, False, False, False, False, False,\n",
      "                   False, False, False, False, False, False, False, False],\n",
      "       fill_value='?',\n",
      "            dtype=object), 'param_min_samples_leaf': masked_array(data=[5, 10, 15, 20, 5, 10, 15, 20, 5, 10, 15, 20, 5, 10, 15,\n",
      "                   20, 5, 10, 15, 20, 5, 10, 15, 20, 5, 10, 15, 20, 5, 10,\n",
      "                   15, 20, 5, 10, 15, 20, 5, 10, 15, 20, 5, 10, 15, 20, 5,\n",
      "                   10, 15, 20, 5, 10, 15, 20, 5, 10, 15, 20, 5, 10, 15,\n",
      "                   20, 5, 10, 15, 20, 5, 10, 15, 20, 5, 10, 15, 20, 5, 10,\n",
      "                   15, 20, 5, 10, 15, 20, 5, 10, 15, 20, 5, 10, 15, 20, 5,\n",
      "                   10, 15, 20, 5, 10, 15, 20, 5, 10, 15, 20, 5, 10, 15,\n",
      "                   20, 5, 10, 15, 20, 5, 10, 15, 20, 5, 10, 15, 20, 5, 10,\n",
      "                   15, 20],\n",
      "             mask=[False, False, False, False, False, False, False, False,\n",
      "                   False, False, False, False, False, False, False, False,\n",
      "                   False, False, False, False, False, False, False, False,\n",
      "                   False, False, False, False, False, False, False, False,\n",
      "                   False, False, False, False, False, False, False, False,\n",
      "                   False, False, False, False, False, False, False, False,\n",
      "                   False, False, False, False, False, False, False, False,\n",
      "                   False, False, False, False, False, False, False, False,\n",
      "                   False, False, False, False, False, False, False, False,\n",
      "                   False, False, False, False, False, False, False, False,\n",
      "                   False, False, False, False, False, False, False, False,\n",
      "                   False, False, False, False, False, False, False, False,\n",
      "                   False, False, False, False, False, False, False, False,\n",
      "                   False, False, False, False, False, False, False, False,\n",
      "                   False, False, False, False, False, False, False, False],\n",
      "       fill_value='?',\n",
      "            dtype=object), 'params': [{'criterion': 'gini', 'max_depth': 1, 'min_samples_leaf': 5}, {'criterion': 'gini', 'max_depth': 1, 'min_samples_leaf': 10}, {'criterion': 'gini', 'max_depth': 1, 'min_samples_leaf': 15}, {'criterion': 'gini', 'max_depth': 1, 'min_samples_leaf': 20}, {'criterion': 'gini', 'max_depth': 2, 'min_samples_leaf': 5}, {'criterion': 'gini', 'max_depth': 2, 'min_samples_leaf': 10}, {'criterion': 'gini', 'max_depth': 2, 'min_samples_leaf': 15}, {'criterion': 'gini', 'max_depth': 2, 'min_samples_leaf': 20}, {'criterion': 'gini', 'max_depth': 3, 'min_samples_leaf': 5}, {'criterion': 'gini', 'max_depth': 3, 'min_samples_leaf': 10}, {'criterion': 'gini', 'max_depth': 3, 'min_samples_leaf': 15}, {'criterion': 'gini', 'max_depth': 3, 'min_samples_leaf': 20}, {'criterion': 'gini', 'max_depth': 4, 'min_samples_leaf': 5}, {'criterion': 'gini', 'max_depth': 4, 'min_samples_leaf': 10}, {'criterion': 'gini', 'max_depth': 4, 'min_samples_leaf': 15}, {'criterion': 'gini', 'max_depth': 4, 'min_samples_leaf': 20}, {'criterion': 'gini', 'max_depth': 5, 'min_samples_leaf': 5}, {'criterion': 'gini', 'max_depth': 5, 'min_samples_leaf': 10}, {'criterion': 'gini', 'max_depth': 5, 'min_samples_leaf': 15}, {'criterion': 'gini', 'max_depth': 5, 'min_samples_leaf': 20}, {'criterion': 'gini', 'max_depth': 6, 'min_samples_leaf': 5}, {'criterion': 'gini', 'max_depth': 6, 'min_samples_leaf': 10}, {'criterion': 'gini', 'max_depth': 6, 'min_samples_leaf': 15}, {'criterion': 'gini', 'max_depth': 6, 'min_samples_leaf': 20}, {'criterion': 'gini', 'max_depth': 7, 'min_samples_leaf': 5}, {'criterion': 'gini', 'max_depth': 7, 'min_samples_leaf': 10}, {'criterion': 'gini', 'max_depth': 7, 'min_samples_leaf': 15}, {'criterion': 'gini', 'max_depth': 7, 'min_samples_leaf': 20}, {'criterion': 'gini', 'max_depth': 8, 'min_samples_leaf': 5}, {'criterion': 'gini', 'max_depth': 8, 'min_samples_leaf': 10}, {'criterion': 'gini', 'max_depth': 8, 'min_samples_leaf': 15}, {'criterion': 'gini', 'max_depth': 8, 'min_samples_leaf': 20}, {'criterion': 'gini', 'max_depth': 9, 'min_samples_leaf': 5}, {'criterion': 'gini', 'max_depth': 9, 'min_samples_leaf': 10}, {'criterion': 'gini', 'max_depth': 9, 'min_samples_leaf': 15}, {'criterion': 'gini', 'max_depth': 9, 'min_samples_leaf': 20}, {'criterion': 'gini', 'max_depth': 10, 'min_samples_leaf': 5}, {'criterion': 'gini', 'max_depth': 10, 'min_samples_leaf': 10}, {'criterion': 'gini', 'max_depth': 10, 'min_samples_leaf': 15}, {'criterion': 'gini', 'max_depth': 10, 'min_samples_leaf': 20}, {'criterion': 'gini', 'max_depth': 11, 'min_samples_leaf': 5}, {'criterion': 'gini', 'max_depth': 11, 'min_samples_leaf': 10}, {'criterion': 'gini', 'max_depth': 11, 'min_samples_leaf': 15}, {'criterion': 'gini', 'max_depth': 11, 'min_samples_leaf': 20}, {'criterion': 'gini', 'max_depth': 12, 'min_samples_leaf': 5}, {'criterion': 'gini', 'max_depth': 12, 'min_samples_leaf': 10}, {'criterion': 'gini', 'max_depth': 12, 'min_samples_leaf': 15}, {'criterion': 'gini', 'max_depth': 12, 'min_samples_leaf': 20}, {'criterion': 'gini', 'max_depth': 13, 'min_samples_leaf': 5}, {'criterion': 'gini', 'max_depth': 13, 'min_samples_leaf': 10}, {'criterion': 'gini', 'max_depth': 13, 'min_samples_leaf': 15}, {'criterion': 'gini', 'max_depth': 13, 'min_samples_leaf': 20}, {'criterion': 'gini', 'max_depth': 14, 'min_samples_leaf': 5}, {'criterion': 'gini', 'max_depth': 14, 'min_samples_leaf': 10}, {'criterion': 'gini', 'max_depth': 14, 'min_samples_leaf': 15}, {'criterion': 'gini', 'max_depth': 14, 'min_samples_leaf': 20}, {'criterion': 'gini', 'max_depth': 15, 'min_samples_leaf': 5}, {'criterion': 'gini', 'max_depth': 15, 'min_samples_leaf': 10}, {'criterion': 'gini', 'max_depth': 15, 'min_samples_leaf': 15}, {'criterion': 'gini', 'max_depth': 15, 'min_samples_leaf': 20}, {'criterion': 'entropy', 'max_depth': 1, 'min_samples_leaf': 5}, {'criterion': 'entropy', 'max_depth': 1, 'min_samples_leaf': 10}, {'criterion': 'entropy', 'max_depth': 1, 'min_samples_leaf': 15}, {'criterion': 'entropy', 'max_depth': 1, 'min_samples_leaf': 20}, {'criterion': 'entropy', 'max_depth': 2, 'min_samples_leaf': 5}, {'criterion': 'entropy', 'max_depth': 2, 'min_samples_leaf': 10}, {'criterion': 'entropy', 'max_depth': 2, 'min_samples_leaf': 15}, {'criterion': 'entropy', 'max_depth': 2, 'min_samples_leaf': 20}, {'criterion': 'entropy', 'max_depth': 3, 'min_samples_leaf': 5}, {'criterion': 'entropy', 'max_depth': 3, 'min_samples_leaf': 10}, {'criterion': 'entropy', 'max_depth': 3, 'min_samples_leaf': 15}, {'criterion': 'entropy', 'max_depth': 3, 'min_samples_leaf': 20}, {'criterion': 'entropy', 'max_depth': 4, 'min_samples_leaf': 5}, {'criterion': 'entropy', 'max_depth': 4, 'min_samples_leaf': 10}, {'criterion': 'entropy', 'max_depth': 4, 'min_samples_leaf': 15}, {'criterion': 'entropy', 'max_depth': 4, 'min_samples_leaf': 20}, {'criterion': 'entropy', 'max_depth': 5, 'min_samples_leaf': 5}, {'criterion': 'entropy', 'max_depth': 5, 'min_samples_leaf': 10}, {'criterion': 'entropy', 'max_depth': 5, 'min_samples_leaf': 15}, {'criterion': 'entropy', 'max_depth': 5, 'min_samples_leaf': 20}, {'criterion': 'entropy', 'max_depth': 6, 'min_samples_leaf': 5}, {'criterion': 'entropy', 'max_depth': 6, 'min_samples_leaf': 10}, {'criterion': 'entropy', 'max_depth': 6, 'min_samples_leaf': 15}, {'criterion': 'entropy', 'max_depth': 6, 'min_samples_leaf': 20}, {'criterion': 'entropy', 'max_depth': 7, 'min_samples_leaf': 5}, {'criterion': 'entropy', 'max_depth': 7, 'min_samples_leaf': 10}, {'criterion': 'entropy', 'max_depth': 7, 'min_samples_leaf': 15}, {'criterion': 'entropy', 'max_depth': 7, 'min_samples_leaf': 20}, {'criterion': 'entropy', 'max_depth': 8, 'min_samples_leaf': 5}, {'criterion': 'entropy', 'max_depth': 8, 'min_samples_leaf': 10}, {'criterion': 'entropy', 'max_depth': 8, 'min_samples_leaf': 15}, {'criterion': 'entropy', 'max_depth': 8, 'min_samples_leaf': 20}, {'criterion': 'entropy', 'max_depth': 9, 'min_samples_leaf': 5}, {'criterion': 'entropy', 'max_depth': 9, 'min_samples_leaf': 10}, {'criterion': 'entropy', 'max_depth': 9, 'min_samples_leaf': 15}, {'criterion': 'entropy', 'max_depth': 9, 'min_samples_leaf': 20}, {'criterion': 'entropy', 'max_depth': 10, 'min_samples_leaf': 5}, {'criterion': 'entropy', 'max_depth': 10, 'min_samples_leaf': 10}, {'criterion': 'entropy', 'max_depth': 10, 'min_samples_leaf': 15}, {'criterion': 'entropy', 'max_depth': 10, 'min_samples_leaf': 20}, {'criterion': 'entropy', 'max_depth': 11, 'min_samples_leaf': 5}, {'criterion': 'entropy', 'max_depth': 11, 'min_samples_leaf': 10}, {'criterion': 'entropy', 'max_depth': 11, 'min_samples_leaf': 15}, {'criterion': 'entropy', 'max_depth': 11, 'min_samples_leaf': 20}, {'criterion': 'entropy', 'max_depth': 12, 'min_samples_leaf': 5}, {'criterion': 'entropy', 'max_depth': 12, 'min_samples_leaf': 10}, {'criterion': 'entropy', 'max_depth': 12, 'min_samples_leaf': 15}, {'criterion': 'entropy', 'max_depth': 12, 'min_samples_leaf': 20}, {'criterion': 'entropy', 'max_depth': 13, 'min_samples_leaf': 5}, {'criterion': 'entropy', 'max_depth': 13, 'min_samples_leaf': 10}, {'criterion': 'entropy', 'max_depth': 13, 'min_samples_leaf': 15}, {'criterion': 'entropy', 'max_depth': 13, 'min_samples_leaf': 20}, {'criterion': 'entropy', 'max_depth': 14, 'min_samples_leaf': 5}, {'criterion': 'entropy', 'max_depth': 14, 'min_samples_leaf': 10}, {'criterion': 'entropy', 'max_depth': 14, 'min_samples_leaf': 15}, {'criterion': 'entropy', 'max_depth': 14, 'min_samples_leaf': 20}, {'criterion': 'entropy', 'max_depth': 15, 'min_samples_leaf': 5}, {'criterion': 'entropy', 'max_depth': 15, 'min_samples_leaf': 10}, {'criterion': 'entropy', 'max_depth': 15, 'min_samples_leaf': 15}, {'criterion': 'entropy', 'max_depth': 15, 'min_samples_leaf': 20}], 'split0_test_score': array([0.61428571, 0.61428571, 0.61428571, 0.61428571, 0.62      ,\n",
      "       0.62      , 0.62      , 0.62      , 0.605     , 0.605     ,\n",
      "       0.605     , 0.605     , 0.60642857, 0.60642857, 0.60642857,\n",
      "       0.60642857, 0.62      , 0.62      , 0.62      , 0.61785714,\n",
      "       0.63571429, 0.635     , 0.635     , 0.63142857, 0.62571429,\n",
      "       0.61428571, 0.61571429, 0.61214286, 0.61857143, 0.62285714,\n",
      "       0.62142857, 0.61      , 0.61357143, 0.60642857, 0.605     ,\n",
      "       0.60357143, 0.61642857, 0.59      , 0.59928571, 0.59785714,\n",
      "       0.60214286, 0.58428571, 0.59357143, 0.60785714, 0.58714286,\n",
      "       0.57714286, 0.59142857, 0.59071429, 0.59      , 0.57357143,\n",
      "       0.58857143, 0.59      , 0.585     , 0.58857143, 0.58857143,\n",
      "       0.59142857, 0.59428571, 0.58      , 0.58214286, 0.58357143,\n",
      "       0.61428571, 0.61428571, 0.61428571, 0.61428571, 0.62      ,\n",
      "       0.62      , 0.62      , 0.62      , 0.62      , 0.62      ,\n",
      "       0.62      , 0.62      , 0.60928571, 0.60928571, 0.60928571,\n",
      "       0.60928571, 0.61357143, 0.61357143, 0.61357143, 0.61142857,\n",
      "       0.635     , 0.635     , 0.635     , 0.63071429, 0.625     ,\n",
      "       0.62214286, 0.62214286, 0.62071429, 0.62571429, 0.62357143,\n",
      "       0.61928571, 0.60642857, 0.61857143, 0.61142857, 0.60928571,\n",
      "       0.61285714, 0.62      , 0.60785714, 0.605     , 0.60142857,\n",
      "       0.60642857, 0.59571429, 0.60285714, 0.61285714, 0.59142857,\n",
      "       0.59857143, 0.60642857, 0.60214286, 0.59      , 0.57928571,\n",
      "       0.59357143, 0.59857143, 0.585     , 0.59714286, 0.59      ,\n",
      "       0.59714286, 0.59785714, 0.59928571, 0.58357143, 0.58857143]), 'split1_test_score': array([0.605     , 0.605     , 0.605     , 0.605     , 0.61428571,\n",
      "       0.61428571, 0.61428571, 0.61428571, 0.61428571, 0.61428571,\n",
      "       0.61428571, 0.61428571, 0.62357143, 0.62357143, 0.62357143,\n",
      "       0.62142857, 0.62571429, 0.62571429, 0.62571429, 0.62357143,\n",
      "       0.62571429, 0.625     , 0.62428571, 0.61928571, 0.63857143,\n",
      "       0.63642857, 0.63642857, 0.62428571, 0.64214286, 0.64214286,\n",
      "       0.64071429, 0.62928571, 0.62071429, 0.62714286, 0.62142857,\n",
      "       0.61357143, 0.625     , 0.62642857, 0.63214286, 0.62214286,\n",
      "       0.63357143, 0.635     , 0.63785714, 0.62714286, 0.62142857,\n",
      "       0.61214286, 0.62642857, 0.62285714, 0.61285714, 0.61642857,\n",
      "       0.63071429, 0.61571429, 0.59142857, 0.60785714, 0.62142857,\n",
      "       0.61      , 0.59642857, 0.60428571, 0.62142857, 0.60785714,\n",
      "       0.605     , 0.605     , 0.605     , 0.605     , 0.61428571,\n",
      "       0.61428571, 0.61428571, 0.61428571, 0.61428571, 0.61428571,\n",
      "       0.61428571, 0.61428571, 0.62142857, 0.62142857, 0.62142857,\n",
      "       0.62142857, 0.62785714, 0.62571429, 0.62571429, 0.62357143,\n",
      "       0.62642857, 0.625     , 0.62428571, 0.61928571, 0.63357143,\n",
      "       0.63214286, 0.63285714, 0.62214286, 0.64214286, 0.64285714,\n",
      "       0.63928571, 0.62857143, 0.62714286, 0.62928571, 0.62785714,\n",
      "       0.61785714, 0.62928571, 0.63285714, 0.63714286, 0.625     ,\n",
      "       0.64142857, 0.64285714, 0.63857143, 0.62214286, 0.63142857,\n",
      "       0.62357143, 0.62642857, 0.62214286, 0.61285714, 0.61214286,\n",
      "       0.625     , 0.61285714, 0.60642857, 0.59928571, 0.61571429,\n",
      "       0.60357143, 0.60142857, 0.59      , 0.61357143, 0.60571429]), 'split2_test_score': array([0.63071429, 0.63071429, 0.63071429, 0.63071429, 0.63857143,\n",
      "       0.63857143, 0.63857143, 0.63857143, 0.63857143, 0.63857143,\n",
      "       0.63857143, 0.63857143, 0.64      , 0.64      , 0.64      ,\n",
      "       0.63857143, 0.64714286, 0.64714286, 0.64714286, 0.64357143,\n",
      "       0.65357143, 0.65357143, 0.65      , 0.62428571, 0.65214286,\n",
      "       0.65142857, 0.625     , 0.62214286, 0.60928571, 0.61214286,\n",
      "       0.61785714, 0.64571429, 0.61785714, 0.635     , 0.65071429,\n",
      "       0.625     , 0.62857143, 0.635     , 0.63785714, 0.63      ,\n",
      "       0.62285714, 0.62357143, 0.625     , 0.62857143, 0.61928571,\n",
      "       0.62285714, 0.625     , 0.62071429, 0.615     , 0.61857143,\n",
      "       0.62357143, 0.61285714, 0.61285714, 0.61714286, 0.61714286,\n",
      "       0.62357143, 0.615     , 0.60714286, 0.61      , 0.62071429,\n",
      "       0.63071429, 0.63071429, 0.63071429, 0.63071429, 0.63857143,\n",
      "       0.63857143, 0.63857143, 0.63857143, 0.63857143, 0.63857143,\n",
      "       0.63857143, 0.63857143, 0.63857143, 0.63857143, 0.63857143,\n",
      "       0.63857143, 0.64714286, 0.64714286, 0.64714286, 0.64357143,\n",
      "       0.64714286, 0.65285714, 0.64928571, 0.64642857, 0.64928571,\n",
      "       0.65214286, 0.625     , 0.62142857, 0.61285714, 0.61357143,\n",
      "       0.61428571, 0.64071429, 0.61785714, 0.61714286, 0.645     ,\n",
      "       0.62928571, 0.63285714, 0.65      , 0.63      , 0.625     ,\n",
      "       0.62857143, 0.62642857, 0.61642857, 0.61      , 0.63      ,\n",
      "       0.625     , 0.62071429, 0.61428571, 0.62214286, 0.62285714,\n",
      "       0.61714286, 0.61642857, 0.60714286, 0.61642857, 0.60571429,\n",
      "       0.61571429, 0.61857143, 0.61785714, 0.60428571, 0.61285714]), 'split3_test_score': array([0.61      , 0.61      , 0.61      , 0.61      , 0.62214286,\n",
      "       0.62214286, 0.62214286, 0.62214286, 0.62214286, 0.62214286,\n",
      "       0.62214286, 0.62214286, 0.62142857, 0.62142857, 0.62142857,\n",
      "       0.62142857, 0.62857143, 0.62928571, 0.62928571, 0.62928571,\n",
      "       0.62857143, 0.62928571, 0.62928571, 0.62928571, 0.62571429,\n",
      "       0.61928571, 0.62      , 0.62214286, 0.625     , 0.62071429,\n",
      "       0.62142857, 0.62071429, 0.62      , 0.61214286, 0.60785714,\n",
      "       0.60357143, 0.62071429, 0.61285714, 0.60785714, 0.60714286,\n",
      "       0.62      , 0.61642857, 0.61357143, 0.61928571, 0.63214286,\n",
      "       0.62857143, 0.61428571, 0.62214286, 0.63642857, 0.62357143,\n",
      "       0.60785714, 0.61357143, 0.61571429, 0.61571429, 0.60714286,\n",
      "       0.59714286, 0.61      , 0.61571429, 0.60071429, 0.60071429,\n",
      "       0.61      , 0.61      , 0.61      , 0.61      , 0.62214286,\n",
      "       0.62214286, 0.62214286, 0.62214286, 0.62214286, 0.62214286,\n",
      "       0.62214286, 0.62214286, 0.62142857, 0.62142857, 0.62142857,\n",
      "       0.62142857, 0.62785714, 0.62857143, 0.62857143, 0.62928571,\n",
      "       0.62928571, 0.63      , 0.63071429, 0.63071429, 0.62571429,\n",
      "       0.62214286, 0.62      , 0.62214286, 0.63      , 0.62571429,\n",
      "       0.62357143, 0.62      , 0.62071429, 0.62142857, 0.62142857,\n",
      "       0.60857143, 0.62      , 0.625     , 0.62142857, 0.61785714,\n",
      "       0.60928571, 0.61357143, 0.61357143, 0.61642857, 0.62071429,\n",
      "       0.62142857, 0.60642857, 0.605     , 0.62142857, 0.62571429,\n",
      "       0.61142857, 0.60285714, 0.61928571, 0.62571429, 0.61214286,\n",
      "       0.59642857, 0.62857143, 0.62142857, 0.61428571, 0.58857143]), 'split4_test_score': array([0.62785714, 0.62785714, 0.62785714, 0.62785714, 0.63714286,\n",
      "       0.63714286, 0.63714286, 0.63714286, 0.63714286, 0.63714286,\n",
      "       0.63714286, 0.63714286, 0.60714286, 0.60714286, 0.60714286,\n",
      "       0.60642857, 0.625     , 0.625     , 0.625     , 0.62428571,\n",
      "       0.63428571, 0.63428571, 0.63428571, 0.63428571, 0.63214286,\n",
      "       0.63571429, 0.63214286, 0.63071429, 0.63857143, 0.64      ,\n",
      "       0.63714286, 0.63357143, 0.63857143, 0.63428571, 0.62428571,\n",
      "       0.63071429, 0.62357143, 0.61214286, 0.61428571, 0.61571429,\n",
      "       0.61928571, 0.61785714, 0.60785714, 0.60428571, 0.61571429,\n",
      "       0.61428571, 0.59928571, 0.58785714, 0.60285714, 0.60285714,\n",
      "       0.59714286, 0.58142857, 0.61714286, 0.59285714, 0.59      ,\n",
      "       0.57857143, 0.595     , 0.59428571, 0.59142857, 0.57857143,\n",
      "       0.62785714, 0.62785714, 0.62785714, 0.62785714, 0.63714286,\n",
      "       0.63714286, 0.63714286, 0.63714286, 0.63714286, 0.63714286,\n",
      "       0.63714286, 0.63714286, 0.61714286, 0.61714286, 0.61714286,\n",
      "       0.61642857, 0.62928571, 0.62928571, 0.62928571, 0.62857143,\n",
      "       0.63      , 0.63      , 0.63      , 0.62928571, 0.63214286,\n",
      "       0.63071429, 0.62714286, 0.62571429, 0.63714286, 0.63642857,\n",
      "       0.63214286, 0.63071429, 0.63142857, 0.63      , 0.62428571,\n",
      "       0.63214286, 0.62857143, 0.61571429, 0.62571429, 0.62214286,\n",
      "       0.62785714, 0.62714286, 0.61428571, 0.61428571, 0.615     ,\n",
      "       0.61714286, 0.60142857, 0.59857143, 0.63285714, 0.62214286,\n",
      "       0.60642857, 0.58785714, 0.63642857, 0.61642857, 0.59785714,\n",
      "       0.59642857, 0.61214286, 0.60428571, 0.59642857, 0.59785714]), 'split5_test_score': array([0.60571429, 0.60571429, 0.60571429, 0.60571429, 0.61      ,\n",
      "       0.61      , 0.61      , 0.61      , 0.61      , 0.61      ,\n",
      "       0.61      , 0.61      , 0.61214286, 0.61214286, 0.61214286,\n",
      "       0.61      , 0.61357143, 0.61357143, 0.61357143, 0.61142857,\n",
      "       0.625     , 0.625     , 0.62428571, 0.62      , 0.62428571,\n",
      "       0.62428571, 0.62214286, 0.62      , 0.61      , 0.61285714,\n",
      "       0.61142857, 0.61285714, 0.61714286, 0.61142857, 0.615     ,\n",
      "       0.61714286, 0.61785714, 0.61357143, 0.60571429, 0.61285714,\n",
      "       0.61071429, 0.60428571, 0.60285714, 0.61      , 0.60857143,\n",
      "       0.60571429, 0.60357143, 0.60357143, 0.60428571, 0.59928571,\n",
      "       0.60357143, 0.60928571, 0.60571429, 0.60285714, 0.59428571,\n",
      "       0.61      , 0.60642857, 0.59857143, 0.58714286, 0.59571429,\n",
      "       0.60571429, 0.60571429, 0.60571429, 0.60571429, 0.61      ,\n",
      "       0.61      , 0.61      , 0.61      , 0.61      , 0.61      ,\n",
      "       0.61      , 0.61      , 0.61142857, 0.61142857, 0.61142857,\n",
      "       0.61142857, 0.60857143, 0.60857143, 0.60857143, 0.60642857,\n",
      "       0.62285714, 0.62142857, 0.62071429, 0.61857143, 0.62214286,\n",
      "       0.625     , 0.62428571, 0.62214286, 0.61214286, 0.61571429,\n",
      "       0.61357143, 0.61      , 0.61857143, 0.61714286, 0.61928571,\n",
      "       0.615     , 0.61857143, 0.61428571, 0.61142857, 0.60857143,\n",
      "       0.61857143, 0.62142857, 0.61357143, 0.62428571, 0.61642857,\n",
      "       0.61357143, 0.61785714, 0.62142857, 0.61642857, 0.61642857,\n",
      "       0.59642857, 0.6       , 0.60785714, 0.605     , 0.595     ,\n",
      "       0.595     , 0.61642857, 0.605     , 0.57571429, 0.59071429]), 'split6_test_score': array([0.61785714, 0.61785714, 0.61785714, 0.61785714, 0.62428571,\n",
      "       0.62428571, 0.62428571, 0.62428571, 0.62428571, 0.62428571,\n",
      "       0.62428571, 0.62428571, 0.61785714, 0.61785714, 0.61785714,\n",
      "       0.61785714, 0.62214286, 0.62214286, 0.62214286, 0.62071429,\n",
      "       0.61428571, 0.61571429, 0.61357143, 0.61571429, 0.62428571,\n",
      "       0.62214286, 0.62142857, 0.61928571, 0.615     , 0.62      ,\n",
      "       0.61428571, 0.61285714, 0.62071429, 0.61785714, 0.61214286,\n",
      "       0.61357143, 0.61714286, 0.61285714, 0.61428571, 0.60857143,\n",
      "       0.61428571, 0.60714286, 0.60785714, 0.58785714, 0.60785714,\n",
      "       0.61928571, 0.60142857, 0.58071429, 0.60357143, 0.60285714,\n",
      "       0.595     , 0.57214286, 0.605     , 0.6       , 0.59357143,\n",
      "       0.57071429, 0.59214286, 0.60714286, 0.58714286, 0.57642857,\n",
      "       0.61785714, 0.61785714, 0.61785714, 0.61785714, 0.62428571,\n",
      "       0.62428571, 0.62428571, 0.62428571, 0.62428571, 0.62428571,\n",
      "       0.62428571, 0.62428571, 0.61785714, 0.61785714, 0.61785714,\n",
      "       0.61785714, 0.62357143, 0.62214286, 0.62214286, 0.62071429,\n",
      "       0.61357143, 0.61428571, 0.61357143, 0.61214286, 0.625     ,\n",
      "       0.63214286, 0.62785714, 0.61857143, 0.61857143, 0.61642857,\n",
      "       0.61642857, 0.60928571, 0.61642857, 0.62357143, 0.61785714,\n",
      "       0.61214286, 0.61357143, 0.61285714, 0.61142857, 0.60857143,\n",
      "       0.61642857, 0.61357143, 0.60428571, 0.60357143, 0.61142857,\n",
      "       0.62714286, 0.60428571, 0.59642857, 0.59214286, 0.61357143,\n",
      "       0.59785714, 0.59      , 0.59214286, 0.61      , 0.58642857,\n",
      "       0.57857143, 0.58357143, 0.59071429, 0.58571429, 0.58357143]), 'split7_test_score': array([0.62857143, 0.62857143, 0.62857143, 0.62857143, 0.63714286,\n",
      "       0.63714286, 0.63714286, 0.63714286, 0.63714286, 0.63714286,\n",
      "       0.63714286, 0.63714286, 0.63785714, 0.63785714, 0.63785714,\n",
      "       0.63785714, 0.635     , 0.635     , 0.635     , 0.635     ,\n",
      "       0.63785714, 0.63785714, 0.63785714, 0.63785714, 0.62428571,\n",
      "       0.62857143, 0.62571429, 0.625     , 0.62      , 0.62214286,\n",
      "       0.625     , 0.62714286, 0.61642857, 0.62071429, 0.61428571,\n",
      "       0.61714286, 0.61142857, 0.61928571, 0.60357143, 0.61714286,\n",
      "       0.61928571, 0.61714286, 0.60928571, 0.62285714, 0.61      ,\n",
      "       0.61428571, 0.60571429, 0.61642857, 0.61071429, 0.60928571,\n",
      "       0.60571429, 0.62714286, 0.60357143, 0.60357143, 0.60642857,\n",
      "       0.61428571, 0.595     , 0.59642857, 0.61071429, 0.62571429,\n",
      "       0.62857143, 0.62857143, 0.62857143, 0.62857143, 0.63714286,\n",
      "       0.63714286, 0.63714286, 0.63714286, 0.63714286, 0.63714286,\n",
      "       0.63714286, 0.63714286, 0.63785714, 0.63785714, 0.63785714,\n",
      "       0.63785714, 0.64285714, 0.64285714, 0.64285714, 0.64285714,\n",
      "       0.64142857, 0.64142857, 0.64214286, 0.64214286, 0.62357143,\n",
      "       0.62642857, 0.63142857, 0.63142857, 0.62714286, 0.63285714,\n",
      "       0.63571429, 0.63428571, 0.62857143, 0.62285714, 0.61714286,\n",
      "       0.61571429, 0.61785714, 0.61714286, 0.61714286, 0.61857143,\n",
      "       0.60642857, 0.60571429, 0.61928571, 0.62214286, 0.605     ,\n",
      "       0.60714286, 0.61714286, 0.61928571, 0.60428571, 0.60428571,\n",
      "       0.61285714, 0.615     , 0.59142857, 0.59      , 0.61428571,\n",
      "       0.61857143, 0.60071429, 0.60642857, 0.61357143, 0.62214286]), 'split8_test_score': array([0.61428571, 0.61428571, 0.61428571, 0.61428571, 0.62285714,\n",
      "       0.62285714, 0.62285714, 0.62285714, 0.62285714, 0.62285714,\n",
      "       0.62285714, 0.62285714, 0.64142857, 0.64142857, 0.64142857,\n",
      "       0.63928571, 0.64428571, 0.64428571, 0.64428571, 0.64214286,\n",
      "       0.65285714, 0.65285714, 0.65357143, 0.64928571, 0.645     ,\n",
      "       0.64428571, 0.64785714, 0.64714286, 0.64571429, 0.64071429,\n",
      "       0.64142857, 0.63571429, 0.63785714, 0.63357143, 0.63428571,\n",
      "       0.63642857, 0.63142857, 0.62214286, 0.63285714, 0.62857143,\n",
      "       0.62714286, 0.61785714, 0.62714286, 0.63428571, 0.62428571,\n",
      "       0.61285714, 0.62214286, 0.61928571, 0.62214286, 0.615     ,\n",
      "       0.60857143, 0.62214286, 0.61928571, 0.61785714, 0.61285714,\n",
      "       0.62214286, 0.6       , 0.61      , 0.60857143, 0.61928571,\n",
      "       0.61428571, 0.61428571, 0.61428571, 0.61428571, 0.62285714,\n",
      "       0.62285714, 0.62285714, 0.62285714, 0.62285714, 0.62285714,\n",
      "       0.62285714, 0.62285714, 0.63428571, 0.63428571, 0.63428571,\n",
      "       0.63428571, 0.63285714, 0.63285714, 0.63714286, 0.63571429,\n",
      "       0.64357143, 0.64357143, 0.64357143, 0.64214286, 0.63571429,\n",
      "       0.63714286, 0.65142857, 0.65142857, 0.65142857, 0.65214286,\n",
      "       0.64714286, 0.64571429, 0.64714286, 0.64571429, 0.64      ,\n",
      "       0.64      , 0.64142857, 0.63714286, 0.63357143, 0.63714286,\n",
      "       0.63785714, 0.625     , 0.63071429, 0.63571429, 0.63      ,\n",
      "       0.62928571, 0.62714286, 0.62785714, 0.63285714, 0.62642857,\n",
      "       0.61642857, 0.63714286, 0.62857143, 0.61928571, 0.62142857,\n",
      "       0.62928571, 0.61214286, 0.60571429, 0.61214286, 0.63642857]), 'split9_test_score': array([0.62142857, 0.62142857, 0.62142857, 0.62142857, 0.63071429,\n",
      "       0.63071429, 0.63071429, 0.63071429, 0.62357143, 0.62357143,\n",
      "       0.62357143, 0.62357143, 0.63      , 0.63      , 0.63      ,\n",
      "       0.63      , 0.63857143, 0.64357143, 0.64357143, 0.64357143,\n",
      "       0.63642857, 0.63571429, 0.63571429, 0.63857143, 0.64214286,\n",
      "       0.64642857, 0.64571429, 0.64571429, 0.63357143, 0.63214286,\n",
      "       0.63142857, 0.63428571, 0.635     , 0.63285714, 0.635     ,\n",
      "       0.63357143, 0.63214286, 0.635     , 0.63857143, 0.63285714,\n",
      "       0.63142857, 0.61928571, 0.61285714, 0.61857143, 0.62285714,\n",
      "       0.60571429, 0.61142857, 0.61642857, 0.61357143, 0.60428571,\n",
      "       0.60928571, 0.61      , 0.61071429, 0.59642857, 0.60357143,\n",
      "       0.60071429, 0.60357143, 0.58857143, 0.59928571, 0.60071429,\n",
      "       0.62142857, 0.62142857, 0.62142857, 0.62142857, 0.63071429,\n",
      "       0.63071429, 0.63071429, 0.63071429, 0.62357143, 0.62357143,\n",
      "       0.62357143, 0.62357143, 0.62928571, 0.62928571, 0.62928571,\n",
      "       0.62928571, 0.63857143, 0.64357143, 0.64357143, 0.64285714,\n",
      "       0.63357143, 0.63571429, 0.63571429, 0.63714286, 0.63214286,\n",
      "       0.64285714, 0.63857143, 0.64571429, 0.63142857, 0.63428571,\n",
      "       0.63071429, 0.63142857, 0.63642857, 0.63571429, 0.63285714,\n",
      "       0.635     , 0.63714286, 0.64357143, 0.63214286, 0.63142857,\n",
      "       0.63      , 0.63142857, 0.61928571, 0.62857143, 0.62642857,\n",
      "       0.61285714, 0.60928571, 0.62142857, 0.61785714, 0.61428571,\n",
      "       0.61857143, 0.62357143, 0.61928571, 0.61142857, 0.60214286,\n",
      "       0.61428571, 0.61285714, 0.60071429, 0.59714286, 0.615     ]), 'mean_test_score': array([0.61757143, 0.61757143, 0.61757143, 0.61757143, 0.62571429,\n",
      "       0.62571429, 0.62571429, 0.62571429, 0.6235    , 0.6235    ,\n",
      "       0.6235    , 0.6235    , 0.62378571, 0.62378571, 0.62378571,\n",
      "       0.62292857, 0.63      , 0.63057143, 0.63057143, 0.62914286,\n",
      "       0.63442857, 0.63442857, 0.63378571, 0.63      , 0.63342857,\n",
      "       0.63228571, 0.62921429, 0.62685714, 0.62578571, 0.62657143,\n",
      "       0.62621429, 0.62621429, 0.62378571, 0.62314286, 0.622     ,\n",
      "       0.61942857, 0.62242857, 0.61792857, 0.61864286, 0.61728571,\n",
      "       0.62007143, 0.61428571, 0.61378571, 0.61607143, 0.61492857,\n",
      "       0.61128571, 0.61007143, 0.60807143, 0.61114286, 0.60657143,\n",
      "       0.607     , 0.60542857, 0.60664286, 0.60428571, 0.6035    ,\n",
      "       0.60185714, 0.60078571, 0.60021429, 0.59985714, 0.60092857,\n",
      "       0.61757143, 0.61757143, 0.61757143, 0.61757143, 0.62571429,\n",
      "       0.62571429, 0.62571429, 0.62571429, 0.625     , 0.625     ,\n",
      "       0.625     , 0.625     , 0.62385714, 0.62385714, 0.62385714,\n",
      "       0.62378571, 0.62921429, 0.62942857, 0.62985714, 0.6285    ,\n",
      "       0.63228571, 0.63292857, 0.6325    , 0.63085714, 0.63042857,\n",
      "       0.63228571, 0.63007143, 0.62814286, 0.62885714, 0.62935714,\n",
      "       0.62721429, 0.62571429, 0.62628571, 0.62542857, 0.6255    ,\n",
      "       0.62185714, 0.62592857, 0.62564286, 0.6225    , 0.61957143,\n",
      "       0.62228571, 0.62028571, 0.61728571, 0.619     , 0.61778571,\n",
      "       0.61757143, 0.61371429, 0.61285714, 0.61428571, 0.61371429,\n",
      "       0.60957143, 0.60842857, 0.60935714, 0.60907143, 0.60407143,\n",
      "       0.6045    , 0.60842857, 0.60414286, 0.59964286, 0.60414286]), 'std_test_score': array([0.00889967, 0.00889967, 0.00889967, 0.00889967, 0.00940582,\n",
      "       0.00940582, 0.00940582, 0.00940582, 0.01100765, 0.01100765,\n",
      "       0.01100765, 0.01100765, 0.01251142, 0.01251142, 0.01251142,\n",
      "       0.01235714, 0.01036084, 0.01085996, 0.01085996, 0.0108928 ,\n",
      "       0.01152548, 0.01128843, 0.01133916, 0.00989743, 0.00978754,\n",
      "       0.01188723, 0.01043175, 0.01075801, 0.01269923, 0.01077507,\n",
      "       0.01032656, 0.01118057, 0.00901841, 0.01027281, 0.01358195,\n",
      "       0.01108778, 0.00655588, 0.01248448, 0.01440114, 0.01064645,\n",
      "       0.00901501, 0.01276555, 0.01226015, 0.01308625, 0.01181252,\n",
      "       0.01321255, 0.01120518, 0.01523305, 0.01185026, 0.01335466,\n",
      "       0.0119983 , 0.01713452, 0.01058517, 0.00976249, 0.01097981,\n",
      "       0.01677644, 0.00728046, 0.01022227, 0.0121294 , 0.01679118,\n",
      "       0.00889967, 0.00889967, 0.00889967, 0.00889967, 0.00940582,\n",
      "       0.00940582, 0.00940582, 0.00940582, 0.00926922, 0.00926922,\n",
      "       0.00926922, 0.00926922, 0.01005191, 0.01005191, 0.01005191,\n",
      "       0.01010178, 0.01146623, 0.01208305, 0.01227159, 0.01247221,\n",
      "       0.00963518, 0.01074496, 0.01043077, 0.01083645, 0.0077209 ,\n",
      "       0.00908464, 0.00880312, 0.01080533, 0.01190181, 0.0119883 ,\n",
      "       0.01094257, 0.01298351, 0.00942641, 0.00955222, 0.0104786 ,\n",
      "       0.01056177, 0.0088008 , 0.01370777, 0.01038174, 0.01044031,\n",
      "       0.01207882, 0.01283808, 0.01027579, 0.0089682 , 0.01214895,\n",
      "       0.00918184, 0.0088629 , 0.01073332, 0.01414935, 0.01320869,\n",
      "       0.01006712, 0.0146378 , 0.0158933 , 0.01055621, 0.01114858,\n",
      "       0.01407723, 0.0120746 , 0.00954474, 0.01349698, 0.01640309]), 'rank_test_score': array([ 77,  77,  77,  77,  34,  34,  34,  34,  58,  58,  58,  58,  53,\n",
      "        53,  53,  63,  15,  11,  11,  22,   1,   1,   3,  15,   4,   7,\n",
      "        20,  27,  33,  28,  31,  30,  53,  62,  67,  72,  65,  75,  74,\n",
      "        87,  70,  90,  92,  88,  89,  96,  98, 104,  97, 107, 105, 108,\n",
      "       106, 110, 114, 115, 117, 118, 119, 116,  77,  77,  77,  77,  34,\n",
      "        34,  34,  34,  46,  46,  46,  46,  50,  50,  50,  53,  21,  18,\n",
      "        17,  24,   7,   5,   6,  10,  13,   7,  14,  25,  23,  19,  26,\n",
      "        34,  29,  45,  44,  68,  32,  43,  64,  71,  66,  69,  86,  73,\n",
      "        76,  77,  93,  95,  91,  93,  99, 103, 100, 101, 113, 109, 102,\n",
      "       111, 120, 111]), 'split0_train_score': array([0.61793651, 0.61793651, 0.61793651, 0.61793651, 0.62634921,\n",
      "       0.62634921, 0.62634921, 0.62634921, 0.63055556, 0.63055556,\n",
      "       0.63055556, 0.63055556, 0.63507937, 0.63507937, 0.63507937,\n",
      "       0.63507937, 0.64301587, 0.64301587, 0.64293651, 0.6418254 ,\n",
      "       0.65063492, 0.64904762, 0.64896825, 0.6484127 , 0.6597619 ,\n",
      "       0.65761905, 0.65769841, 0.65642857, 0.66634921, 0.66428571,\n",
      "       0.66373016, 0.66230159, 0.68166667, 0.67722222, 0.67325397,\n",
      "       0.67261905, 0.69269841, 0.68920635, 0.68373016, 0.6797619 ,\n",
      "       0.7047619 , 0.70071429, 0.69126984, 0.6868254 , 0.71928571,\n",
      "       0.70849206, 0.69960317, 0.6931746 , 0.73214286, 0.71833333,\n",
      "       0.70634921, 0.69730159, 0.74634921, 0.72603175, 0.71071429,\n",
      "       0.70365079, 0.75928571, 0.73428571, 0.71595238, 0.70603175,\n",
      "       0.61793651, 0.61793651, 0.61793651, 0.61793651, 0.62634921,\n",
      "       0.62634921, 0.62634921, 0.62634921, 0.62634921, 0.62634921,\n",
      "       0.62634921, 0.62634921, 0.63230159, 0.63230159, 0.63230159,\n",
      "       0.63230159, 0.64071429, 0.64071429, 0.64071429, 0.63960317,\n",
      "       0.64865079, 0.6481746 , 0.64809524, 0.64777778, 0.65587302,\n",
      "       0.65555556, 0.65531746, 0.65420635, 0.66230159, 0.66039683,\n",
      "       0.66087302, 0.66007937, 0.67404762, 0.67404762, 0.67190476,\n",
      "       0.67119048, 0.68468254, 0.68388889, 0.68119048, 0.67880952,\n",
      "       0.6984127 , 0.69404762, 0.68603175, 0.68531746, 0.71055556,\n",
      "       0.70166667, 0.69515873, 0.69301587, 0.72134921, 0.71238095,\n",
      "       0.70380952, 0.69690476, 0.73309524, 0.72119048, 0.70849206,\n",
      "       0.70246032, 0.74888889, 0.73293651, 0.71452381, 0.70579365]), 'split1_train_score': array([0.61896825, 0.61896825, 0.61896825, 0.61896825, 0.62698413,\n",
      "       0.62698413, 0.62698413, 0.62698413, 0.62698413, 0.62698413,\n",
      "       0.62698413, 0.62698413, 0.63460317, 0.63460317, 0.63460317,\n",
      "       0.63333333, 0.63968254, 0.63968254, 0.63968254, 0.6384127 ,\n",
      "       0.6434127 , 0.64357143, 0.64333333, 0.64206349, 0.65039683,\n",
      "       0.65007937, 0.64928571, 0.64801587, 0.6581746 , 0.65642857,\n",
      "       0.65587302, 0.65349206, 0.66706349, 0.66380952, 0.66301587,\n",
      "       0.66111111, 0.67960317, 0.67436508, 0.67230159, 0.67111111,\n",
      "       0.69126984, 0.68595238, 0.67920635, 0.67452381, 0.70333333,\n",
      "       0.69380952, 0.68833333, 0.68119048, 0.7152381 , 0.70380952,\n",
      "       0.69539683, 0.68801587, 0.73357143, 0.71436508, 0.70166667,\n",
      "       0.69206349, 0.74420635, 0.72388889, 0.7102381 , 0.69825397,\n",
      "       0.61896825, 0.61896825, 0.61896825, 0.61896825, 0.62698413,\n",
      "       0.62698413, 0.62698413, 0.62698413, 0.62698413, 0.62698413,\n",
      "       0.62698413, 0.62698413, 0.63333333, 0.63333333, 0.63333333,\n",
      "       0.63333333, 0.63984127, 0.63952381, 0.63952381, 0.6384127 ,\n",
      "       0.64269841, 0.6434127 , 0.6431746 , 0.64206349, 0.65079365,\n",
      "       0.64992063, 0.64912698, 0.64706349, 0.65730159, 0.65603175,\n",
      "       0.65515873, 0.65412698, 0.66611111, 0.66404762, 0.66492063,\n",
      "       0.66285714, 0.6765873 , 0.67222222, 0.67269841, 0.66968254,\n",
      "       0.68952381, 0.68492063, 0.6815873 , 0.67634921, 0.70150794,\n",
      "       0.6968254 , 0.69198413, 0.68452381, 0.71587302, 0.70571429,\n",
      "       0.69809524, 0.69111111, 0.72865079, 0.71396825, 0.70436508,\n",
      "       0.69738095, 0.74174603, 0.72603175, 0.71277778, 0.70373016]), 'split2_train_score': array([0.61611111, 0.61611111, 0.61611111, 0.61611111, 0.62428571,\n",
      "       0.62428571, 0.62428571, 0.62428571, 0.62428571, 0.62428571,\n",
      "       0.62428571, 0.62428571, 0.63126984, 0.63126984, 0.63126984,\n",
      "       0.62992063, 0.63531746, 0.63531746, 0.63468254, 0.63222222,\n",
      "       0.6368254 , 0.6368254 , 0.63706349, 0.63793651, 0.64166667,\n",
      "       0.6415873 , 0.64285714, 0.64396825, 0.65174603, 0.6518254 ,\n",
      "       0.65412698, 0.65380952, 0.66222222, 0.66142857, 0.66063492,\n",
      "       0.66079365, 0.67603175, 0.67404762, 0.67119048, 0.66785714,\n",
      "       0.6934127 , 0.685     , 0.67992063, 0.67515873, 0.71087302,\n",
      "       0.69484127, 0.68547619, 0.68063492, 0.72849206, 0.70492063,\n",
      "       0.69333333, 0.68912698, 0.7415873 , 0.71246032, 0.70190476,\n",
      "       0.69611111, 0.75833333, 0.72206349, 0.70865079, 0.69960317,\n",
      "       0.61611111, 0.61611111, 0.61611111, 0.61611111, 0.62428571,\n",
      "       0.62428571, 0.62428571, 0.62428571, 0.62428571, 0.62428571,\n",
      "       0.62428571, 0.62428571, 0.62992063, 0.62992063, 0.62992063,\n",
      "       0.62992063, 0.63515873, 0.63515873, 0.63452381, 0.63222222,\n",
      "       0.63793651, 0.63801587, 0.63730159, 0.63626984, 0.63968254,\n",
      "       0.64007937, 0.6418254 , 0.64230159, 0.64801587, 0.64809524,\n",
      "       0.65214286, 0.64849206, 0.65722222, 0.65785714, 0.65746032,\n",
      "       0.65587302, 0.66634921, 0.66666667, 0.66761905, 0.66849206,\n",
      "       0.68015873, 0.67920635, 0.67746032, 0.67428571, 0.68984127,\n",
      "       0.69166667, 0.68619048, 0.6815873 , 0.70468254, 0.70373016,\n",
      "       0.695     , 0.68928571, 0.72230159, 0.71452381, 0.70396825,\n",
      "       0.69730159, 0.73849206, 0.72452381, 0.71      , 0.7018254 ]), 'split3_train_score': array([0.6184127 , 0.6184127 , 0.6184127 , 0.6184127 , 0.62611111,\n",
      "       0.62611111, 0.62611111, 0.62611111, 0.62611111, 0.62611111,\n",
      "       0.62611111, 0.62611111, 0.62920635, 0.62920635, 0.62920635,\n",
      "       0.62920635, 0.63468254, 0.63420635, 0.63420635, 0.63420635,\n",
      "       0.6402381 , 0.63936508, 0.63936508, 0.63833333, 0.64325397,\n",
      "       0.64198413, 0.64190476, 0.64111111, 0.64753968, 0.64706349,\n",
      "       0.64611111, 0.64563492, 0.65396825, 0.65396825, 0.65285714,\n",
      "       0.65301587, 0.66896825, 0.6665873 , 0.66198413, 0.66238095,\n",
      "       0.68253968, 0.67293651, 0.67047619, 0.6702381 , 0.69428571,\n",
      "       0.6852381 , 0.67984127, 0.67634921, 0.70801587, 0.69563492,\n",
      "       0.68960317, 0.68515873, 0.72119048, 0.70849206, 0.69801587,\n",
      "       0.69214286, 0.7347619 , 0.71611111, 0.70563492, 0.69650794,\n",
      "       0.6184127 , 0.6184127 , 0.6184127 , 0.6184127 , 0.62611111,\n",
      "       0.62611111, 0.62611111, 0.62611111, 0.62611111, 0.62611111,\n",
      "       0.62611111, 0.62611111, 0.62920635, 0.62920635, 0.62920635,\n",
      "       0.62920635, 0.63444444, 0.63396825, 0.63396825, 0.63420635,\n",
      "       0.63904762, 0.6381746 , 0.63738095, 0.63634921, 0.64301587,\n",
      "       0.64373016, 0.64261905, 0.6418254 , 0.64690476, 0.64722222,\n",
      "       0.64611111, 0.64587302, 0.65174603, 0.65373016, 0.65373016,\n",
      "       0.65214286, 0.65968254, 0.66238095, 0.66015873, 0.65857143,\n",
      "       0.67214286, 0.67373016, 0.66801587, 0.66666667, 0.68428571,\n",
      "       0.68269841, 0.68103175, 0.67619048, 0.69626984, 0.69357143,\n",
      "       0.68960317, 0.68190476, 0.71039683, 0.70285714, 0.69746032,\n",
      "       0.68761905, 0.7234127 , 0.71261905, 0.70428571, 0.69214286]), 'split4_train_score': array([0.61642857, 0.61642857, 0.61642857, 0.61642857, 0.62444444,\n",
      "       0.62444444, 0.62444444, 0.62444444, 0.62444444, 0.62444444,\n",
      "       0.62444444, 0.62444444, 0.63277778, 0.63277778, 0.63277778,\n",
      "       0.63134921, 0.64484127, 0.64484127, 0.64484127, 0.6434127 ,\n",
      "       0.65095238, 0.65047619, 0.6497619 , 0.64833333, 0.65642857,\n",
      "       0.65650794, 0.65531746, 0.65388889, 0.66444444, 0.66277778,\n",
      "       0.66031746, 0.65833333, 0.67198413, 0.67039683, 0.66706349,\n",
      "       0.66396825, 0.68293651, 0.67809524, 0.67825397, 0.67484127,\n",
      "       0.69857143, 0.6897619 , 0.68722222, 0.68095238, 0.71206349,\n",
      "       0.70134921, 0.69896825, 0.69103175, 0.72896825, 0.71301587,\n",
      "       0.70730159, 0.69865079, 0.74650794, 0.72325397, 0.71388889,\n",
      "       0.70333333, 0.76166667, 0.73134921, 0.71849206, 0.70769841,\n",
      "       0.61642857, 0.61642857, 0.61642857, 0.61642857, 0.62444444,\n",
      "       0.62444444, 0.62444444, 0.62444444, 0.62444444, 0.62444444,\n",
      "       0.62444444, 0.62444444, 0.63142857, 0.63142857, 0.63142857,\n",
      "       0.63      , 0.64134921, 0.64134921, 0.64134921, 0.63992063,\n",
      "       0.64920635, 0.64920635, 0.64849206, 0.6468254 , 0.65261905,\n",
      "       0.65436508, 0.6531746 , 0.6518254 , 0.65968254, 0.66031746,\n",
      "       0.65825397, 0.65674603, 0.66690476, 0.66801587, 0.66571429,\n",
      "       0.66666667, 0.67896825, 0.67753968, 0.67730159, 0.67595238,\n",
      "       0.68777778, 0.68785714, 0.6847619 , 0.6815873 , 0.7015873 ,\n",
      "       0.7       , 0.69539683, 0.6931746 , 0.71444444, 0.71039683,\n",
      "       0.70222222, 0.69920635, 0.73015873, 0.72111111, 0.70801587,\n",
      "       0.70277778, 0.74698413, 0.73230159, 0.71666667, 0.70690476]), 'split5_train_score': array([0.61888889, 0.61888889, 0.61888889, 0.61888889, 0.62746032,\n",
      "       0.62746032, 0.62746032, 0.62746032, 0.62746032, 0.62746032,\n",
      "       0.62746032, 0.62746032, 0.63404762, 0.63404762, 0.63404762,\n",
      "       0.63277778, 0.63857143, 0.63857143, 0.63857143, 0.63730159,\n",
      "       0.64928571, 0.64928571, 0.64944444, 0.64825397, 0.65626984,\n",
      "       0.65539683, 0.65460317, 0.65333333, 0.66428571, 0.66388889,\n",
      "       0.66134921, 0.65944444, 0.67420635, 0.67174603, 0.66952381,\n",
      "       0.66833333, 0.6852381 , 0.68095238, 0.67698413, 0.67626984,\n",
      "       0.69690476, 0.69007937, 0.68468254, 0.68436508, 0.70992063,\n",
      "       0.69547619, 0.69142857, 0.69015873, 0.72277778, 0.70492063,\n",
      "       0.69873016, 0.69825397, 0.73420635, 0.71261905, 0.70603175,\n",
      "       0.70388889, 0.74603175, 0.72055556, 0.71246032, 0.70849206,\n",
      "       0.61888889, 0.61888889, 0.61888889, 0.61888889, 0.62746032,\n",
      "       0.62746032, 0.62746032, 0.62746032, 0.62746032, 0.62746032,\n",
      "       0.62746032, 0.62746032, 0.63420635, 0.63420635, 0.63420635,\n",
      "       0.63420635, 0.6384127 , 0.6384127 , 0.6384127 , 0.63730159,\n",
      "       0.64531746, 0.64428571, 0.64365079, 0.64261905, 0.65214286,\n",
      "       0.65095238, 0.64984127, 0.64873016, 0.6602381 , 0.66039683,\n",
      "       0.65880952, 0.65722222, 0.66619048, 0.66547619, 0.66253968,\n",
      "       0.66079365, 0.67650794, 0.67738095, 0.67428571, 0.67166667,\n",
      "       0.68753968, 0.68777778, 0.68396825, 0.67793651, 0.6965873 ,\n",
      "       0.6965873 , 0.6915873 , 0.68809524, 0.7118254 , 0.7081746 ,\n",
      "       0.70103175, 0.69531746, 0.72634921, 0.71809524, 0.70698413,\n",
      "       0.69936508, 0.7397619 , 0.72714286, 0.71460317, 0.70373016]), 'split6_train_score': array([0.61753968, 0.61753968, 0.61753968, 0.61753968, 0.62587302,\n",
      "       0.62587302, 0.62587302, 0.62587302, 0.62587302, 0.62587302,\n",
      "       0.62587302, 0.62587302, 0.63531746, 0.63531746, 0.63531746,\n",
      "       0.63531746, 0.64095238, 0.6402381 , 0.6402381 , 0.63904762,\n",
      "       0.64634921, 0.64619048, 0.64563492, 0.64571429, 0.65380952,\n",
      "       0.65444444, 0.65412698, 0.65325397, 0.66126984, 0.66087302,\n",
      "       0.6615873 , 0.65960317, 0.67396825, 0.67174603, 0.66888889,\n",
      "       0.66690476, 0.68301587, 0.67857143, 0.67730159, 0.6747619 ,\n",
      "       0.69761905, 0.69253968, 0.68626984, 0.685     , 0.70761905,\n",
      "       0.70134921, 0.69746032, 0.69269841, 0.72357143, 0.71111111,\n",
      "       0.70515873, 0.69896825, 0.73515873, 0.71904762, 0.71119048,\n",
      "       0.7034127 , 0.74849206, 0.72944444, 0.71587302, 0.70587302,\n",
      "       0.61753968, 0.61753968, 0.61753968, 0.61753968, 0.62587302,\n",
      "       0.62587302, 0.62587302, 0.62587302, 0.62587302, 0.62587302,\n",
      "       0.62587302, 0.62587302, 0.63531746, 0.63531746, 0.63531746,\n",
      "       0.63531746, 0.64063492, 0.6402381 , 0.6402381 , 0.63904762,\n",
      "       0.64587302, 0.64515873, 0.64515873, 0.64396825, 0.65396825,\n",
      "       0.65357143, 0.65230159, 0.6518254 , 0.65920635, 0.65928571,\n",
      "       0.66119048, 0.65904762, 0.66888889, 0.66825397, 0.66722222,\n",
      "       0.66571429, 0.67730159, 0.6752381 , 0.67738095, 0.67444444,\n",
      "       0.68873016, 0.68738095, 0.68325397, 0.68388889, 0.70134921,\n",
      "       0.69555556, 0.69492063, 0.69119048, 0.71801587, 0.70698413,\n",
      "       0.70380952, 0.69785714, 0.72928571, 0.71634921, 0.71222222,\n",
      "       0.70253968, 0.7431746 , 0.72865079, 0.71746032, 0.70563492]), 'split7_train_score': array([0.61634921, 0.61634921, 0.61634921, 0.61634921, 0.62444444,\n",
      "       0.62444444, 0.62444444, 0.62444444, 0.62444444, 0.62444444,\n",
      "       0.62444444, 0.62444444, 0.62738095, 0.62738095, 0.62738095,\n",
      "       0.62738095, 0.62992063, 0.62992063, 0.62992063, 0.62992063,\n",
      "       0.63992063, 0.63960317, 0.63928571, 0.63928571, 0.64746032,\n",
      "       0.64698413, 0.64587302, 0.64785714, 0.65698413, 0.65595238,\n",
      "       0.65587302, 0.65666667, 0.66888889, 0.665     , 0.66460317,\n",
      "       0.66174603, 0.67888889, 0.67468254, 0.67246032, 0.66984127,\n",
      "       0.68920635, 0.68174603, 0.68      , 0.67730159, 0.70214286,\n",
      "       0.69087302, 0.68833333, 0.68349206, 0.71722222, 0.70293651,\n",
      "       0.6947619 , 0.68936508, 0.73087302, 0.71174603, 0.70119048,\n",
      "       0.69611111, 0.74690476, 0.72301587, 0.70698413, 0.69968254,\n",
      "       0.61634921, 0.61634921, 0.61634921, 0.61634921, 0.62444444,\n",
      "       0.62444444, 0.62444444, 0.62444444, 0.62444444, 0.62444444,\n",
      "       0.62444444, 0.62444444, 0.62738095, 0.62738095, 0.62738095,\n",
      "       0.62738095, 0.62952381, 0.62952381, 0.62952381, 0.62952381,\n",
      "       0.63301587, 0.63269841, 0.63396825, 0.63396825, 0.64126984,\n",
      "       0.64126984, 0.64468254, 0.64468254, 0.65301587, 0.65325397,\n",
      "       0.6552381 , 0.65492063, 0.66309524, 0.66079365, 0.66325397,\n",
      "       0.66222222, 0.6731746 , 0.6715873 , 0.67261905, 0.6697619 ,\n",
      "       0.68507937, 0.68349206, 0.67952381, 0.67642857, 0.69650794,\n",
      "       0.69285714, 0.68587302, 0.6834127 , 0.7084127 , 0.70047619,\n",
      "       0.69190476, 0.68761905, 0.72134921, 0.70849206, 0.7015873 ,\n",
      "       0.69674603, 0.73642857, 0.71626984, 0.70547619, 0.70031746]), 'split8_train_score': array([0.61793651, 0.61793651, 0.61793651, 0.61793651, 0.62603175,\n",
      "       0.62603175, 0.62603175, 0.62603175, 0.62603175, 0.62603175,\n",
      "       0.62603175, 0.62603175, 0.63230159, 0.63230159, 0.63230159,\n",
      "       0.63103175, 0.64214286, 0.64214286, 0.64214286, 0.64087302,\n",
      "       0.645     , 0.64507937, 0.645     , 0.64380952, 0.65309524,\n",
      "       0.65198413, 0.65055556, 0.64952381, 0.65984127, 0.65746032,\n",
      "       0.65484127, 0.65174603, 0.66968254, 0.66380952, 0.66087302,\n",
      "       0.65714286, 0.67873016, 0.66904762, 0.66484127, 0.66579365,\n",
      "       0.69166667, 0.68063492, 0.67515873, 0.67087302, 0.70484127,\n",
      "       0.69269841, 0.68380952, 0.68015873, 0.71785714, 0.70261905,\n",
      "       0.69412698, 0.68896825, 0.73190476, 0.71206349, 0.70293651,\n",
      "       0.69460317, 0.74928571, 0.72404762, 0.70960317, 0.69944444,\n",
      "       0.61793651, 0.61793651, 0.61793651, 0.61793651, 0.62603175,\n",
      "       0.62603175, 0.62603175, 0.62603175, 0.62603175, 0.62603175,\n",
      "       0.62603175, 0.62603175, 0.63166667, 0.63166667, 0.63166667,\n",
      "       0.63166667, 0.63833333, 0.63833333, 0.63769841, 0.63650794,\n",
      "       0.63936508, 0.63936508, 0.64253968, 0.64134921, 0.64722222,\n",
      "       0.64674603, 0.64992063, 0.64896825, 0.65603175, 0.65468254,\n",
      "       0.65380952, 0.65126984, 0.6631746 , 0.66      , 0.65960317,\n",
      "       0.65690476, 0.67039683, 0.66603175, 0.66388889, 0.6602381 ,\n",
      "       0.67650794, 0.67325397, 0.66801587, 0.66833333, 0.69111111,\n",
      "       0.68761905, 0.67984127, 0.67515873, 0.69944444, 0.6965873 ,\n",
      "       0.68801587, 0.68388889, 0.71190476, 0.70730159, 0.69595238,\n",
      "       0.69      , 0.72388889, 0.7165873 , 0.70436508, 0.69761905]), 'split9_train_score': array([0.61714286, 0.61714286, 0.61714286, 0.61714286, 0.62515873,\n",
      "       0.62515873, 0.62515873, 0.62515873, 0.62833333, 0.62833333,\n",
      "       0.62833333, 0.62833333, 0.63404762, 0.63404762, 0.63404762,\n",
      "       0.63404762, 0.63888889, 0.63896825, 0.63896825, 0.63896825,\n",
      "       0.6465873 , 0.64603175, 0.64611111, 0.64555556, 0.65484127,\n",
      "       0.65365079, 0.65261905, 0.6515873 , 0.66293651, 0.65904762,\n",
      "       0.65912698, 0.65865079, 0.67206349, 0.6684127 , 0.66865079,\n",
      "       0.66626984, 0.68492063, 0.67920635, 0.67746032, 0.67420635,\n",
      "       0.69547619, 0.68896825, 0.68706349, 0.68055556, 0.70785714,\n",
      "       0.69857143, 0.69563492, 0.68706349, 0.72746032, 0.71285714,\n",
      "       0.70404762, 0.69611111, 0.74095238, 0.72246032, 0.71261905,\n",
      "       0.70031746, 0.75746032, 0.73238095, 0.71730159, 0.7047619 ,\n",
      "       0.61714286, 0.61714286, 0.61714286, 0.61714286, 0.62515873,\n",
      "       0.62515873, 0.62515873, 0.62515873, 0.62833333, 0.62833333,\n",
      "       0.62833333, 0.62833333, 0.63261905, 0.63261905, 0.63261905,\n",
      "       0.63261905, 0.63873016, 0.63880952, 0.63880952, 0.63753968,\n",
      "       0.64547619, 0.64587302, 0.64595238, 0.64492063, 0.65015873,\n",
      "       0.65285714, 0.65198413, 0.6502381 , 0.65714286, 0.65753968,\n",
      "       0.6584127 , 0.65690476, 0.66452381, 0.66611111, 0.66698413,\n",
      "       0.66436508, 0.67603175, 0.67611111, 0.67722222, 0.67285714,\n",
      "       0.68428571, 0.68373016, 0.68515873, 0.6781746 , 0.69246032,\n",
      "       0.69166667, 0.6915873 , 0.68253968, 0.70880952, 0.70380952,\n",
      "       0.69825397, 0.69031746, 0.72      , 0.71325397, 0.70722222,\n",
      "       0.6947619 , 0.73380952, 0.72253968, 0.71349206, 0.69968254]), 'mean_train_score': array([0.61757143, 0.61757143, 0.61757143, 0.61757143, 0.62571429,\n",
      "       0.62571429, 0.62571429, 0.62571429, 0.62645238, 0.62645238,\n",
      "       0.62645238, 0.62645238, 0.63260317, 0.63260317, 0.63260317,\n",
      "       0.63194444, 0.63880159, 0.63869048, 0.63861905, 0.63761905,\n",
      "       0.64492063, 0.64454762, 0.64439683, 0.64376984, 0.65169841,\n",
      "       0.65102381, 0.65048413, 0.64989683, 0.65935714, 0.65796032,\n",
      "       0.65729365, 0.65596825, 0.66957143, 0.66675397, 0.66493651,\n",
      "       0.66319048, 0.68110317, 0.67647619, 0.67365079, 0.67168254,\n",
      "       0.69414286, 0.68683333, 0.68212698, 0.67857937, 0.70722222,\n",
      "       0.69626984, 0.69088889, 0.68559524, 0.7221746 , 0.70701587,\n",
      "       0.69888095, 0.69299206, 0.73623016, 0.71625397, 0.70601587,\n",
      "       0.69856349, 0.75064286, 0.72571429, 0.71211905, 0.70263492,\n",
      "       0.61757143, 0.61757143, 0.61757143, 0.61757143, 0.62571429,\n",
      "       0.62571429, 0.62571429, 0.62571429, 0.62603175, 0.62603175,\n",
      "       0.62603175, 0.62603175, 0.6317381 , 0.6317381 , 0.6317381 ,\n",
      "       0.63159524, 0.63771429, 0.63760317, 0.63747619, 0.63642857,\n",
      "       0.64265873, 0.64243651, 0.64257143, 0.64161111, 0.6486746 ,\n",
      "       0.64890476, 0.64907937, 0.64816667, 0.65598413, 0.65572222,\n",
      "       0.656     , 0.65446825, 0.66419048, 0.66383333, 0.66333333,\n",
      "       0.66187302, 0.67396825, 0.67290476, 0.67243651, 0.67004762,\n",
      "       0.68501587, 0.68353968, 0.67977778, 0.67689683, 0.69657937,\n",
      "       0.69371429, 0.68935714, 0.68488889, 0.7099127 , 0.70418254,\n",
      "       0.6971746 , 0.69134127, 0.72334921, 0.71371429, 0.70462698,\n",
      "       0.69709524, 0.73765873, 0.72396032, 0.71136508, 0.7017381 ]), 'std_train_score': array([0.00098885, 0.00098885, 0.00098885, 0.00098885, 0.00104509,\n",
      "       0.00104509, 0.00104509, 0.00104509, 0.00187243, 0.00187243,\n",
      "       0.00187243, 0.00187243, 0.00249762, 0.00249762, 0.00249762,\n",
      "       0.00248712, 0.00422897, 0.00424648, 0.00429279, 0.00408017,\n",
      "       0.00455683, 0.00441502, 0.00431679, 0.00395048, 0.00562297,\n",
      "       0.005479  , 0.00514472, 0.00452451, 0.00566018, 0.00520614,\n",
      "       0.00483677, 0.0046269 , 0.00709492, 0.00622654, 0.0055578 ,\n",
      "       0.0053989 , 0.00599082, 0.00602581, 0.00620278, 0.00501695,\n",
      "       0.00572528, 0.00714475, 0.00599864, 0.00557654, 0.00635674,\n",
      "       0.00615292, 0.00649416, 0.00569134, 0.00712345, 0.00632089,\n",
      "       0.0060114 , 0.00504116, 0.007382  , 0.00565888, 0.00535744,\n",
      "       0.00463433, 0.00798236, 0.00555998, 0.00432071, 0.00413899,\n",
      "       0.00098885, 0.00098885, 0.00098885, 0.00098885, 0.00104509,\n",
      "       0.00104509, 0.00104509, 0.00104509, 0.00128316, 0.00128316,\n",
      "       0.00128316, 0.00128316, 0.00226586, 0.00226586, 0.00226586,\n",
      "       0.00232513, 0.00348535, 0.00348499, 0.00352524, 0.00324622,\n",
      "       0.00493243, 0.00494286, 0.00462545, 0.00444573, 0.00532859,\n",
      "       0.00533187, 0.00435297, 0.00395561, 0.00489782, 0.00467452,\n",
      "       0.00433862, 0.00437388, 0.00583145, 0.00557695, 0.00501371,\n",
      "       0.00537005, 0.00666326, 0.00614003, 0.0063102 , 0.00609958,\n",
      "       0.0069987 , 0.00620097, 0.00638707, 0.00574314, 0.00714748,\n",
      "       0.00540089, 0.00547693, 0.0061136 , 0.00763354, 0.0056243 ,\n",
      "       0.00551473, 0.00561111, 0.00727157, 0.00569162, 0.00482446,\n",
      "       0.00491631, 0.00821106, 0.00656532, 0.0047739 , 0.00426087])}\n"
     ]
    }
   ],
   "source": [
    "# Dtree\n",
    "params = {'criterion': ['gini', 'entropy'],\n",
    "          'max_depth': range(1, 16),\n",
    "          'min_samples_leaf': range(0, 25, 5)[1:]}\n",
    "\n",
    "tree = GridSearchCV(param_grid=params, estimator=DecisionTreeClassifier(random_state=rs),return_train_score=True, cv=10)\n",
    "tree.fit(x_train, y_train)\n",
    "\n",
    "result_tree = tree.cv_results_\n",
    "print(result_tree)\n"
   ]
  },
  {
   "cell_type": "code",
   "execution_count": 36,
   "id": "37a4f66f",
   "metadata": {},
   "outputs": [
    {
     "name": "stderr",
     "output_type": "stream",
     "text": [
      "C:\\Users\\John\\anaconda3\\lib\\site-packages\\sklearn\\linear_model\\_logistic.py:814: ConvergenceWarning: lbfgs failed to converge (status=1):\n",
      "STOP: TOTAL NO. of ITERATIONS REACHED LIMIT.\n",
      "\n",
      "Increase the number of iterations (max_iter) or scale the data as shown in:\n",
      "    https://scikit-learn.org/stable/modules/preprocessing.html\n",
      "Please also refer to the documentation for alternative solver options:\n",
      "    https://scikit-learn.org/stable/modules/linear_model.html#logistic-regression\n",
      "  n_iter_i = _check_optimize_result(\n"
     ]
    },
    {
     "name": "stdout",
     "output_type": "stream",
     "text": [
      "Original feature set 151\n",
      "Number of features after elimination 59\n"
     ]
    }
   ],
   "source": [
    "from sklearn.feature_selection import RFECV\n",
    "from sklearn.linear_model import LogisticRegression\n",
    "\n",
    "rfe = RFECV(estimator = LogisticRegression(random_state=9), cv=10)\n",
    "rfe_model = rfe.fit(x_standardlize, y_train) # run the RFECV\n",
    "\n",
    "print(\"Original feature set\", x_standardlize.shape[1])\n",
    "print(\"Number of features after elimination\", rfe.n_features_)\n",
    "X_train_sel = rfe.transform(x_standardlize)\n",
    "X_test_sel = rfe.transform(x_test)"
   ]
  },
  {
   "cell_type": "code",
   "execution_count": 37,
   "id": "03f0668b",
   "metadata": {},
   "outputs": [
    {
     "name": "stdout",
     "output_type": "stream",
     "text": [
      "Train accuracy: 0.6502142857142857\n",
      "Test accuracy: 0.6398333333333334\n",
      "              precision    recall  f1-score   support\n",
      "\n",
      "       False       0.64      0.74      0.69      3203\n",
      "        True       0.64      0.52      0.58      2797\n",
      "\n",
      "    accuracy                           0.64      6000\n",
      "   macro avg       0.64      0.63      0.63      6000\n",
      "weighted avg       0.64      0.64      0.64      6000\n",
      "\n",
      "{'C': 1000}\n"
     ]
    }
   ],
   "source": [
    "params = {'C': [pow(10, x) for x in range(-6, 4)]}\n",
    "\n",
    "regression = GridSearchCV(param_grid=params, estimator=LogisticRegression(random_state=rs), cv=10, n_jobs=-1)\n",
    "regression.fit(X_train_sel, y_train)\n",
    "print(\"Train accuracy:\", regression.score(X_train_sel, y_train))\n",
    "print(\"Test accuracy:\", regression.score(X_test_sel, y_test))\n",
    "y_pred = regression.predict(X_test_sel)\n",
    "print(classification_report(y_test, y_pred))\n",
    "print(regression.best_params_)"
   ]
  },
  {
   "cell_type": "code",
   "execution_count": 38,
   "id": "1c1fdfd4",
   "metadata": {},
   "outputs": [
    {
     "name": "stdout",
     "output_type": "stream",
     "text": [
      "Fitting 10 folds for each of 4 candidates, totalling 40 fits\n",
      "Train accuracy: 0.6536428571428572\n",
      "Test accuracy: 0.638\n",
      "              precision    recall  f1-score   support\n",
      "\n",
      "       False       0.65      0.69      0.67      3203\n",
      "        True       0.62      0.57      0.60      2797\n",
      "\n",
      "    accuracy                           0.64      6000\n",
      "   macro avg       0.64      0.63      0.63      6000\n",
      "weighted avg       0.64      0.64      0.64      6000\n",
      "\n",
      "{'alpha': 0.001, 'hidden_layer_sizes': (3, 5, 7, 9)}\n"
     ]
    }
   ],
   "source": [
    "params = {'hidden_layer_sizes': [(3,5,7,9), (5,5,7,9)], 'alpha': [0.01,0.001]}\n",
    "\n",
    "NN = GridSearchCV(param_grid=params, estimator=MLPClassifier(random_state=rs), cv = 10, n_jobs=-1, verbose = 10, return_train_score = True)\n",
    "NN.fit(X_train_sel, y_train)\n",
    "\n",
    "print(\"Train accuracy:\", NN.score(X_train_sel, y_train))\n",
    "print(\"Test accuracy:\", NN.score(X_test_sel, y_test))\n",
    "\n",
    "y_pred = NN.predict(X_test_sel)\n",
    "print(classification_report(y_test, y_pred))\n",
    "\n",
    "print(NN.best_params_)"
   ]
  },
  {
   "cell_type": "code",
   "execution_count": 39,
   "id": "c4921850",
   "metadata": {},
   "outputs": [
    {
     "name": "stdout",
     "output_type": "stream",
     "text": [
      "Feature selection\n",
      "128\n",
      "6\n",
      "logistic\n",
      "59\n"
     ]
    }
   ],
   "source": [
    "NN_best = NN.best_estimator_\n",
    "print('Feature selection')\n",
    "print(NN_best.n_iter_)\n",
    "print(NN_best.n_layers_)\n",
    "print(NN_best.out_activation_)\n",
    "print(NN_best.n_features_in_)"
   ]
  },
  {
   "cell_type": "code",
   "execution_count": 40,
   "id": "3222dd41",
   "metadata": {},
   "outputs": [
    {
     "name": "stdout",
     "output_type": "stream",
     "text": [
      "ROC index on test for DTree: 0.6159844559383066\n",
      "ROC index on test for Regression: 0.686657273286094\n",
      "ROC index on test for NN: 0.6912902645010917\n"
     ]
    },
    {
     "name": "stderr",
     "output_type": "stream",
     "text": [
      "C:\\Users\\John\\anaconda3\\lib\\site-packages\\sklearn\\base.py:450: UserWarning: X does not have valid feature names, but DecisionTreeClassifier was fitted with feature names\n",
      "  warnings.warn(\n"
     ]
    }
   ],
   "source": [
    "from sklearn.metrics import roc_auc_score\n",
    "\n",
    "y_pred_proba_nn_1 = tree.predict_proba(x_test)\n",
    "y_pred_proba_cv_2 = regression.predict_proba(X_test_sel)\n",
    "y_pred_proba_rfe_cv = NN.predict_proba(X_test_sel)\n",
    "\n",
    "roc_index_nn_1 = roc_auc_score(y_test, y_pred_proba_nn_1[:, 1])\n",
    "roc_index_cv_2 = roc_auc_score(y_test, y_pred_proba_cv_2[:, 1])\n",
    "roc_index_rfe_cv = roc_auc_score(y_test, y_pred_proba_rfe_cv[:, 1])\n",
    "\n",
    "print(\"ROC index on test for DTree:\", roc_index_nn_1)\n",
    "print(\"ROC index on test for Regression:\", roc_index_cv_2)\n",
    "print(\"ROC index on test for NN:\", roc_index_rfe_cv)\n",
    "\n",
    "from sklearn.metrics import roc_curve\n",
    "\n",
    "fpr_nn_1, tpr_nn_1, thresholds_nn_1 = roc_curve(y_test, y_pred_proba_nn_1[:,1])\n",
    "fpr_cv_2, tpr_cv_2, thresholds_cv_2 = roc_curve(y_test, y_pred_proba_cv_2[:,1])\n",
    "fpr_rfe_cv, tpr_rfe_cv, thresholds_rfe_cv = roc_curve(y_test, y_pred_proba_rfe_cv[:,1])\n"
   ]
  },
  {
   "cell_type": "code",
   "execution_count": 45,
   "id": "e048a26b",
   "metadata": {
    "scrolled": true
   },
   "outputs": [
    {
     "data": {
      "image/png": "[encoded data removed]",
      "text/plain": [
       "<Figure size 432x288 with 1 Axes>"
      ]
     },
     "metadata": {
      "needs_background": "light"
     },
     "output_type": "display_data"
    }
   ],
   "source": [
    "import matplotlib.pyplot as plt\n",
    "\n",
    "plt.plot(fpr_nn_1, tpr_nn_1, label='DTree {:.3f}'.format(roc_index_nn_1), color='red', lw=0.5)\n",
    "plt.plot(fpr_cv_2, tpr_cv_2, label='Regression {:.3f}'.format(roc_index_cv_2), color='blue', lw=0.5)\n",
    "plt.plot(fpr_rfe_cv, tpr_rfe_cv, label='NN {:.3f}'.format(roc_index_rfe_cv), color='green', lw=0.5)\n",
    "\n",
    "\n",
    "plt.plot([0, 1], [0, 1], color='navy', lw=0.5, linestyle='--')\n",
    "plt.xlim([0.0, 1.0])\n",
    "plt.ylim([0.0, 1.0])\n",
    "plt.xlabel('False Positive Rate')\n",
    "plt.ylabel('True Positive Rate')\n",
    "plt.title('Receiver operating characteristic example')\n",
    "plt.legend(loc=\"lower right\")\n",
    "plt.show()"
   ]
  },
  {
   "cell_type": "code",
   "execution_count": 44,
   "id": "2790c8c8",
   "metadata": {},
   "outputs": [
    {
     "name": "stdout",
     "output_type": "stream",
     "text": [
      "DTree Train accuracy      : 0.647\n",
      "DTree Test accuracy       : 0.5948333333333333 \n",
      "\n",
      "Regression Train accuracy : 0.6502142857142857\n",
      "Regression Test accuracy  : 0.6398333333333334 \n",
      "\n",
      "NN Train accuracy         : 0.6536428571428572\n",
      "NN Test accuracy          : 0.638\n"
     ]
    },
    {
     "name": "stderr",
     "output_type": "stream",
     "text": [
      "C:\\Users\\John\\anaconda3\\lib\\site-packages\\sklearn\\base.py:450: UserWarning: X does not have valid feature names, but DecisionTreeClassifier was fitted with feature names\n",
      "  warnings.warn(\n"
     ]
    }
   ],
   "source": [
    "print(\"DTree Train accuracy      :\", tree.score(x_train, y_train))\n",
    "print(\"DTree Test accuracy       :\", tree.score(x_test, y_test),'\\n')\n",
    "\n",
    "print(\"Regression Train accuracy :\", regression.score(X_train_sel, y_train))\n",
    "print(\"Regression Test accuracy  :\", regression.score(X_test_sel, y_test),'\\n')\n",
    "\n",
    "print(\"NN Train accuracy         :\", NN.score(X_train_sel, y_train))\n",
    "print(\"NN Test accuracy          :\", NN.score(X_test_sel, y_test))"
   ]
  },
  {
   "cell_type": "code",
   "execution_count": 69,
   "id": "3751bf31",
   "metadata": {},
   "outputs": [
    {
     "name": "stdout",
     "output_type": "stream",
     "text": [
      "Feature selection\n",
      "128\n",
      "6\n",
      "logistic\n",
      "59\n"
     ]
    }
   ],
   "source": [
    "rfe_cv_best = NN.best_estimator_\n",
    "print('Feature selection')\n",
    "print(rfe_cv_best.n_iter_)\n",
    "print(rfe_cv_best.n_layers_)\n",
    "print(rfe_cv_best.out_activation_)\n",
    "print(rfe_cv_best.n_features_in_)"
   ]
  }
 ],
 "metadata": {
  "kernelspec": {
   "display_name": "Python 3 (ipykernel)",
   "language": "python",
   "name": "python3"
  },
  "language_info": {
   "codemirror_mode": {
    "name": "ipython",
    "version": 3
   },
   "file_extension": ".py",
   "mimetype": "text/x-python",
   "name": "python",
   "nbconvert_exporter": "python",
   "pygments_lexer": "ipython3",
   "version": "3.9.12"
  },
  "vscode": {
   "interpreter": {
    "hash": "1445c6c1a0e1268b1047d35eededca9512247ec515644c5d756f4d61d21fe4b3"
   }
  }
 },
 "nbformat": 4,
 "nbformat_minor": 5
}
